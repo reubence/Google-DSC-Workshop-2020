{
  "nbformat": 4,
  "nbformat_minor": 0,
  "metadata": {
    "colab": {
      "name": "Google-DSC-Workshop-2020",
      "provenance": [],
      "collapsed_sections": []
    },
    "kernelspec": {
      "name": "python3",
      "display_name": "Python 3"
    },
    "accelerator": "GPU"
  },
  "cells": [
    {
      "cell_type": "code",
      "metadata": {
        "id": "RVTWMHocT_gM",
        "colab_type": "code",
        "outputId": "ab2cbe6d-8820-4ef3-814b-dbb2b8d09d2f",
        "colab": {
          "base_uri": "https://localhost:8080/",
          "height": 33
        }
      },
      "source": [
        "\n",
        "\n",
        "# df.apply / df.applymap(f)\n",
        "# concat\n",
        "\n",
        "# Normalize / Standardize \n",
        "\n",
        "%reset\n"
      ],
      "execution_count": 0,
      "outputs": [
        {
          "output_type": "stream",
          "text": [
            "Once deleted, variables cannot be recovered. Proceed (y/[n])? Y\n"
          ],
          "name": "stdout"
        }
      ]
    },
    {
      "cell_type": "markdown",
      "metadata": {
        "id": "Adn0Shg-ote8",
        "colab_type": "text"
      },
      "source": [
        "**IMPORTING LIBRARIES**\n",
        "\n"
      ]
    },
    {
      "cell_type": "code",
      "metadata": {
        "id": "8fR29WZwQbpe",
        "colab_type": "code",
        "colab": {}
      },
      "source": [
        "from google.colab import files\n",
        "import numpy as np\n",
        "import seaborn as sns\n",
        "from sklearn.datasets import load_iris\n",
        "import pandas as pd\n",
        "from sklearn.linear_model import LinearRegression\n",
        "from sklearn.model_selection import train_test_split as tts\n",
        "from sklearn.preprocessing import LabelEncoder\n",
        "from sklearn.linear_model import LogisticRegression\n",
        "from sklearn.neighbors import KNeighborsClassifier\n",
        "from sklearn.svm import LinearSVC\n",
        "from sklearn.cluster import KMeans\n",
        "import numpy\n",
        "from sklearn.metrics import classification_report,confusion_matrix\n",
        "import matplotlib.pyplot as plt"
      ],
      "execution_count": 0,
      "outputs": []
    },
    {
      "cell_type": "markdown",
      "metadata": {
        "colab_type": "text",
        "id": "85Wv5iTkomi5"
      },
      "source": [
        "**CREATING A DATASET**\n",
        "\n"
      ]
    },
    {
      "cell_type": "code",
      "metadata": {
        "id": "u5GSqZLAokvY",
        "colab_type": "code",
        "outputId": "97727540-4024-43b3-d110-f60c0beb6937",
        "colab": {
          "base_uri": "https://localhost:8080/",
          "height": 67
        }
      },
      "source": [
        "data = {'Name':['Reuben', 'Nrutya', 'Hriday', 'Kedar', 'Malhar', 'KKay'],\n",
        "        'Age': [21, 15, 21, 21, 21, 23],\n",
        "        'Shoe-Size': [11, 5, 10, 9, 8, 10]}\n",
        "data"
      ],
      "execution_count": 0,
      "outputs": [
        {
          "output_type": "execute_result",
          "data": {
            "text/plain": [
              "{'Age': [21, 15, 21, 21, 21, 23],\n",
              " 'Name': ['Reuben', 'Nrutya', 'Hriday', 'Kedar', 'Malhar', 'KKay'],\n",
              " 'Shoe-Size': [11, 5, 10, 9, 8, 10]}"
            ]
          },
          "metadata": {
            "tags": []
          },
          "execution_count": 370
        }
      ]
    },
    {
      "cell_type": "code",
      "metadata": {
        "id": "XucSyYqHo9YA",
        "colab_type": "code",
        "outputId": "7f468d53-69f1-4fc3-f492-79deb18adc47",
        "colab": {
          "base_uri": "https://localhost:8080/",
          "height": 226
        }
      },
      "source": [
        "dataframe = pd.DataFrame(data)\n",
        "dataframe.head(10)"
      ],
      "execution_count": 0,
      "outputs": [
        {
          "output_type": "execute_result",
          "data": {
            "text/html": [
              "<div>\n",
              "<style scoped>\n",
              "    .dataframe tbody tr th:only-of-type {\n",
              "        vertical-align: middle;\n",
              "    }\n",
              "\n",
              "    .dataframe tbody tr th {\n",
              "        vertical-align: top;\n",
              "    }\n",
              "\n",
              "    .dataframe thead th {\n",
              "        text-align: right;\n",
              "    }\n",
              "</style>\n",
              "<table border=\"1\" class=\"dataframe\">\n",
              "  <thead>\n",
              "    <tr style=\"text-align: right;\">\n",
              "      <th></th>\n",
              "      <th>Name</th>\n",
              "      <th>Age</th>\n",
              "      <th>Shoe-Size</th>\n",
              "    </tr>\n",
              "  </thead>\n",
              "  <tbody>\n",
              "    <tr>\n",
              "      <th>0</th>\n",
              "      <td>Reuben</td>\n",
              "      <td>21</td>\n",
              "      <td>11</td>\n",
              "    </tr>\n",
              "    <tr>\n",
              "      <th>1</th>\n",
              "      <td>Nrutya</td>\n",
              "      <td>15</td>\n",
              "      <td>5</td>\n",
              "    </tr>\n",
              "    <tr>\n",
              "      <th>2</th>\n",
              "      <td>Hriday</td>\n",
              "      <td>21</td>\n",
              "      <td>10</td>\n",
              "    </tr>\n",
              "    <tr>\n",
              "      <th>3</th>\n",
              "      <td>Kedar</td>\n",
              "      <td>21</td>\n",
              "      <td>9</td>\n",
              "    </tr>\n",
              "    <tr>\n",
              "      <th>4</th>\n",
              "      <td>Malhar</td>\n",
              "      <td>21</td>\n",
              "      <td>8</td>\n",
              "    </tr>\n",
              "    <tr>\n",
              "      <th>5</th>\n",
              "      <td>KKay</td>\n",
              "      <td>23</td>\n",
              "      <td>10</td>\n",
              "    </tr>\n",
              "  </tbody>\n",
              "</table>\n",
              "</div>"
            ],
            "text/plain": [
              "     Name  Age  Shoe-Size\n",
              "0  Reuben   21         11\n",
              "1  Nrutya   15          5\n",
              "2  Hriday   21         10\n",
              "3   Kedar   21          9\n",
              "4  Malhar   21          8\n",
              "5    KKay   23         10"
            ]
          },
          "metadata": {
            "tags": []
          },
          "execution_count": 371
        }
      ]
    },
    {
      "cell_type": "markdown",
      "metadata": {
        "colab_type": "text",
        "id": "J9g6ej9eo_U7"
      },
      "source": [
        "**IMPORTING DATASET**\n",
        "\n"
      ]
    },
    {
      "cell_type": "code",
      "metadata": {
        "id": "lQQPB5hh_lYI",
        "colab_type": "code",
        "outputId": "c41c6818-b1d3-404f-b7e7-66ae8dd8d45e",
        "colab": {
          "base_uri": "https://localhost:8080/",
          "height": 316
        }
      },
      "source": [
        "url = \"https://raw.githubusercontent.com/reubence/Google-DSC-Workshop-2020/master/datasets/WorkShopDataset2.csv\"\n",
        "df = pd.read_csv(url)\n",
        "\n",
        "df.head(10) "
      ],
      "execution_count": 0,
      "outputs": [
        {
          "output_type": "execute_result",
          "data": {
            "text/html": [
              "<div>\n",
              "<style scoped>\n",
              "    .dataframe tbody tr th:only-of-type {\n",
              "        vertical-align: middle;\n",
              "    }\n",
              "\n",
              "    .dataframe tbody tr th {\n",
              "        vertical-align: top;\n",
              "    }\n",
              "\n",
              "    .dataframe thead th {\n",
              "        text-align: right;\n",
              "    }\n",
              "</style>\n",
              "<table border=\"1\" class=\"dataframe\">\n",
              "  <thead>\n",
              "    <tr style=\"text-align: right;\">\n",
              "      <th></th>\n",
              "      <th>PID</th>\n",
              "      <th>ST_NUM</th>\n",
              "      <th>ST_NAME</th>\n",
              "      <th>OWN_OCCUPIED</th>\n",
              "      <th>NUM_BEDROOMS</th>\n",
              "      <th>NUM_BATH</th>\n",
              "      <th>SQ_FT</th>\n",
              "    </tr>\n",
              "  </thead>\n",
              "  <tbody>\n",
              "    <tr>\n",
              "      <th>0</th>\n",
              "      <td>100001000.0</td>\n",
              "      <td>104.0</td>\n",
              "      <td>PUTNAM</td>\n",
              "      <td>Y</td>\n",
              "      <td>3</td>\n",
              "      <td>1</td>\n",
              "      <td>1000</td>\n",
              "    </tr>\n",
              "    <tr>\n",
              "      <th>1</th>\n",
              "      <td>100002000.0</td>\n",
              "      <td>197.0</td>\n",
              "      <td>LEXINGTON</td>\n",
              "      <td>N</td>\n",
              "      <td>3</td>\n",
              "      <td>1.5</td>\n",
              "      <td>--</td>\n",
              "    </tr>\n",
              "    <tr>\n",
              "      <th>2</th>\n",
              "      <td>100003000.0</td>\n",
              "      <td>NaN</td>\n",
              "      <td>LEXINGTON</td>\n",
              "      <td>N</td>\n",
              "      <td>NaN</td>\n",
              "      <td>1</td>\n",
              "      <td>850</td>\n",
              "    </tr>\n",
              "    <tr>\n",
              "      <th>3</th>\n",
              "      <td>100004000.0</td>\n",
              "      <td>201.0</td>\n",
              "      <td>BERKELEY</td>\n",
              "      <td>N</td>\n",
              "      <td>1</td>\n",
              "      <td>NaN</td>\n",
              "      <td>700</td>\n",
              "    </tr>\n",
              "    <tr>\n",
              "      <th>4</th>\n",
              "      <td>NaN</td>\n",
              "      <td>203.0</td>\n",
              "      <td>BERKELEY</td>\n",
              "      <td>Y</td>\n",
              "      <td>3</td>\n",
              "      <td>2</td>\n",
              "      <td>1600</td>\n",
              "    </tr>\n",
              "    <tr>\n",
              "      <th>5</th>\n",
              "      <td>100006000.0</td>\n",
              "      <td>207.0</td>\n",
              "      <td>BERKELEY</td>\n",
              "      <td>Y</td>\n",
              "      <td>NaN</td>\n",
              "      <td>1</td>\n",
              "      <td>800</td>\n",
              "    </tr>\n",
              "    <tr>\n",
              "      <th>6</th>\n",
              "      <td>100007000.0</td>\n",
              "      <td>NaN</td>\n",
              "      <td>WASHINGTON</td>\n",
              "      <td>N</td>\n",
              "      <td>2</td>\n",
              "      <td>HURLEY</td>\n",
              "      <td>950</td>\n",
              "    </tr>\n",
              "    <tr>\n",
              "      <th>7</th>\n",
              "      <td>100008000.0</td>\n",
              "      <td>213.0</td>\n",
              "      <td>TREMONT</td>\n",
              "      <td>Y</td>\n",
              "      <td>1</td>\n",
              "      <td>1</td>\n",
              "      <td>NaN</td>\n",
              "    </tr>\n",
              "    <tr>\n",
              "      <th>8</th>\n",
              "      <td>100009000.0</td>\n",
              "      <td>215.0</td>\n",
              "      <td>TREMONT</td>\n",
              "      <td>Y</td>\n",
              "      <td>na</td>\n",
              "      <td>2</td>\n",
              "      <td>1800</td>\n",
              "    </tr>\n",
              "  </tbody>\n",
              "</table>\n",
              "</div>"
            ],
            "text/plain": [
              "           PID  ST_NUM     ST_NAME OWN_OCCUPIED NUM_BEDROOMS NUM_BATH SQ_FT\n",
              "0  100001000.0   104.0      PUTNAM            Y            3        1  1000\n",
              "1  100002000.0   197.0   LEXINGTON            N            3      1.5    --\n",
              "2  100003000.0     NaN   LEXINGTON            N          NaN        1   850\n",
              "3  100004000.0   201.0    BERKELEY            N            1      NaN   700\n",
              "4          NaN   203.0    BERKELEY            Y            3        2  1600\n",
              "5  100006000.0   207.0    BERKELEY            Y          NaN        1   800\n",
              "6  100007000.0     NaN  WASHINGTON            N            2   HURLEY   950\n",
              "7  100008000.0   213.0     TREMONT            Y            1        1   NaN\n",
              "8  100009000.0   215.0     TREMONT            Y           na        2  1800"
            ]
          },
          "metadata": {
            "tags": []
          },
          "execution_count": 372
        }
      ]
    },
    {
      "cell_type": "markdown",
      "metadata": {
        "id": "FUcZab74wBOV",
        "colab_type": "text"
      },
      "source": [
        "![image.png](data:image/png;base64,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)"
      ]
    },
    {
      "cell_type": "code",
      "metadata": {
        "id": "Mr339vgY2bEy",
        "colab_type": "code",
        "outputId": "0f35a0ba-07c5-4854-9f71-e99ffea98464",
        "colab": {
          "base_uri": "https://localhost:8080/",
          "height": 226
        }
      },
      "source": [
        "df.tail(6)"
      ],
      "execution_count": 0,
      "outputs": [
        {
          "output_type": "execute_result",
          "data": {
            "text/html": [
              "<div>\n",
              "<style scoped>\n",
              "    .dataframe tbody tr th:only-of-type {\n",
              "        vertical-align: middle;\n",
              "    }\n",
              "\n",
              "    .dataframe tbody tr th {\n",
              "        vertical-align: top;\n",
              "    }\n",
              "\n",
              "    .dataframe thead th {\n",
              "        text-align: right;\n",
              "    }\n",
              "</style>\n",
              "<table border=\"1\" class=\"dataframe\">\n",
              "  <thead>\n",
              "    <tr style=\"text-align: right;\">\n",
              "      <th></th>\n",
              "      <th>PID</th>\n",
              "      <th>ST_NUM</th>\n",
              "      <th>ST_NAME</th>\n",
              "      <th>OWN_OCCUPIED</th>\n",
              "      <th>NUM_BEDROOMS</th>\n",
              "      <th>NUM_BATH</th>\n",
              "      <th>SQ_FT</th>\n",
              "    </tr>\n",
              "  </thead>\n",
              "  <tbody>\n",
              "    <tr>\n",
              "      <th>3</th>\n",
              "      <td>100004000.0</td>\n",
              "      <td>201.0</td>\n",
              "      <td>BERKELEY</td>\n",
              "      <td>N</td>\n",
              "      <td>1</td>\n",
              "      <td>NaN</td>\n",
              "      <td>700</td>\n",
              "    </tr>\n",
              "    <tr>\n",
              "      <th>4</th>\n",
              "      <td>NaN</td>\n",
              "      <td>203.0</td>\n",
              "      <td>BERKELEY</td>\n",
              "      <td>Y</td>\n",
              "      <td>3</td>\n",
              "      <td>2</td>\n",
              "      <td>1600</td>\n",
              "    </tr>\n",
              "    <tr>\n",
              "      <th>5</th>\n",
              "      <td>100006000.0</td>\n",
              "      <td>207.0</td>\n",
              "      <td>BERKELEY</td>\n",
              "      <td>Y</td>\n",
              "      <td>NaN</td>\n",
              "      <td>1</td>\n",
              "      <td>800</td>\n",
              "    </tr>\n",
              "    <tr>\n",
              "      <th>6</th>\n",
              "      <td>100007000.0</td>\n",
              "      <td>NaN</td>\n",
              "      <td>WASHINGTON</td>\n",
              "      <td>N</td>\n",
              "      <td>2</td>\n",
              "      <td>HURLEY</td>\n",
              "      <td>950</td>\n",
              "    </tr>\n",
              "    <tr>\n",
              "      <th>7</th>\n",
              "      <td>100008000.0</td>\n",
              "      <td>213.0</td>\n",
              "      <td>TREMONT</td>\n",
              "      <td>Y</td>\n",
              "      <td>1</td>\n",
              "      <td>1</td>\n",
              "      <td>NaN</td>\n",
              "    </tr>\n",
              "    <tr>\n",
              "      <th>8</th>\n",
              "      <td>100009000.0</td>\n",
              "      <td>215.0</td>\n",
              "      <td>TREMONT</td>\n",
              "      <td>Y</td>\n",
              "      <td>na</td>\n",
              "      <td>2</td>\n",
              "      <td>1800</td>\n",
              "    </tr>\n",
              "  </tbody>\n",
              "</table>\n",
              "</div>"
            ],
            "text/plain": [
              "           PID  ST_NUM     ST_NAME OWN_OCCUPIED NUM_BEDROOMS NUM_BATH SQ_FT\n",
              "3  100004000.0   201.0    BERKELEY            N            1      NaN   700\n",
              "4          NaN   203.0    BERKELEY            Y            3        2  1600\n",
              "5  100006000.0   207.0    BERKELEY            Y          NaN        1   800\n",
              "6  100007000.0     NaN  WASHINGTON            N            2   HURLEY   950\n",
              "7  100008000.0   213.0     TREMONT            Y            1        1   NaN\n",
              "8  100009000.0   215.0     TREMONT            Y           na        2  1800"
            ]
          },
          "metadata": {
            "tags": []
          },
          "execution_count": 373
        }
      ]
    },
    {
      "cell_type": "code",
      "metadata": {
        "id": "3ux57zqAkRtX",
        "colab_type": "code",
        "outputId": "8b99589d-e3a4-4683-ffad-647ebbb2e602",
        "colab": {
          "base_uri": "https://localhost:8080/",
          "height": 33
        }
      },
      "source": [
        "df.isnull().values.any() #Checking if there are any NULL values"
      ],
      "execution_count": 0,
      "outputs": [
        {
          "output_type": "execute_result",
          "data": {
            "text/plain": [
              "True"
            ]
          },
          "metadata": {
            "tags": []
          },
          "execution_count": 374
        }
      ]
    },
    {
      "cell_type": "code",
      "metadata": {
        "id": "cs7AwRGsrOhn",
        "colab_type": "code",
        "outputId": "d4ad08fd-5782-47fc-bb98-57ce51b13754",
        "colab": {
          "base_uri": "https://localhost:8080/",
          "height": 150
        }
      },
      "source": [
        "df.isnull().mean() * 100 #Sometimes we want to get an overview of how much % of the dataset is actually missing"
      ],
      "execution_count": 0,
      "outputs": [
        {
          "output_type": "execute_result",
          "data": {
            "text/plain": [
              "PID             11.111111\n",
              "ST_NUM          22.222222\n",
              "ST_NAME          0.000000\n",
              "OWN_OCCUPIED     0.000000\n",
              "NUM_BEDROOMS    22.222222\n",
              "NUM_BATH        11.111111\n",
              "SQ_FT           11.111111\n",
              "dtype: float64"
            ]
          },
          "metadata": {
            "tags": []
          },
          "execution_count": 375
        }
      ]
    },
    {
      "cell_type": "code",
      "metadata": {
        "id": "Hj9wMkjaEo-z",
        "colab_type": "code",
        "outputId": "1ee9ea5e-84b3-4df6-cc56-f6992e29328a",
        "colab": {
          "base_uri": "https://localhost:8080/",
          "height": 150
        }
      },
      "source": [
        "df.isnull().sum() #Here we are checking NULL values column-wise"
      ],
      "execution_count": 0,
      "outputs": [
        {
          "output_type": "execute_result",
          "data": {
            "text/plain": [
              "PID             1\n",
              "ST_NUM          2\n",
              "ST_NAME         0\n",
              "OWN_OCCUPIED    0\n",
              "NUM_BEDROOMS    2\n",
              "NUM_BATH        1\n",
              "SQ_FT           1\n",
              "dtype: int64"
            ]
          },
          "metadata": {
            "tags": []
          },
          "execution_count": 376
        }
      ]
    },
    {
      "cell_type": "code",
      "metadata": {
        "id": "dLPAgJsogmjl",
        "colab_type": "code",
        "outputId": "ae296bc0-2794-4e72-9118-ed369f3ec8e7",
        "colab": {
          "base_uri": "https://localhost:8080/",
          "height": 33
        }
      },
      "source": [
        "df.isnull().sum().sum() #We can also find Total Number of NULL values in the dataset instead of %"
      ],
      "execution_count": 0,
      "outputs": [
        {
          "output_type": "execute_result",
          "data": {
            "text/plain": [
              "7"
            ]
          },
          "metadata": {
            "tags": []
          },
          "execution_count": 377
        }
      ]
    },
    {
      "cell_type": "code",
      "metadata": {
        "id": "-O7MGTO_y6GI",
        "colab_type": "code",
        "colab": {}
      },
      "source": [
        "missing_values = [\"n/a\", \"na\", \"--\", \"?\", \"_\"]\n",
        "df1 = pd.read_csv(url, na_values = missing_values)"
      ],
      "execution_count": 0,
      "outputs": []
    },
    {
      "cell_type": "code",
      "metadata": {
        "id": "yKaoIweY97Z1",
        "colab_type": "code",
        "outputId": "1ae3fff7-b456-4ecd-9f40-e4604f5036c2",
        "colab": {
          "base_uri": "https://localhost:8080/",
          "height": 316
        }
      },
      "source": [
        "df1.head(10)"
      ],
      "execution_count": 0,
      "outputs": [
        {
          "output_type": "execute_result",
          "data": {
            "text/html": [
              "<div>\n",
              "<style scoped>\n",
              "    .dataframe tbody tr th:only-of-type {\n",
              "        vertical-align: middle;\n",
              "    }\n",
              "\n",
              "    .dataframe tbody tr th {\n",
              "        vertical-align: top;\n",
              "    }\n",
              "\n",
              "    .dataframe thead th {\n",
              "        text-align: right;\n",
              "    }\n",
              "</style>\n",
              "<table border=\"1\" class=\"dataframe\">\n",
              "  <thead>\n",
              "    <tr style=\"text-align: right;\">\n",
              "      <th></th>\n",
              "      <th>PID</th>\n",
              "      <th>ST_NUM</th>\n",
              "      <th>ST_NAME</th>\n",
              "      <th>OWN_OCCUPIED</th>\n",
              "      <th>NUM_BEDROOMS</th>\n",
              "      <th>NUM_BATH</th>\n",
              "      <th>SQ_FT</th>\n",
              "    </tr>\n",
              "  </thead>\n",
              "  <tbody>\n",
              "    <tr>\n",
              "      <th>0</th>\n",
              "      <td>100001000.0</td>\n",
              "      <td>104.0</td>\n",
              "      <td>PUTNAM</td>\n",
              "      <td>Y</td>\n",
              "      <td>3.0</td>\n",
              "      <td>1</td>\n",
              "      <td>1000.0</td>\n",
              "    </tr>\n",
              "    <tr>\n",
              "      <th>1</th>\n",
              "      <td>100002000.0</td>\n",
              "      <td>197.0</td>\n",
              "      <td>LEXINGTON</td>\n",
              "      <td>N</td>\n",
              "      <td>3.0</td>\n",
              "      <td>1.5</td>\n",
              "      <td>NaN</td>\n",
              "    </tr>\n",
              "    <tr>\n",
              "      <th>2</th>\n",
              "      <td>100003000.0</td>\n",
              "      <td>NaN</td>\n",
              "      <td>LEXINGTON</td>\n",
              "      <td>N</td>\n",
              "      <td>NaN</td>\n",
              "      <td>1</td>\n",
              "      <td>850.0</td>\n",
              "    </tr>\n",
              "    <tr>\n",
              "      <th>3</th>\n",
              "      <td>100004000.0</td>\n",
              "      <td>201.0</td>\n",
              "      <td>BERKELEY</td>\n",
              "      <td>N</td>\n",
              "      <td>1.0</td>\n",
              "      <td>NaN</td>\n",
              "      <td>700.0</td>\n",
              "    </tr>\n",
              "    <tr>\n",
              "      <th>4</th>\n",
              "      <td>NaN</td>\n",
              "      <td>203.0</td>\n",
              "      <td>BERKELEY</td>\n",
              "      <td>Y</td>\n",
              "      <td>3.0</td>\n",
              "      <td>2</td>\n",
              "      <td>1600.0</td>\n",
              "    </tr>\n",
              "    <tr>\n",
              "      <th>5</th>\n",
              "      <td>100006000.0</td>\n",
              "      <td>207.0</td>\n",
              "      <td>BERKELEY</td>\n",
              "      <td>Y</td>\n",
              "      <td>NaN</td>\n",
              "      <td>1</td>\n",
              "      <td>800.0</td>\n",
              "    </tr>\n",
              "    <tr>\n",
              "      <th>6</th>\n",
              "      <td>100007000.0</td>\n",
              "      <td>NaN</td>\n",
              "      <td>WASHINGTON</td>\n",
              "      <td>N</td>\n",
              "      <td>2.0</td>\n",
              "      <td>HURLEY</td>\n",
              "      <td>950.0</td>\n",
              "    </tr>\n",
              "    <tr>\n",
              "      <th>7</th>\n",
              "      <td>100008000.0</td>\n",
              "      <td>213.0</td>\n",
              "      <td>TREMONT</td>\n",
              "      <td>Y</td>\n",
              "      <td>1.0</td>\n",
              "      <td>1</td>\n",
              "      <td>NaN</td>\n",
              "    </tr>\n",
              "    <tr>\n",
              "      <th>8</th>\n",
              "      <td>100009000.0</td>\n",
              "      <td>215.0</td>\n",
              "      <td>TREMONT</td>\n",
              "      <td>Y</td>\n",
              "      <td>NaN</td>\n",
              "      <td>2</td>\n",
              "      <td>1800.0</td>\n",
              "    </tr>\n",
              "  </tbody>\n",
              "</table>\n",
              "</div>"
            ],
            "text/plain": [
              "           PID  ST_NUM     ST_NAME OWN_OCCUPIED  NUM_BEDROOMS NUM_BATH   SQ_FT\n",
              "0  100001000.0   104.0      PUTNAM            Y           3.0        1  1000.0\n",
              "1  100002000.0   197.0   LEXINGTON            N           3.0      1.5     NaN\n",
              "2  100003000.0     NaN   LEXINGTON            N           NaN        1   850.0\n",
              "3  100004000.0   201.0    BERKELEY            N           1.0      NaN   700.0\n",
              "4          NaN   203.0    BERKELEY            Y           3.0        2  1600.0\n",
              "5  100006000.0   207.0    BERKELEY            Y           NaN        1   800.0\n",
              "6  100007000.0     NaN  WASHINGTON            N           2.0   HURLEY   950.0\n",
              "7  100008000.0   213.0     TREMONT            Y           1.0        1     NaN\n",
              "8  100009000.0   215.0     TREMONT            Y           NaN        2  1800.0"
            ]
          },
          "metadata": {
            "tags": []
          },
          "execution_count": 379
        }
      ]
    },
    {
      "cell_type": "code",
      "metadata": {
        "id": "jERqDsxx2k6t",
        "colab_type": "code",
        "outputId": "8c72c857-fd8c-423c-ce3d-d486d8f359a5",
        "colab": {
          "base_uri": "https://localhost:8080/",
          "height": 196
        }
      },
      "source": [
        "df1.drop([\"PID\"], 1 ,inplace = True)\n",
        "df1.head()"
      ],
      "execution_count": 0,
      "outputs": [
        {
          "output_type": "execute_result",
          "data": {
            "text/html": [
              "<div>\n",
              "<style scoped>\n",
              "    .dataframe tbody tr th:only-of-type {\n",
              "        vertical-align: middle;\n",
              "    }\n",
              "\n",
              "    .dataframe tbody tr th {\n",
              "        vertical-align: top;\n",
              "    }\n",
              "\n",
              "    .dataframe thead th {\n",
              "        text-align: right;\n",
              "    }\n",
              "</style>\n",
              "<table border=\"1\" class=\"dataframe\">\n",
              "  <thead>\n",
              "    <tr style=\"text-align: right;\">\n",
              "      <th></th>\n",
              "      <th>ST_NUM</th>\n",
              "      <th>ST_NAME</th>\n",
              "      <th>OWN_OCCUPIED</th>\n",
              "      <th>NUM_BEDROOMS</th>\n",
              "      <th>NUM_BATH</th>\n",
              "      <th>SQ_FT</th>\n",
              "    </tr>\n",
              "  </thead>\n",
              "  <tbody>\n",
              "    <tr>\n",
              "      <th>0</th>\n",
              "      <td>104.0</td>\n",
              "      <td>PUTNAM</td>\n",
              "      <td>Y</td>\n",
              "      <td>3.0</td>\n",
              "      <td>1</td>\n",
              "      <td>1000.0</td>\n",
              "    </tr>\n",
              "    <tr>\n",
              "      <th>1</th>\n",
              "      <td>197.0</td>\n",
              "      <td>LEXINGTON</td>\n",
              "      <td>N</td>\n",
              "      <td>3.0</td>\n",
              "      <td>1.5</td>\n",
              "      <td>NaN</td>\n",
              "    </tr>\n",
              "    <tr>\n",
              "      <th>2</th>\n",
              "      <td>NaN</td>\n",
              "      <td>LEXINGTON</td>\n",
              "      <td>N</td>\n",
              "      <td>NaN</td>\n",
              "      <td>1</td>\n",
              "      <td>850.0</td>\n",
              "    </tr>\n",
              "    <tr>\n",
              "      <th>3</th>\n",
              "      <td>201.0</td>\n",
              "      <td>BERKELEY</td>\n",
              "      <td>N</td>\n",
              "      <td>1.0</td>\n",
              "      <td>NaN</td>\n",
              "      <td>700.0</td>\n",
              "    </tr>\n",
              "    <tr>\n",
              "      <th>4</th>\n",
              "      <td>203.0</td>\n",
              "      <td>BERKELEY</td>\n",
              "      <td>Y</td>\n",
              "      <td>3.0</td>\n",
              "      <td>2</td>\n",
              "      <td>1600.0</td>\n",
              "    </tr>\n",
              "  </tbody>\n",
              "</table>\n",
              "</div>"
            ],
            "text/plain": [
              "   ST_NUM    ST_NAME OWN_OCCUPIED  NUM_BEDROOMS NUM_BATH   SQ_FT\n",
              "0   104.0     PUTNAM            Y           3.0        1  1000.0\n",
              "1   197.0  LEXINGTON            N           3.0      1.5     NaN\n",
              "2     NaN  LEXINGTON            N           NaN        1   850.0\n",
              "3   201.0   BERKELEY            N           1.0      NaN   700.0\n",
              "4   203.0   BERKELEY            Y           3.0        2  1600.0"
            ]
          },
          "metadata": {
            "tags": []
          },
          "execution_count": 380
        }
      ]
    },
    {
      "cell_type": "code",
      "metadata": {
        "id": "MWTmRICF2fTa",
        "colab_type": "code",
        "outputId": "aebd3304-86cb-455c-cb5e-6a48a4bcdf60",
        "colab": {
          "base_uri": "https://localhost:8080/",
          "height": 196
        }
      },
      "source": [
        "df1.head()"
      ],
      "execution_count": 0,
      "outputs": [
        {
          "output_type": "execute_result",
          "data": {
            "text/html": [
              "<div>\n",
              "<style scoped>\n",
              "    .dataframe tbody tr th:only-of-type {\n",
              "        vertical-align: middle;\n",
              "    }\n",
              "\n",
              "    .dataframe tbody tr th {\n",
              "        vertical-align: top;\n",
              "    }\n",
              "\n",
              "    .dataframe thead th {\n",
              "        text-align: right;\n",
              "    }\n",
              "</style>\n",
              "<table border=\"1\" class=\"dataframe\">\n",
              "  <thead>\n",
              "    <tr style=\"text-align: right;\">\n",
              "      <th></th>\n",
              "      <th>ST_NUM</th>\n",
              "      <th>ST_NAME</th>\n",
              "      <th>OWN_OCCUPIED</th>\n",
              "      <th>NUM_BEDROOMS</th>\n",
              "      <th>NUM_BATH</th>\n",
              "      <th>SQ_FT</th>\n",
              "    </tr>\n",
              "  </thead>\n",
              "  <tbody>\n",
              "    <tr>\n",
              "      <th>0</th>\n",
              "      <td>104.0</td>\n",
              "      <td>PUTNAM</td>\n",
              "      <td>Y</td>\n",
              "      <td>3.0</td>\n",
              "      <td>1</td>\n",
              "      <td>1000.0</td>\n",
              "    </tr>\n",
              "    <tr>\n",
              "      <th>1</th>\n",
              "      <td>197.0</td>\n",
              "      <td>LEXINGTON</td>\n",
              "      <td>N</td>\n",
              "      <td>3.0</td>\n",
              "      <td>1.5</td>\n",
              "      <td>NaN</td>\n",
              "    </tr>\n",
              "    <tr>\n",
              "      <th>2</th>\n",
              "      <td>NaN</td>\n",
              "      <td>LEXINGTON</td>\n",
              "      <td>N</td>\n",
              "      <td>NaN</td>\n",
              "      <td>1</td>\n",
              "      <td>850.0</td>\n",
              "    </tr>\n",
              "    <tr>\n",
              "      <th>3</th>\n",
              "      <td>201.0</td>\n",
              "      <td>BERKELEY</td>\n",
              "      <td>N</td>\n",
              "      <td>1.0</td>\n",
              "      <td>NaN</td>\n",
              "      <td>700.0</td>\n",
              "    </tr>\n",
              "    <tr>\n",
              "      <th>4</th>\n",
              "      <td>203.0</td>\n",
              "      <td>BERKELEY</td>\n",
              "      <td>Y</td>\n",
              "      <td>3.0</td>\n",
              "      <td>2</td>\n",
              "      <td>1600.0</td>\n",
              "    </tr>\n",
              "  </tbody>\n",
              "</table>\n",
              "</div>"
            ],
            "text/plain": [
              "   ST_NUM    ST_NAME OWN_OCCUPIED  NUM_BEDROOMS NUM_BATH   SQ_FT\n",
              "0   104.0     PUTNAM            Y           3.0        1  1000.0\n",
              "1   197.0  LEXINGTON            N           3.0      1.5     NaN\n",
              "2     NaN  LEXINGTON            N           NaN        1   850.0\n",
              "3   201.0   BERKELEY            N           1.0      NaN   700.0\n",
              "4   203.0   BERKELEY            Y           3.0        2  1600.0"
            ]
          },
          "metadata": {
            "tags": []
          },
          "execution_count": 381
        }
      ]
    },
    {
      "cell_type": "code",
      "metadata": {
        "id": "aNqzKNGg1YU6",
        "colab_type": "code",
        "outputId": "631d813c-9bdf-41cd-eec5-5171505916c5",
        "colab": {
          "base_uri": "https://localhost:8080/",
          "height": 196
        }
      },
      "source": [
        "dolo = df1.drop([\"ST_NUM\"], 1 ,inplace = False)\n",
        "dolo.head()"
      ],
      "execution_count": 0,
      "outputs": [
        {
          "output_type": "execute_result",
          "data": {
            "text/html": [
              "<div>\n",
              "<style scoped>\n",
              "    .dataframe tbody tr th:only-of-type {\n",
              "        vertical-align: middle;\n",
              "    }\n",
              "\n",
              "    .dataframe tbody tr th {\n",
              "        vertical-align: top;\n",
              "    }\n",
              "\n",
              "    .dataframe thead th {\n",
              "        text-align: right;\n",
              "    }\n",
              "</style>\n",
              "<table border=\"1\" class=\"dataframe\">\n",
              "  <thead>\n",
              "    <tr style=\"text-align: right;\">\n",
              "      <th></th>\n",
              "      <th>ST_NAME</th>\n",
              "      <th>OWN_OCCUPIED</th>\n",
              "      <th>NUM_BEDROOMS</th>\n",
              "      <th>NUM_BATH</th>\n",
              "      <th>SQ_FT</th>\n",
              "    </tr>\n",
              "  </thead>\n",
              "  <tbody>\n",
              "    <tr>\n",
              "      <th>0</th>\n",
              "      <td>PUTNAM</td>\n",
              "      <td>Y</td>\n",
              "      <td>3.0</td>\n",
              "      <td>1</td>\n",
              "      <td>1000.0</td>\n",
              "    </tr>\n",
              "    <tr>\n",
              "      <th>1</th>\n",
              "      <td>LEXINGTON</td>\n",
              "      <td>N</td>\n",
              "      <td>3.0</td>\n",
              "      <td>1.5</td>\n",
              "      <td>NaN</td>\n",
              "    </tr>\n",
              "    <tr>\n",
              "      <th>2</th>\n",
              "      <td>LEXINGTON</td>\n",
              "      <td>N</td>\n",
              "      <td>NaN</td>\n",
              "      <td>1</td>\n",
              "      <td>850.0</td>\n",
              "    </tr>\n",
              "    <tr>\n",
              "      <th>3</th>\n",
              "      <td>BERKELEY</td>\n",
              "      <td>N</td>\n",
              "      <td>1.0</td>\n",
              "      <td>NaN</td>\n",
              "      <td>700.0</td>\n",
              "    </tr>\n",
              "    <tr>\n",
              "      <th>4</th>\n",
              "      <td>BERKELEY</td>\n",
              "      <td>Y</td>\n",
              "      <td>3.0</td>\n",
              "      <td>2</td>\n",
              "      <td>1600.0</td>\n",
              "    </tr>\n",
              "  </tbody>\n",
              "</table>\n",
              "</div>"
            ],
            "text/plain": [
              "     ST_NAME OWN_OCCUPIED  NUM_BEDROOMS NUM_BATH   SQ_FT\n",
              "0     PUTNAM            Y           3.0        1  1000.0\n",
              "1  LEXINGTON            N           3.0      1.5     NaN\n",
              "2  LEXINGTON            N           NaN        1   850.0\n",
              "3   BERKELEY            N           1.0      NaN   700.0\n",
              "4   BERKELEY            Y           3.0        2  1600.0"
            ]
          },
          "metadata": {
            "tags": []
          },
          "execution_count": 382
        }
      ]
    },
    {
      "cell_type": "code",
      "metadata": {
        "id": "Jrjq4_sdqE3G",
        "colab_type": "code",
        "outputId": "49e1d54c-ae8f-40ea-da40-8eeed6db9774",
        "colab": {
          "base_uri": "https://localhost:8080/",
          "height": 316
        }
      },
      "source": [
        "df1.isna()"
      ],
      "execution_count": 0,
      "outputs": [
        {
          "output_type": "execute_result",
          "data": {
            "text/html": [
              "<div>\n",
              "<style scoped>\n",
              "    .dataframe tbody tr th:only-of-type {\n",
              "        vertical-align: middle;\n",
              "    }\n",
              "\n",
              "    .dataframe tbody tr th {\n",
              "        vertical-align: top;\n",
              "    }\n",
              "\n",
              "    .dataframe thead th {\n",
              "        text-align: right;\n",
              "    }\n",
              "</style>\n",
              "<table border=\"1\" class=\"dataframe\">\n",
              "  <thead>\n",
              "    <tr style=\"text-align: right;\">\n",
              "      <th></th>\n",
              "      <th>ST_NUM</th>\n",
              "      <th>ST_NAME</th>\n",
              "      <th>OWN_OCCUPIED</th>\n",
              "      <th>NUM_BEDROOMS</th>\n",
              "      <th>NUM_BATH</th>\n",
              "      <th>SQ_FT</th>\n",
              "    </tr>\n",
              "  </thead>\n",
              "  <tbody>\n",
              "    <tr>\n",
              "      <th>0</th>\n",
              "      <td>False</td>\n",
              "      <td>False</td>\n",
              "      <td>False</td>\n",
              "      <td>False</td>\n",
              "      <td>False</td>\n",
              "      <td>False</td>\n",
              "    </tr>\n",
              "    <tr>\n",
              "      <th>1</th>\n",
              "      <td>False</td>\n",
              "      <td>False</td>\n",
              "      <td>False</td>\n",
              "      <td>False</td>\n",
              "      <td>False</td>\n",
              "      <td>True</td>\n",
              "    </tr>\n",
              "    <tr>\n",
              "      <th>2</th>\n",
              "      <td>True</td>\n",
              "      <td>False</td>\n",
              "      <td>False</td>\n",
              "      <td>True</td>\n",
              "      <td>False</td>\n",
              "      <td>False</td>\n",
              "    </tr>\n",
              "    <tr>\n",
              "      <th>3</th>\n",
              "      <td>False</td>\n",
              "      <td>False</td>\n",
              "      <td>False</td>\n",
              "      <td>False</td>\n",
              "      <td>True</td>\n",
              "      <td>False</td>\n",
              "    </tr>\n",
              "    <tr>\n",
              "      <th>4</th>\n",
              "      <td>False</td>\n",
              "      <td>False</td>\n",
              "      <td>False</td>\n",
              "      <td>False</td>\n",
              "      <td>False</td>\n",
              "      <td>False</td>\n",
              "    </tr>\n",
              "    <tr>\n",
              "      <th>5</th>\n",
              "      <td>False</td>\n",
              "      <td>False</td>\n",
              "      <td>False</td>\n",
              "      <td>True</td>\n",
              "      <td>False</td>\n",
              "      <td>False</td>\n",
              "    </tr>\n",
              "    <tr>\n",
              "      <th>6</th>\n",
              "      <td>True</td>\n",
              "      <td>False</td>\n",
              "      <td>False</td>\n",
              "      <td>False</td>\n",
              "      <td>False</td>\n",
              "      <td>False</td>\n",
              "    </tr>\n",
              "    <tr>\n",
              "      <th>7</th>\n",
              "      <td>False</td>\n",
              "      <td>False</td>\n",
              "      <td>False</td>\n",
              "      <td>False</td>\n",
              "      <td>False</td>\n",
              "      <td>True</td>\n",
              "    </tr>\n",
              "    <tr>\n",
              "      <th>8</th>\n",
              "      <td>False</td>\n",
              "      <td>False</td>\n",
              "      <td>False</td>\n",
              "      <td>True</td>\n",
              "      <td>False</td>\n",
              "      <td>False</td>\n",
              "    </tr>\n",
              "  </tbody>\n",
              "</table>\n",
              "</div>"
            ],
            "text/plain": [
              "   ST_NUM  ST_NAME  OWN_OCCUPIED  NUM_BEDROOMS  NUM_BATH  SQ_FT\n",
              "0   False    False         False         False     False  False\n",
              "1   False    False         False         False     False   True\n",
              "2    True    False         False          True     False  False\n",
              "3   False    False         False         False      True  False\n",
              "4   False    False         False         False     False  False\n",
              "5   False    False         False          True     False  False\n",
              "6    True    False         False         False     False  False\n",
              "7   False    False         False         False     False   True\n",
              "8   False    False         False          True     False  False"
            ]
          },
          "metadata": {
            "tags": []
          },
          "execution_count": 383
        }
      ]
    },
    {
      "cell_type": "code",
      "metadata": {
        "id": "JOvusEdIgXdG",
        "colab_type": "code",
        "outputId": "f43b844a-4dc7-4a79-bab2-f045a4855b74",
        "colab": {
          "base_uri": "https://localhost:8080/",
          "height": 33
        }
      },
      "source": [
        "df1.isnull().sum().sum() #Detecting all values now"
      ],
      "execution_count": 0,
      "outputs": [
        {
          "output_type": "execute_result",
          "data": {
            "text/plain": [
              "8"
            ]
          },
          "metadata": {
            "tags": []
          },
          "execution_count": 384
        }
      ]
    },
    {
      "cell_type": "code",
      "metadata": {
        "id": "R6cMTM-93SMP",
        "colab_type": "code",
        "outputId": "21d51480-e899-44e5-aea6-7207e4bc95df",
        "colab": {
          "base_uri": "https://localhost:8080/",
          "height": 316
        }
      },
      "source": [
        "df1"
      ],
      "execution_count": 0,
      "outputs": [
        {
          "output_type": "execute_result",
          "data": {
            "text/html": [
              "<div>\n",
              "<style scoped>\n",
              "    .dataframe tbody tr th:only-of-type {\n",
              "        vertical-align: middle;\n",
              "    }\n",
              "\n",
              "    .dataframe tbody tr th {\n",
              "        vertical-align: top;\n",
              "    }\n",
              "\n",
              "    .dataframe thead th {\n",
              "        text-align: right;\n",
              "    }\n",
              "</style>\n",
              "<table border=\"1\" class=\"dataframe\">\n",
              "  <thead>\n",
              "    <tr style=\"text-align: right;\">\n",
              "      <th></th>\n",
              "      <th>ST_NUM</th>\n",
              "      <th>ST_NAME</th>\n",
              "      <th>OWN_OCCUPIED</th>\n",
              "      <th>NUM_BEDROOMS</th>\n",
              "      <th>NUM_BATH</th>\n",
              "      <th>SQ_FT</th>\n",
              "    </tr>\n",
              "  </thead>\n",
              "  <tbody>\n",
              "    <tr>\n",
              "      <th>0</th>\n",
              "      <td>104.0</td>\n",
              "      <td>PUTNAM</td>\n",
              "      <td>Y</td>\n",
              "      <td>3.0</td>\n",
              "      <td>1</td>\n",
              "      <td>1000.0</td>\n",
              "    </tr>\n",
              "    <tr>\n",
              "      <th>1</th>\n",
              "      <td>197.0</td>\n",
              "      <td>LEXINGTON</td>\n",
              "      <td>N</td>\n",
              "      <td>3.0</td>\n",
              "      <td>1.5</td>\n",
              "      <td>NaN</td>\n",
              "    </tr>\n",
              "    <tr>\n",
              "      <th>2</th>\n",
              "      <td>NaN</td>\n",
              "      <td>LEXINGTON</td>\n",
              "      <td>N</td>\n",
              "      <td>NaN</td>\n",
              "      <td>1</td>\n",
              "      <td>850.0</td>\n",
              "    </tr>\n",
              "    <tr>\n",
              "      <th>3</th>\n",
              "      <td>201.0</td>\n",
              "      <td>BERKELEY</td>\n",
              "      <td>N</td>\n",
              "      <td>1.0</td>\n",
              "      <td>NaN</td>\n",
              "      <td>700.0</td>\n",
              "    </tr>\n",
              "    <tr>\n",
              "      <th>4</th>\n",
              "      <td>203.0</td>\n",
              "      <td>BERKELEY</td>\n",
              "      <td>Y</td>\n",
              "      <td>3.0</td>\n",
              "      <td>2</td>\n",
              "      <td>1600.0</td>\n",
              "    </tr>\n",
              "    <tr>\n",
              "      <th>5</th>\n",
              "      <td>207.0</td>\n",
              "      <td>BERKELEY</td>\n",
              "      <td>Y</td>\n",
              "      <td>NaN</td>\n",
              "      <td>1</td>\n",
              "      <td>800.0</td>\n",
              "    </tr>\n",
              "    <tr>\n",
              "      <th>6</th>\n",
              "      <td>NaN</td>\n",
              "      <td>WASHINGTON</td>\n",
              "      <td>N</td>\n",
              "      <td>2.0</td>\n",
              "      <td>HURLEY</td>\n",
              "      <td>950.0</td>\n",
              "    </tr>\n",
              "    <tr>\n",
              "      <th>7</th>\n",
              "      <td>213.0</td>\n",
              "      <td>TREMONT</td>\n",
              "      <td>Y</td>\n",
              "      <td>1.0</td>\n",
              "      <td>1</td>\n",
              "      <td>NaN</td>\n",
              "    </tr>\n",
              "    <tr>\n",
              "      <th>8</th>\n",
              "      <td>215.0</td>\n",
              "      <td>TREMONT</td>\n",
              "      <td>Y</td>\n",
              "      <td>NaN</td>\n",
              "      <td>2</td>\n",
              "      <td>1800.0</td>\n",
              "    </tr>\n",
              "  </tbody>\n",
              "</table>\n",
              "</div>"
            ],
            "text/plain": [
              "   ST_NUM     ST_NAME OWN_OCCUPIED  NUM_BEDROOMS NUM_BATH   SQ_FT\n",
              "0   104.0      PUTNAM            Y           3.0        1  1000.0\n",
              "1   197.0   LEXINGTON            N           3.0      1.5     NaN\n",
              "2     NaN   LEXINGTON            N           NaN        1   850.0\n",
              "3   201.0    BERKELEY            N           1.0      NaN   700.0\n",
              "4   203.0    BERKELEY            Y           3.0        2  1600.0\n",
              "5   207.0    BERKELEY            Y           NaN        1   800.0\n",
              "6     NaN  WASHINGTON            N           2.0   HURLEY   950.0\n",
              "7   213.0     TREMONT            Y           1.0        1     NaN\n",
              "8   215.0     TREMONT            Y           NaN        2  1800.0"
            ]
          },
          "metadata": {
            "tags": []
          },
          "execution_count": 385
        }
      ]
    },
    {
      "cell_type": "code",
      "metadata": {
        "id": "C_rrQ-q8s9xX",
        "colab_type": "code",
        "outputId": "e5b036df-1bf7-4060-ba3e-f95af149796f",
        "colab": {
          "base_uri": "https://localhost:8080/",
          "height": 120
        }
      },
      "source": [
        "df1.get_dtype_counts()"
      ],
      "execution_count": 0,
      "outputs": [
        {
          "output_type": "stream",
          "text": [
            "/usr/local/lib/python3.6/dist-packages/ipykernel_launcher.py:1: FutureWarning: `get_dtype_counts` has been deprecated and will be removed in a future version. For DataFrames use `.dtypes.value_counts()\n",
            "  \"\"\"Entry point for launching an IPython kernel.\n"
          ],
          "name": "stderr"
        },
        {
          "output_type": "execute_result",
          "data": {
            "text/plain": [
              "float64    3\n",
              "object     3\n",
              "dtype: int64"
            ]
          },
          "metadata": {
            "tags": []
          },
          "execution_count": 386
        }
      ]
    },
    {
      "cell_type": "code",
      "metadata": {
        "id": "5bIsSNEytWmp",
        "colab_type": "code",
        "outputId": "b8819ddf-96fc-4af8-a900-c4a9847a5b42",
        "colab": {
          "base_uri": "https://localhost:8080/",
          "height": 316
        }
      },
      "source": [
        "df1.select_dtypes(include = ['object']) #here numeric rows are of object types so we need to remember to change them"
      ],
      "execution_count": 0,
      "outputs": [
        {
          "output_type": "execute_result",
          "data": {
            "text/html": [
              "<div>\n",
              "<style scoped>\n",
              "    .dataframe tbody tr th:only-of-type {\n",
              "        vertical-align: middle;\n",
              "    }\n",
              "\n",
              "    .dataframe tbody tr th {\n",
              "        vertical-align: top;\n",
              "    }\n",
              "\n",
              "    .dataframe thead th {\n",
              "        text-align: right;\n",
              "    }\n",
              "</style>\n",
              "<table border=\"1\" class=\"dataframe\">\n",
              "  <thead>\n",
              "    <tr style=\"text-align: right;\">\n",
              "      <th></th>\n",
              "      <th>ST_NAME</th>\n",
              "      <th>OWN_OCCUPIED</th>\n",
              "      <th>NUM_BATH</th>\n",
              "    </tr>\n",
              "  </thead>\n",
              "  <tbody>\n",
              "    <tr>\n",
              "      <th>0</th>\n",
              "      <td>PUTNAM</td>\n",
              "      <td>Y</td>\n",
              "      <td>1</td>\n",
              "    </tr>\n",
              "    <tr>\n",
              "      <th>1</th>\n",
              "      <td>LEXINGTON</td>\n",
              "      <td>N</td>\n",
              "      <td>1.5</td>\n",
              "    </tr>\n",
              "    <tr>\n",
              "      <th>2</th>\n",
              "      <td>LEXINGTON</td>\n",
              "      <td>N</td>\n",
              "      <td>1</td>\n",
              "    </tr>\n",
              "    <tr>\n",
              "      <th>3</th>\n",
              "      <td>BERKELEY</td>\n",
              "      <td>N</td>\n",
              "      <td>NaN</td>\n",
              "    </tr>\n",
              "    <tr>\n",
              "      <th>4</th>\n",
              "      <td>BERKELEY</td>\n",
              "      <td>Y</td>\n",
              "      <td>2</td>\n",
              "    </tr>\n",
              "    <tr>\n",
              "      <th>5</th>\n",
              "      <td>BERKELEY</td>\n",
              "      <td>Y</td>\n",
              "      <td>1</td>\n",
              "    </tr>\n",
              "    <tr>\n",
              "      <th>6</th>\n",
              "      <td>WASHINGTON</td>\n",
              "      <td>N</td>\n",
              "      <td>HURLEY</td>\n",
              "    </tr>\n",
              "    <tr>\n",
              "      <th>7</th>\n",
              "      <td>TREMONT</td>\n",
              "      <td>Y</td>\n",
              "      <td>1</td>\n",
              "    </tr>\n",
              "    <tr>\n",
              "      <th>8</th>\n",
              "      <td>TREMONT</td>\n",
              "      <td>Y</td>\n",
              "      <td>2</td>\n",
              "    </tr>\n",
              "  </tbody>\n",
              "</table>\n",
              "</div>"
            ],
            "text/plain": [
              "      ST_NAME OWN_OCCUPIED NUM_BATH\n",
              "0      PUTNAM            Y        1\n",
              "1   LEXINGTON            N      1.5\n",
              "2   LEXINGTON            N        1\n",
              "3    BERKELEY            N      NaN\n",
              "4    BERKELEY            Y        2\n",
              "5    BERKELEY            Y        1\n",
              "6  WASHINGTON            N   HURLEY\n",
              "7     TREMONT            Y        1\n",
              "8     TREMONT            Y        2"
            ]
          },
          "metadata": {
            "tags": []
          },
          "execution_count": 387
        }
      ]
    },
    {
      "cell_type": "code",
      "metadata": {
        "colab_type": "code",
        "outputId": "a6f78f53-06e3-4152-d677-12dbc2971fd1",
        "id": "5CexTW-9vaab",
        "colab": {
          "base_uri": "https://localhost:8080/",
          "height": 316
        }
      },
      "source": [
        "df1.select_dtypes(include = ['float64']) #here numeric rows are of object types so we need to remember to change them"
      ],
      "execution_count": 0,
      "outputs": [
        {
          "output_type": "execute_result",
          "data": {
            "text/html": [
              "<div>\n",
              "<style scoped>\n",
              "    .dataframe tbody tr th:only-of-type {\n",
              "        vertical-align: middle;\n",
              "    }\n",
              "\n",
              "    .dataframe tbody tr th {\n",
              "        vertical-align: top;\n",
              "    }\n",
              "\n",
              "    .dataframe thead th {\n",
              "        text-align: right;\n",
              "    }\n",
              "</style>\n",
              "<table border=\"1\" class=\"dataframe\">\n",
              "  <thead>\n",
              "    <tr style=\"text-align: right;\">\n",
              "      <th></th>\n",
              "      <th>ST_NUM</th>\n",
              "      <th>NUM_BEDROOMS</th>\n",
              "      <th>SQ_FT</th>\n",
              "    </tr>\n",
              "  </thead>\n",
              "  <tbody>\n",
              "    <tr>\n",
              "      <th>0</th>\n",
              "      <td>104.0</td>\n",
              "      <td>3.0</td>\n",
              "      <td>1000.0</td>\n",
              "    </tr>\n",
              "    <tr>\n",
              "      <th>1</th>\n",
              "      <td>197.0</td>\n",
              "      <td>3.0</td>\n",
              "      <td>NaN</td>\n",
              "    </tr>\n",
              "    <tr>\n",
              "      <th>2</th>\n",
              "      <td>NaN</td>\n",
              "      <td>NaN</td>\n",
              "      <td>850.0</td>\n",
              "    </tr>\n",
              "    <tr>\n",
              "      <th>3</th>\n",
              "      <td>201.0</td>\n",
              "      <td>1.0</td>\n",
              "      <td>700.0</td>\n",
              "    </tr>\n",
              "    <tr>\n",
              "      <th>4</th>\n",
              "      <td>203.0</td>\n",
              "      <td>3.0</td>\n",
              "      <td>1600.0</td>\n",
              "    </tr>\n",
              "    <tr>\n",
              "      <th>5</th>\n",
              "      <td>207.0</td>\n",
              "      <td>NaN</td>\n",
              "      <td>800.0</td>\n",
              "    </tr>\n",
              "    <tr>\n",
              "      <th>6</th>\n",
              "      <td>NaN</td>\n",
              "      <td>2.0</td>\n",
              "      <td>950.0</td>\n",
              "    </tr>\n",
              "    <tr>\n",
              "      <th>7</th>\n",
              "      <td>213.0</td>\n",
              "      <td>1.0</td>\n",
              "      <td>NaN</td>\n",
              "    </tr>\n",
              "    <tr>\n",
              "      <th>8</th>\n",
              "      <td>215.0</td>\n",
              "      <td>NaN</td>\n",
              "      <td>1800.0</td>\n",
              "    </tr>\n",
              "  </tbody>\n",
              "</table>\n",
              "</div>"
            ],
            "text/plain": [
              "   ST_NUM  NUM_BEDROOMS   SQ_FT\n",
              "0   104.0           3.0  1000.0\n",
              "1   197.0           3.0     NaN\n",
              "2     NaN           NaN   850.0\n",
              "3   201.0           1.0   700.0\n",
              "4   203.0           3.0  1600.0\n",
              "5   207.0           NaN   800.0\n",
              "6     NaN           2.0   950.0\n",
              "7   213.0           1.0     NaN\n",
              "8   215.0           NaN  1800.0"
            ]
          },
          "metadata": {
            "tags": []
          },
          "execution_count": 388
        }
      ]
    },
    {
      "cell_type": "code",
      "metadata": {
        "id": "Hs-b_vK5f_M_",
        "colab_type": "code",
        "outputId": "225d8f59-0258-4665-fe63-296cc1c8d1e2",
        "colab": {
          "base_uri": "https://localhost:8080/",
          "height": 33
        }
      },
      "source": [
        "type(df1[\"NUM_BATH\"][1]) #The value should be int/float. Not String. Need to change."
      ],
      "execution_count": 0,
      "outputs": [
        {
          "output_type": "execute_result",
          "data": {
            "text/plain": [
              "str"
            ]
          },
          "metadata": {
            "tags": []
          },
          "execution_count": 389
        }
      ]
    },
    {
      "cell_type": "code",
      "metadata": {
        "id": "QWfFd9UWlbha",
        "colab_type": "code",
        "colab": {}
      },
      "source": [
        "cnt=0\n",
        "for row in df1['NUM_BATH']:\n",
        "    try:\n",
        "        float(row)\n",
        "        pass\n",
        "    except ValueError:\n",
        "        df1.loc[cnt, 'NUM_BATH']=np.nan\n",
        "    cnt+=1"
      ],
      "execution_count": 0,
      "outputs": []
    },
    {
      "cell_type": "code",
      "metadata": {
        "id": "snV0Hnore96x",
        "colab_type": "code",
        "colab": {}
      },
      "source": [
        "df1[\"NUM_BATH\"] = pd.to_numeric(df1[\"NUM_BATH\"])"
      ],
      "execution_count": 0,
      "outputs": []
    },
    {
      "cell_type": "code",
      "metadata": {
        "colab_type": "code",
        "outputId": "b8e32660-215c-4b3c-bfe5-dd3977a62304",
        "id": "cX7RWN1wfUEa",
        "colab": {
          "base_uri": "https://localhost:8080/",
          "height": 33
        }
      },
      "source": [
        "type(df1[\"NUM_BATH\"][1]) #It's float now"
      ],
      "execution_count": 0,
      "outputs": [
        {
          "output_type": "execute_result",
          "data": {
            "text/plain": [
              "numpy.float64"
            ]
          },
          "metadata": {
            "tags": []
          },
          "execution_count": 392
        }
      ]
    },
    {
      "cell_type": "code",
      "metadata": {
        "id": "aYoytokwhNz_",
        "colab_type": "code",
        "outputId": "1087d212-264e-4126-a27b-d2f5b0160e71",
        "colab": {
          "base_uri": "https://localhost:8080/",
          "height": 316
        }
      },
      "source": [
        "df1.head(10)"
      ],
      "execution_count": 0,
      "outputs": [
        {
          "output_type": "execute_result",
          "data": {
            "text/html": [
              "<div>\n",
              "<style scoped>\n",
              "    .dataframe tbody tr th:only-of-type {\n",
              "        vertical-align: middle;\n",
              "    }\n",
              "\n",
              "    .dataframe tbody tr th {\n",
              "        vertical-align: top;\n",
              "    }\n",
              "\n",
              "    .dataframe thead th {\n",
              "        text-align: right;\n",
              "    }\n",
              "</style>\n",
              "<table border=\"1\" class=\"dataframe\">\n",
              "  <thead>\n",
              "    <tr style=\"text-align: right;\">\n",
              "      <th></th>\n",
              "      <th>ST_NUM</th>\n",
              "      <th>ST_NAME</th>\n",
              "      <th>OWN_OCCUPIED</th>\n",
              "      <th>NUM_BEDROOMS</th>\n",
              "      <th>NUM_BATH</th>\n",
              "      <th>SQ_FT</th>\n",
              "    </tr>\n",
              "  </thead>\n",
              "  <tbody>\n",
              "    <tr>\n",
              "      <th>0</th>\n",
              "      <td>104.0</td>\n",
              "      <td>PUTNAM</td>\n",
              "      <td>Y</td>\n",
              "      <td>3.0</td>\n",
              "      <td>1.0</td>\n",
              "      <td>1000.0</td>\n",
              "    </tr>\n",
              "    <tr>\n",
              "      <th>1</th>\n",
              "      <td>197.0</td>\n",
              "      <td>LEXINGTON</td>\n",
              "      <td>N</td>\n",
              "      <td>3.0</td>\n",
              "      <td>1.5</td>\n",
              "      <td>NaN</td>\n",
              "    </tr>\n",
              "    <tr>\n",
              "      <th>2</th>\n",
              "      <td>NaN</td>\n",
              "      <td>LEXINGTON</td>\n",
              "      <td>N</td>\n",
              "      <td>NaN</td>\n",
              "      <td>1.0</td>\n",
              "      <td>850.0</td>\n",
              "    </tr>\n",
              "    <tr>\n",
              "      <th>3</th>\n",
              "      <td>201.0</td>\n",
              "      <td>BERKELEY</td>\n",
              "      <td>N</td>\n",
              "      <td>1.0</td>\n",
              "      <td>NaN</td>\n",
              "      <td>700.0</td>\n",
              "    </tr>\n",
              "    <tr>\n",
              "      <th>4</th>\n",
              "      <td>203.0</td>\n",
              "      <td>BERKELEY</td>\n",
              "      <td>Y</td>\n",
              "      <td>3.0</td>\n",
              "      <td>2.0</td>\n",
              "      <td>1600.0</td>\n",
              "    </tr>\n",
              "    <tr>\n",
              "      <th>5</th>\n",
              "      <td>207.0</td>\n",
              "      <td>BERKELEY</td>\n",
              "      <td>Y</td>\n",
              "      <td>NaN</td>\n",
              "      <td>1.0</td>\n",
              "      <td>800.0</td>\n",
              "    </tr>\n",
              "    <tr>\n",
              "      <th>6</th>\n",
              "      <td>NaN</td>\n",
              "      <td>WASHINGTON</td>\n",
              "      <td>N</td>\n",
              "      <td>2.0</td>\n",
              "      <td>NaN</td>\n",
              "      <td>950.0</td>\n",
              "    </tr>\n",
              "    <tr>\n",
              "      <th>7</th>\n",
              "      <td>213.0</td>\n",
              "      <td>TREMONT</td>\n",
              "      <td>Y</td>\n",
              "      <td>1.0</td>\n",
              "      <td>1.0</td>\n",
              "      <td>NaN</td>\n",
              "    </tr>\n",
              "    <tr>\n",
              "      <th>8</th>\n",
              "      <td>215.0</td>\n",
              "      <td>TREMONT</td>\n",
              "      <td>Y</td>\n",
              "      <td>NaN</td>\n",
              "      <td>2.0</td>\n",
              "      <td>1800.0</td>\n",
              "    </tr>\n",
              "  </tbody>\n",
              "</table>\n",
              "</div>"
            ],
            "text/plain": [
              "   ST_NUM     ST_NAME OWN_OCCUPIED  NUM_BEDROOMS  NUM_BATH   SQ_FT\n",
              "0   104.0      PUTNAM            Y           3.0       1.0  1000.0\n",
              "1   197.0   LEXINGTON            N           3.0       1.5     NaN\n",
              "2     NaN   LEXINGTON            N           NaN       1.0   850.0\n",
              "3   201.0    BERKELEY            N           1.0       NaN   700.0\n",
              "4   203.0    BERKELEY            Y           3.0       2.0  1600.0\n",
              "5   207.0    BERKELEY            Y           NaN       1.0   800.0\n",
              "6     NaN  WASHINGTON            N           2.0       NaN   950.0\n",
              "7   213.0     TREMONT            Y           1.0       1.0     NaN\n",
              "8   215.0     TREMONT            Y           NaN       2.0  1800.0"
            ]
          },
          "metadata": {
            "tags": []
          },
          "execution_count": 393
        }
      ]
    },
    {
      "cell_type": "markdown",
      "metadata": {
        "id": "i5tKp30Xrn7Q",
        "colab_type": "text"
      },
      "source": [
        "You can replace NA values using either Mean or Median. But it's not always the best idea to replace missing data. It depends on the dataset. Say for example our dataset was a customer feedabck, or some kind of a form which was filled by a person. In such a case it would make sense to fill the NA values using Mean.\n",
        "\n",
        "For Example: If we replace with Mean on our current dataset we get this output, which doesn't make sense. Houses dont have 2.16777 bedrooms\n",
        "\n",
        "![image.png](data:image/png;base64,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)\n",
        "\n",
        "So instead, we can use median to fill in the NA values"
      ]
    },
    {
      "cell_type": "code",
      "metadata": {
        "id": "xiij8ivzg7UT",
        "colab_type": "code",
        "colab": {}
      },
      "source": [
        "df1['NUM_BEDROOMS'] = df1['NUM_BEDROOMS'].fillna(df1['NUM_BEDROOMS'].median())"
      ],
      "execution_count": 0,
      "outputs": []
    },
    {
      "cell_type": "code",
      "metadata": {
        "id": "khTdZ_FBk7zq",
        "colab_type": "code",
        "colab": {}
      },
      "source": [
        "df1['NUM_BATH'] = df1['NUM_BATH'].fillna(df1['NUM_BATH'].median())"
      ],
      "execution_count": 0,
      "outputs": []
    },
    {
      "cell_type": "code",
      "metadata": {
        "id": "dMw0WS3ku0JP",
        "colab_type": "code",
        "colab": {}
      },
      "source": [
        "df1['SQ_FT'] = df1['SQ_FT'].fillna(df1['SQ_FT'].median())"
      ],
      "execution_count": 0,
      "outputs": []
    },
    {
      "cell_type": "code",
      "metadata": {
        "id": "Ei1QJuoMu1Dk",
        "colab_type": "code",
        "colab": {}
      },
      "source": [
        "df1['ST_NUM'] = df1['ST_NUM'].fillna(df1['ST_NUM'].median())"
      ],
      "execution_count": 0,
      "outputs": []
    },
    {
      "cell_type": "code",
      "metadata": {
        "id": "TtU2pNdquu2o",
        "colab_type": "code",
        "outputId": "58fc515a-7e9a-4924-9644-10d2067e1601",
        "colab": {
          "base_uri": "https://localhost:8080/",
          "height": 316
        }
      },
      "source": [
        "df1.head(10)"
      ],
      "execution_count": 0,
      "outputs": [
        {
          "output_type": "execute_result",
          "data": {
            "text/html": [
              "<div>\n",
              "<style scoped>\n",
              "    .dataframe tbody tr th:only-of-type {\n",
              "        vertical-align: middle;\n",
              "    }\n",
              "\n",
              "    .dataframe tbody tr th {\n",
              "        vertical-align: top;\n",
              "    }\n",
              "\n",
              "    .dataframe thead th {\n",
              "        text-align: right;\n",
              "    }\n",
              "</style>\n",
              "<table border=\"1\" class=\"dataframe\">\n",
              "  <thead>\n",
              "    <tr style=\"text-align: right;\">\n",
              "      <th></th>\n",
              "      <th>ST_NUM</th>\n",
              "      <th>ST_NAME</th>\n",
              "      <th>OWN_OCCUPIED</th>\n",
              "      <th>NUM_BEDROOMS</th>\n",
              "      <th>NUM_BATH</th>\n",
              "      <th>SQ_FT</th>\n",
              "    </tr>\n",
              "  </thead>\n",
              "  <tbody>\n",
              "    <tr>\n",
              "      <th>0</th>\n",
              "      <td>104.0</td>\n",
              "      <td>PUTNAM</td>\n",
              "      <td>Y</td>\n",
              "      <td>3.0</td>\n",
              "      <td>1.0</td>\n",
              "      <td>1000.0</td>\n",
              "    </tr>\n",
              "    <tr>\n",
              "      <th>1</th>\n",
              "      <td>197.0</td>\n",
              "      <td>LEXINGTON</td>\n",
              "      <td>N</td>\n",
              "      <td>3.0</td>\n",
              "      <td>1.5</td>\n",
              "      <td>950.0</td>\n",
              "    </tr>\n",
              "    <tr>\n",
              "      <th>2</th>\n",
              "      <td>203.0</td>\n",
              "      <td>LEXINGTON</td>\n",
              "      <td>N</td>\n",
              "      <td>2.5</td>\n",
              "      <td>1.0</td>\n",
              "      <td>850.0</td>\n",
              "    </tr>\n",
              "    <tr>\n",
              "      <th>3</th>\n",
              "      <td>201.0</td>\n",
              "      <td>BERKELEY</td>\n",
              "      <td>N</td>\n",
              "      <td>1.0</td>\n",
              "      <td>1.0</td>\n",
              "      <td>700.0</td>\n",
              "    </tr>\n",
              "    <tr>\n",
              "      <th>4</th>\n",
              "      <td>203.0</td>\n",
              "      <td>BERKELEY</td>\n",
              "      <td>Y</td>\n",
              "      <td>3.0</td>\n",
              "      <td>2.0</td>\n",
              "      <td>1600.0</td>\n",
              "    </tr>\n",
              "    <tr>\n",
              "      <th>5</th>\n",
              "      <td>207.0</td>\n",
              "      <td>BERKELEY</td>\n",
              "      <td>Y</td>\n",
              "      <td>2.5</td>\n",
              "      <td>1.0</td>\n",
              "      <td>800.0</td>\n",
              "    </tr>\n",
              "    <tr>\n",
              "      <th>6</th>\n",
              "      <td>203.0</td>\n",
              "      <td>WASHINGTON</td>\n",
              "      <td>N</td>\n",
              "      <td>2.0</td>\n",
              "      <td>1.0</td>\n",
              "      <td>950.0</td>\n",
              "    </tr>\n",
              "    <tr>\n",
              "      <th>7</th>\n",
              "      <td>213.0</td>\n",
              "      <td>TREMONT</td>\n",
              "      <td>Y</td>\n",
              "      <td>1.0</td>\n",
              "      <td>1.0</td>\n",
              "      <td>950.0</td>\n",
              "    </tr>\n",
              "    <tr>\n",
              "      <th>8</th>\n",
              "      <td>215.0</td>\n",
              "      <td>TREMONT</td>\n",
              "      <td>Y</td>\n",
              "      <td>2.5</td>\n",
              "      <td>2.0</td>\n",
              "      <td>1800.0</td>\n",
              "    </tr>\n",
              "  </tbody>\n",
              "</table>\n",
              "</div>"
            ],
            "text/plain": [
              "   ST_NUM     ST_NAME OWN_OCCUPIED  NUM_BEDROOMS  NUM_BATH   SQ_FT\n",
              "0   104.0      PUTNAM            Y           3.0       1.0  1000.0\n",
              "1   197.0   LEXINGTON            N           3.0       1.5   950.0\n",
              "2   203.0   LEXINGTON            N           2.5       1.0   850.0\n",
              "3   201.0    BERKELEY            N           1.0       1.0   700.0\n",
              "4   203.0    BERKELEY            Y           3.0       2.0  1600.0\n",
              "5   207.0    BERKELEY            Y           2.5       1.0   800.0\n",
              "6   203.0  WASHINGTON            N           2.0       1.0   950.0\n",
              "7   213.0     TREMONT            Y           1.0       1.0   950.0\n",
              "8   215.0     TREMONT            Y           2.5       2.0  1800.0"
            ]
          },
          "metadata": {
            "tags": []
          },
          "execution_count": 398
        }
      ]
    },
    {
      "cell_type": "code",
      "metadata": {
        "id": "MOSDeT8U52r1",
        "colab_type": "code",
        "outputId": "4f29e1af-b150-4ded-a815-4a0805f56487",
        "colab": {
          "base_uri": "https://localhost:8080/",
          "height": 319
        }
      },
      "source": [
        "df1.drop([\"PID\"], axis = 1, inplace = True)\n",
        "df1.head(10)"
      ],
      "execution_count": 0,
      "outputs": [
        {
          "output_type": "error",
          "ename": "KeyError",
          "evalue": "ignored",
          "traceback": [
            "\u001b[0;31m---------------------------------------------------------------------------\u001b[0m",
            "\u001b[0;31mKeyError\u001b[0m                                  Traceback (most recent call last)",
            "\u001b[0;32m<ipython-input-399-0526471bbd2a>\u001b[0m in \u001b[0;36m<module>\u001b[0;34m()\u001b[0m\n\u001b[0;32m----> 1\u001b[0;31m \u001b[0mdf1\u001b[0m\u001b[0;34m.\u001b[0m\u001b[0mdrop\u001b[0m\u001b[0;34m(\u001b[0m\u001b[0;34m[\u001b[0m\u001b[0;34m\"PID\"\u001b[0m\u001b[0;34m]\u001b[0m\u001b[0;34m,\u001b[0m \u001b[0maxis\u001b[0m \u001b[0;34m=\u001b[0m \u001b[0;36m1\u001b[0m\u001b[0;34m,\u001b[0m \u001b[0minplace\u001b[0m \u001b[0;34m=\u001b[0m \u001b[0;32mTrue\u001b[0m\u001b[0;34m)\u001b[0m\u001b[0;34m\u001b[0m\u001b[0;34m\u001b[0m\u001b[0m\n\u001b[0m\u001b[1;32m      2\u001b[0m \u001b[0mdf1\u001b[0m\u001b[0;34m.\u001b[0m\u001b[0mhead\u001b[0m\u001b[0;34m(\u001b[0m\u001b[0;36m10\u001b[0m\u001b[0;34m)\u001b[0m\u001b[0;34m\u001b[0m\u001b[0;34m\u001b[0m\u001b[0m\n",
            "\u001b[0;32m/usr/local/lib/python3.6/dist-packages/pandas/core/frame.py\u001b[0m in \u001b[0;36mdrop\u001b[0;34m(self, labels, axis, index, columns, level, inplace, errors)\u001b[0m\n\u001b[1;32m   4115\u001b[0m             \u001b[0mlevel\u001b[0m\u001b[0;34m=\u001b[0m\u001b[0mlevel\u001b[0m\u001b[0;34m,\u001b[0m\u001b[0;34m\u001b[0m\u001b[0;34m\u001b[0m\u001b[0m\n\u001b[1;32m   4116\u001b[0m             \u001b[0minplace\u001b[0m\u001b[0;34m=\u001b[0m\u001b[0minplace\u001b[0m\u001b[0;34m,\u001b[0m\u001b[0;34m\u001b[0m\u001b[0;34m\u001b[0m\u001b[0m\n\u001b[0;32m-> 4117\u001b[0;31m             \u001b[0merrors\u001b[0m\u001b[0;34m=\u001b[0m\u001b[0merrors\u001b[0m\u001b[0;34m,\u001b[0m\u001b[0;34m\u001b[0m\u001b[0;34m\u001b[0m\u001b[0m\n\u001b[0m\u001b[1;32m   4118\u001b[0m         )\n\u001b[1;32m   4119\u001b[0m \u001b[0;34m\u001b[0m\u001b[0m\n",
            "\u001b[0;32m/usr/local/lib/python3.6/dist-packages/pandas/core/generic.py\u001b[0m in \u001b[0;36mdrop\u001b[0;34m(self, labels, axis, index, columns, level, inplace, errors)\u001b[0m\n\u001b[1;32m   3912\u001b[0m         \u001b[0;32mfor\u001b[0m \u001b[0maxis\u001b[0m\u001b[0;34m,\u001b[0m \u001b[0mlabels\u001b[0m \u001b[0;32min\u001b[0m \u001b[0maxes\u001b[0m\u001b[0;34m.\u001b[0m\u001b[0mitems\u001b[0m\u001b[0;34m(\u001b[0m\u001b[0;34m)\u001b[0m\u001b[0;34m:\u001b[0m\u001b[0;34m\u001b[0m\u001b[0;34m\u001b[0m\u001b[0m\n\u001b[1;32m   3913\u001b[0m             \u001b[0;32mif\u001b[0m \u001b[0mlabels\u001b[0m \u001b[0;32mis\u001b[0m \u001b[0;32mnot\u001b[0m \u001b[0;32mNone\u001b[0m\u001b[0;34m:\u001b[0m\u001b[0;34m\u001b[0m\u001b[0;34m\u001b[0m\u001b[0m\n\u001b[0;32m-> 3914\u001b[0;31m                 \u001b[0mobj\u001b[0m \u001b[0;34m=\u001b[0m \u001b[0mobj\u001b[0m\u001b[0;34m.\u001b[0m\u001b[0m_drop_axis\u001b[0m\u001b[0;34m(\u001b[0m\u001b[0mlabels\u001b[0m\u001b[0;34m,\u001b[0m \u001b[0maxis\u001b[0m\u001b[0;34m,\u001b[0m \u001b[0mlevel\u001b[0m\u001b[0;34m=\u001b[0m\u001b[0mlevel\u001b[0m\u001b[0;34m,\u001b[0m \u001b[0merrors\u001b[0m\u001b[0;34m=\u001b[0m\u001b[0merrors\u001b[0m\u001b[0;34m)\u001b[0m\u001b[0;34m\u001b[0m\u001b[0;34m\u001b[0m\u001b[0m\n\u001b[0m\u001b[1;32m   3915\u001b[0m \u001b[0;34m\u001b[0m\u001b[0m\n\u001b[1;32m   3916\u001b[0m         \u001b[0;32mif\u001b[0m \u001b[0minplace\u001b[0m\u001b[0;34m:\u001b[0m\u001b[0;34m\u001b[0m\u001b[0;34m\u001b[0m\u001b[0m\n",
            "\u001b[0;32m/usr/local/lib/python3.6/dist-packages/pandas/core/generic.py\u001b[0m in \u001b[0;36m_drop_axis\u001b[0;34m(self, labels, axis, level, errors)\u001b[0m\n\u001b[1;32m   3944\u001b[0m                 \u001b[0mnew_axis\u001b[0m \u001b[0;34m=\u001b[0m \u001b[0maxis\u001b[0m\u001b[0;34m.\u001b[0m\u001b[0mdrop\u001b[0m\u001b[0;34m(\u001b[0m\u001b[0mlabels\u001b[0m\u001b[0;34m,\u001b[0m \u001b[0mlevel\u001b[0m\u001b[0;34m=\u001b[0m\u001b[0mlevel\u001b[0m\u001b[0;34m,\u001b[0m \u001b[0merrors\u001b[0m\u001b[0;34m=\u001b[0m\u001b[0merrors\u001b[0m\u001b[0;34m)\u001b[0m\u001b[0;34m\u001b[0m\u001b[0;34m\u001b[0m\u001b[0m\n\u001b[1;32m   3945\u001b[0m             \u001b[0;32melse\u001b[0m\u001b[0;34m:\u001b[0m\u001b[0;34m\u001b[0m\u001b[0;34m\u001b[0m\u001b[0m\n\u001b[0;32m-> 3946\u001b[0;31m                 \u001b[0mnew_axis\u001b[0m \u001b[0;34m=\u001b[0m \u001b[0maxis\u001b[0m\u001b[0;34m.\u001b[0m\u001b[0mdrop\u001b[0m\u001b[0;34m(\u001b[0m\u001b[0mlabels\u001b[0m\u001b[0;34m,\u001b[0m \u001b[0merrors\u001b[0m\u001b[0;34m=\u001b[0m\u001b[0merrors\u001b[0m\u001b[0;34m)\u001b[0m\u001b[0;34m\u001b[0m\u001b[0;34m\u001b[0m\u001b[0m\n\u001b[0m\u001b[1;32m   3947\u001b[0m             \u001b[0mresult\u001b[0m \u001b[0;34m=\u001b[0m \u001b[0mself\u001b[0m\u001b[0;34m.\u001b[0m\u001b[0mreindex\u001b[0m\u001b[0;34m(\u001b[0m\u001b[0;34m**\u001b[0m\u001b[0;34m{\u001b[0m\u001b[0maxis_name\u001b[0m\u001b[0;34m:\u001b[0m \u001b[0mnew_axis\u001b[0m\u001b[0;34m}\u001b[0m\u001b[0;34m)\u001b[0m\u001b[0;34m\u001b[0m\u001b[0;34m\u001b[0m\u001b[0m\n\u001b[1;32m   3948\u001b[0m \u001b[0;34m\u001b[0m\u001b[0m\n",
            "\u001b[0;32m/usr/local/lib/python3.6/dist-packages/pandas/core/indexes/base.py\u001b[0m in \u001b[0;36mdrop\u001b[0;34m(self, labels, errors)\u001b[0m\n\u001b[1;32m   5338\u001b[0m         \u001b[0;32mif\u001b[0m \u001b[0mmask\u001b[0m\u001b[0;34m.\u001b[0m\u001b[0many\u001b[0m\u001b[0;34m(\u001b[0m\u001b[0;34m)\u001b[0m\u001b[0;34m:\u001b[0m\u001b[0;34m\u001b[0m\u001b[0;34m\u001b[0m\u001b[0m\n\u001b[1;32m   5339\u001b[0m             \u001b[0;32mif\u001b[0m \u001b[0merrors\u001b[0m \u001b[0;34m!=\u001b[0m \u001b[0;34m\"ignore\"\u001b[0m\u001b[0;34m:\u001b[0m\u001b[0;34m\u001b[0m\u001b[0;34m\u001b[0m\u001b[0m\n\u001b[0;32m-> 5340\u001b[0;31m                 \u001b[0;32mraise\u001b[0m \u001b[0mKeyError\u001b[0m\u001b[0;34m(\u001b[0m\u001b[0;34m\"{} not found in axis\"\u001b[0m\u001b[0;34m.\u001b[0m\u001b[0mformat\u001b[0m\u001b[0;34m(\u001b[0m\u001b[0mlabels\u001b[0m\u001b[0;34m[\u001b[0m\u001b[0mmask\u001b[0m\u001b[0;34m]\u001b[0m\u001b[0;34m)\u001b[0m\u001b[0;34m)\u001b[0m\u001b[0;34m\u001b[0m\u001b[0;34m\u001b[0m\u001b[0m\n\u001b[0m\u001b[1;32m   5341\u001b[0m             \u001b[0mindexer\u001b[0m \u001b[0;34m=\u001b[0m \u001b[0mindexer\u001b[0m\u001b[0;34m[\u001b[0m\u001b[0;34m~\u001b[0m\u001b[0mmask\u001b[0m\u001b[0;34m]\u001b[0m\u001b[0;34m\u001b[0m\u001b[0;34m\u001b[0m\u001b[0m\n\u001b[1;32m   5342\u001b[0m         \u001b[0;32mreturn\u001b[0m \u001b[0mself\u001b[0m\u001b[0;34m.\u001b[0m\u001b[0mdelete\u001b[0m\u001b[0;34m(\u001b[0m\u001b[0mindexer\u001b[0m\u001b[0;34m)\u001b[0m\u001b[0;34m\u001b[0m\u001b[0;34m\u001b[0m\u001b[0m\n",
            "\u001b[0;31mKeyError\u001b[0m: \"['PID'] not found in axis\""
          ]
        }
      ]
    },
    {
      "cell_type": "code",
      "metadata": {
        "id": "5Exn9z_nBQGV",
        "colab_type": "code",
        "outputId": "f139ba67-ce40-450e-edda-14a1df9c726b",
        "colab": {
          "base_uri": "https://localhost:8080/",
          "height": 184
        }
      },
      "source": [
        "Y = df1[\"OWN_OCCUPIED\"]\n",
        "Y"
      ],
      "execution_count": 0,
      "outputs": [
        {
          "output_type": "execute_result",
          "data": {
            "text/plain": [
              "0    Y\n",
              "1    N\n",
              "2    N\n",
              "3    N\n",
              "4    Y\n",
              "5    Y\n",
              "6    N\n",
              "7    Y\n",
              "8    Y\n",
              "Name: OWN_OCCUPIED, dtype: object"
            ]
          },
          "metadata": {
            "tags": []
          },
          "execution_count": 400
        }
      ]
    },
    {
      "cell_type": "code",
      "metadata": {
        "id": "BiDmxjfiUIVD",
        "colab_type": "code",
        "outputId": "c2131a27-0596-4c9e-a25c-574521208a8d",
        "colab": {
          "base_uri": "https://localhost:8080/",
          "height": 316
        }
      },
      "source": [
        "df1.drop([\"OWN_OCCUPIED\"], axis = 1,inplace = True)\n",
        "\n",
        "X = df1\n",
        "X"
      ],
      "execution_count": 0,
      "outputs": [
        {
          "output_type": "execute_result",
          "data": {
            "text/html": [
              "<div>\n",
              "<style scoped>\n",
              "    .dataframe tbody tr th:only-of-type {\n",
              "        vertical-align: middle;\n",
              "    }\n",
              "\n",
              "    .dataframe tbody tr th {\n",
              "        vertical-align: top;\n",
              "    }\n",
              "\n",
              "    .dataframe thead th {\n",
              "        text-align: right;\n",
              "    }\n",
              "</style>\n",
              "<table border=\"1\" class=\"dataframe\">\n",
              "  <thead>\n",
              "    <tr style=\"text-align: right;\">\n",
              "      <th></th>\n",
              "      <th>ST_NUM</th>\n",
              "      <th>ST_NAME</th>\n",
              "      <th>NUM_BEDROOMS</th>\n",
              "      <th>NUM_BATH</th>\n",
              "      <th>SQ_FT</th>\n",
              "    </tr>\n",
              "  </thead>\n",
              "  <tbody>\n",
              "    <tr>\n",
              "      <th>0</th>\n",
              "      <td>104.0</td>\n",
              "      <td>PUTNAM</td>\n",
              "      <td>3.0</td>\n",
              "      <td>1.0</td>\n",
              "      <td>1000.0</td>\n",
              "    </tr>\n",
              "    <tr>\n",
              "      <th>1</th>\n",
              "      <td>197.0</td>\n",
              "      <td>LEXINGTON</td>\n",
              "      <td>3.0</td>\n",
              "      <td>1.5</td>\n",
              "      <td>950.0</td>\n",
              "    </tr>\n",
              "    <tr>\n",
              "      <th>2</th>\n",
              "      <td>203.0</td>\n",
              "      <td>LEXINGTON</td>\n",
              "      <td>2.5</td>\n",
              "      <td>1.0</td>\n",
              "      <td>850.0</td>\n",
              "    </tr>\n",
              "    <tr>\n",
              "      <th>3</th>\n",
              "      <td>201.0</td>\n",
              "      <td>BERKELEY</td>\n",
              "      <td>1.0</td>\n",
              "      <td>1.0</td>\n",
              "      <td>700.0</td>\n",
              "    </tr>\n",
              "    <tr>\n",
              "      <th>4</th>\n",
              "      <td>203.0</td>\n",
              "      <td>BERKELEY</td>\n",
              "      <td>3.0</td>\n",
              "      <td>2.0</td>\n",
              "      <td>1600.0</td>\n",
              "    </tr>\n",
              "    <tr>\n",
              "      <th>5</th>\n",
              "      <td>207.0</td>\n",
              "      <td>BERKELEY</td>\n",
              "      <td>2.5</td>\n",
              "      <td>1.0</td>\n",
              "      <td>800.0</td>\n",
              "    </tr>\n",
              "    <tr>\n",
              "      <th>6</th>\n",
              "      <td>203.0</td>\n",
              "      <td>WASHINGTON</td>\n",
              "      <td>2.0</td>\n",
              "      <td>1.0</td>\n",
              "      <td>950.0</td>\n",
              "    </tr>\n",
              "    <tr>\n",
              "      <th>7</th>\n",
              "      <td>213.0</td>\n",
              "      <td>TREMONT</td>\n",
              "      <td>1.0</td>\n",
              "      <td>1.0</td>\n",
              "      <td>950.0</td>\n",
              "    </tr>\n",
              "    <tr>\n",
              "      <th>8</th>\n",
              "      <td>215.0</td>\n",
              "      <td>TREMONT</td>\n",
              "      <td>2.5</td>\n",
              "      <td>2.0</td>\n",
              "      <td>1800.0</td>\n",
              "    </tr>\n",
              "  </tbody>\n",
              "</table>\n",
              "</div>"
            ],
            "text/plain": [
              "   ST_NUM     ST_NAME  NUM_BEDROOMS  NUM_BATH   SQ_FT\n",
              "0   104.0      PUTNAM           3.0       1.0  1000.0\n",
              "1   197.0   LEXINGTON           3.0       1.5   950.0\n",
              "2   203.0   LEXINGTON           2.5       1.0   850.0\n",
              "3   201.0    BERKELEY           1.0       1.0   700.0\n",
              "4   203.0    BERKELEY           3.0       2.0  1600.0\n",
              "5   207.0    BERKELEY           2.5       1.0   800.0\n",
              "6   203.0  WASHINGTON           2.0       1.0   950.0\n",
              "7   213.0     TREMONT           1.0       1.0   950.0\n",
              "8   215.0     TREMONT           2.5       2.0  1800.0"
            ]
          },
          "metadata": {
            "tags": []
          },
          "execution_count": 401
        }
      ]
    },
    {
      "cell_type": "code",
      "metadata": {
        "id": "cOttq9wy2wNu",
        "colab_type": "code",
        "outputId": "5b62ca8e-5a5a-4971-dff0-b7f99fdb3739",
        "colab": {
          "base_uri": "https://localhost:8080/",
          "height": 316
        }
      },
      "source": [
        "X_Y = pd.concat([X,Y], axis=1) \n",
        "X_Y"
      ],
      "execution_count": 0,
      "outputs": [
        {
          "output_type": "execute_result",
          "data": {
            "text/html": [
              "<div>\n",
              "<style scoped>\n",
              "    .dataframe tbody tr th:only-of-type {\n",
              "        vertical-align: middle;\n",
              "    }\n",
              "\n",
              "    .dataframe tbody tr th {\n",
              "        vertical-align: top;\n",
              "    }\n",
              "\n",
              "    .dataframe thead th {\n",
              "        text-align: right;\n",
              "    }\n",
              "</style>\n",
              "<table border=\"1\" class=\"dataframe\">\n",
              "  <thead>\n",
              "    <tr style=\"text-align: right;\">\n",
              "      <th></th>\n",
              "      <th>ST_NUM</th>\n",
              "      <th>ST_NAME</th>\n",
              "      <th>NUM_BEDROOMS</th>\n",
              "      <th>NUM_BATH</th>\n",
              "      <th>SQ_FT</th>\n",
              "      <th>OWN_OCCUPIED</th>\n",
              "    </tr>\n",
              "  </thead>\n",
              "  <tbody>\n",
              "    <tr>\n",
              "      <th>0</th>\n",
              "      <td>104.0</td>\n",
              "      <td>PUTNAM</td>\n",
              "      <td>3.0</td>\n",
              "      <td>1.0</td>\n",
              "      <td>1000.0</td>\n",
              "      <td>Y</td>\n",
              "    </tr>\n",
              "    <tr>\n",
              "      <th>1</th>\n",
              "      <td>197.0</td>\n",
              "      <td>LEXINGTON</td>\n",
              "      <td>3.0</td>\n",
              "      <td>1.5</td>\n",
              "      <td>950.0</td>\n",
              "      <td>N</td>\n",
              "    </tr>\n",
              "    <tr>\n",
              "      <th>2</th>\n",
              "      <td>203.0</td>\n",
              "      <td>LEXINGTON</td>\n",
              "      <td>2.5</td>\n",
              "      <td>1.0</td>\n",
              "      <td>850.0</td>\n",
              "      <td>N</td>\n",
              "    </tr>\n",
              "    <tr>\n",
              "      <th>3</th>\n",
              "      <td>201.0</td>\n",
              "      <td>BERKELEY</td>\n",
              "      <td>1.0</td>\n",
              "      <td>1.0</td>\n",
              "      <td>700.0</td>\n",
              "      <td>N</td>\n",
              "    </tr>\n",
              "    <tr>\n",
              "      <th>4</th>\n",
              "      <td>203.0</td>\n",
              "      <td>BERKELEY</td>\n",
              "      <td>3.0</td>\n",
              "      <td>2.0</td>\n",
              "      <td>1600.0</td>\n",
              "      <td>Y</td>\n",
              "    </tr>\n",
              "    <tr>\n",
              "      <th>5</th>\n",
              "      <td>207.0</td>\n",
              "      <td>BERKELEY</td>\n",
              "      <td>2.5</td>\n",
              "      <td>1.0</td>\n",
              "      <td>800.0</td>\n",
              "      <td>Y</td>\n",
              "    </tr>\n",
              "    <tr>\n",
              "      <th>6</th>\n",
              "      <td>203.0</td>\n",
              "      <td>WASHINGTON</td>\n",
              "      <td>2.0</td>\n",
              "      <td>1.0</td>\n",
              "      <td>950.0</td>\n",
              "      <td>N</td>\n",
              "    </tr>\n",
              "    <tr>\n",
              "      <th>7</th>\n",
              "      <td>213.0</td>\n",
              "      <td>TREMONT</td>\n",
              "      <td>1.0</td>\n",
              "      <td>1.0</td>\n",
              "      <td>950.0</td>\n",
              "      <td>Y</td>\n",
              "    </tr>\n",
              "    <tr>\n",
              "      <th>8</th>\n",
              "      <td>215.0</td>\n",
              "      <td>TREMONT</td>\n",
              "      <td>2.5</td>\n",
              "      <td>2.0</td>\n",
              "      <td>1800.0</td>\n",
              "      <td>Y</td>\n",
              "    </tr>\n",
              "  </tbody>\n",
              "</table>\n",
              "</div>"
            ],
            "text/plain": [
              "   ST_NUM     ST_NAME  NUM_BEDROOMS  NUM_BATH   SQ_FT OWN_OCCUPIED\n",
              "0   104.0      PUTNAM           3.0       1.0  1000.0            Y\n",
              "1   197.0   LEXINGTON           3.0       1.5   950.0            N\n",
              "2   203.0   LEXINGTON           2.5       1.0   850.0            N\n",
              "3   201.0    BERKELEY           1.0       1.0   700.0            N\n",
              "4   203.0    BERKELEY           3.0       2.0  1600.0            Y\n",
              "5   207.0    BERKELEY           2.5       1.0   800.0            Y\n",
              "6   203.0  WASHINGTON           2.0       1.0   950.0            N\n",
              "7   213.0     TREMONT           1.0       1.0   950.0            Y\n",
              "8   215.0     TREMONT           2.5       2.0  1800.0            Y"
            ]
          },
          "metadata": {
            "tags": []
          },
          "execution_count": 402
        }
      ]
    },
    {
      "cell_type": "code",
      "metadata": {
        "id": "0_YPpFRz0XHR",
        "colab_type": "code",
        "outputId": "3a44c8d6-3191-484f-8de7-dc48282efc20",
        "colab": {
          "base_uri": "https://localhost:8080/",
          "height": 226
        }
      },
      "source": [
        "X.iloc[0:6,0:4]"
      ],
      "execution_count": 0,
      "outputs": [
        {
          "output_type": "execute_result",
          "data": {
            "text/html": [
              "<div>\n",
              "<style scoped>\n",
              "    .dataframe tbody tr th:only-of-type {\n",
              "        vertical-align: middle;\n",
              "    }\n",
              "\n",
              "    .dataframe tbody tr th {\n",
              "        vertical-align: top;\n",
              "    }\n",
              "\n",
              "    .dataframe thead th {\n",
              "        text-align: right;\n",
              "    }\n",
              "</style>\n",
              "<table border=\"1\" class=\"dataframe\">\n",
              "  <thead>\n",
              "    <tr style=\"text-align: right;\">\n",
              "      <th></th>\n",
              "      <th>ST_NUM</th>\n",
              "      <th>ST_NAME</th>\n",
              "      <th>NUM_BEDROOMS</th>\n",
              "      <th>NUM_BATH</th>\n",
              "    </tr>\n",
              "  </thead>\n",
              "  <tbody>\n",
              "    <tr>\n",
              "      <th>0</th>\n",
              "      <td>104.0</td>\n",
              "      <td>PUTNAM</td>\n",
              "      <td>3.0</td>\n",
              "      <td>1.0</td>\n",
              "    </tr>\n",
              "    <tr>\n",
              "      <th>1</th>\n",
              "      <td>197.0</td>\n",
              "      <td>LEXINGTON</td>\n",
              "      <td>3.0</td>\n",
              "      <td>1.5</td>\n",
              "    </tr>\n",
              "    <tr>\n",
              "      <th>2</th>\n",
              "      <td>203.0</td>\n",
              "      <td>LEXINGTON</td>\n",
              "      <td>2.5</td>\n",
              "      <td>1.0</td>\n",
              "    </tr>\n",
              "    <tr>\n",
              "      <th>3</th>\n",
              "      <td>201.0</td>\n",
              "      <td>BERKELEY</td>\n",
              "      <td>1.0</td>\n",
              "      <td>1.0</td>\n",
              "    </tr>\n",
              "    <tr>\n",
              "      <th>4</th>\n",
              "      <td>203.0</td>\n",
              "      <td>BERKELEY</td>\n",
              "      <td>3.0</td>\n",
              "      <td>2.0</td>\n",
              "    </tr>\n",
              "    <tr>\n",
              "      <th>5</th>\n",
              "      <td>207.0</td>\n",
              "      <td>BERKELEY</td>\n",
              "      <td>2.5</td>\n",
              "      <td>1.0</td>\n",
              "    </tr>\n",
              "  </tbody>\n",
              "</table>\n",
              "</div>"
            ],
            "text/plain": [
              "   ST_NUM    ST_NAME  NUM_BEDROOMS  NUM_BATH\n",
              "0   104.0     PUTNAM           3.0       1.0\n",
              "1   197.0  LEXINGTON           3.0       1.5\n",
              "2   203.0  LEXINGTON           2.5       1.0\n",
              "3   201.0   BERKELEY           1.0       1.0\n",
              "4   203.0   BERKELEY           3.0       2.0\n",
              "5   207.0   BERKELEY           2.5       1.0"
            ]
          },
          "metadata": {
            "tags": []
          },
          "execution_count": 403
        }
      ]
    },
    {
      "cell_type": "code",
      "metadata": {
        "id": "6OJ2VLvM1Zz7",
        "colab_type": "code",
        "outputId": "358440f9-f4cf-4e54-f8ca-9f5166463842",
        "colab": {
          "base_uri": "https://localhost:8080/",
          "height": 67
        }
      },
      "source": [
        "df[\"OWN_OCCUPIED\"].value_counts()"
      ],
      "execution_count": 0,
      "outputs": [
        {
          "output_type": "execute_result",
          "data": {
            "text/plain": [
              "Y    5\n",
              "N    4\n",
              "Name: OWN_OCCUPIED, dtype: int64"
            ]
          },
          "metadata": {
            "tags": []
          },
          "execution_count": 404
        }
      ]
    },
    {
      "cell_type": "code",
      "metadata": {
        "id": "BoLOZagE1vXG",
        "colab_type": "code",
        "outputId": "fe7d71c9-8d55-4ad7-ffe6-836be2254215",
        "colab": {
          "base_uri": "https://localhost:8080/",
          "height": 33
        }
      },
      "source": [
        "df[\"OWN_OCCUPIED\"].value_counts()[\"Y\"]\n"
      ],
      "execution_count": 0,
      "outputs": [
        {
          "output_type": "execute_result",
          "data": {
            "text/plain": [
              "5"
            ]
          },
          "metadata": {
            "tags": []
          },
          "execution_count": 405
        }
      ]
    },
    {
      "cell_type": "code",
      "metadata": {
        "id": "x01GRXjP2DOo",
        "colab_type": "code",
        "outputId": "e8bd4824-b86e-4241-83bf-0be82663139f",
        "colab": {
          "base_uri": "https://localhost:8080/",
          "height": 33
        }
      },
      "source": [
        "vars = df1.columns.tolist()\n",
        "vars"
      ],
      "execution_count": 0,
      "outputs": [
        {
          "output_type": "execute_result",
          "data": {
            "text/plain": [
              "['ST_NUM', 'ST_NAME', 'NUM_BEDROOMS', 'NUM_BATH', 'SQ_FT']"
            ]
          },
          "metadata": {
            "tags": []
          },
          "execution_count": 406
        }
      ]
    },
    {
      "cell_type": "code",
      "metadata": {
        "id": "9yDlynJdAmom",
        "colab_type": "code",
        "colab": {}
      },
      "source": [
        ""
      ],
      "execution_count": 0,
      "outputs": []
    },
    {
      "cell_type": "code",
      "metadata": {
        "id": "a0sgnT4tAnAZ",
        "colab_type": "code",
        "colab": {}
      },
      "source": [
        ""
      ],
      "execution_count": 0,
      "outputs": []
    },
    {
      "cell_type": "code",
      "metadata": {
        "id": "0j044FxLAnP3",
        "colab_type": "code",
        "colab": {}
      },
      "source": [
        ""
      ],
      "execution_count": 0,
      "outputs": []
    },
    {
      "cell_type": "markdown",
      "metadata": {
        "id": "TNycxc5fAgQ-",
        "colab_type": "text"
      },
      "source": [
        "# **MACHINE LEARNING**"
      ]
    },
    {
      "cell_type": "code",
      "metadata": {
        "id": "m5RR-Qy6Apxg",
        "colab_type": "code",
        "colab": {}
      },
      "source": [
        "url1 = \"https://raw.githubusercontent.com/reubence/Google-DSC-Workshop-2020/master/datasets/Automobile_data.csv\"\n",
        "data = pd.read_csv(url1)"
      ],
      "execution_count": 0,
      "outputs": []
    },
    {
      "cell_type": "code",
      "metadata": {
        "id": "P5X04DbdnoRy",
        "colab_type": "code",
        "colab": {}
      },
      "source": [
        ""
      ],
      "execution_count": 0,
      "outputs": []
    },
    {
      "cell_type": "code",
      "metadata": {
        "id": "s37ZUkSDAwsI",
        "colab_type": "code",
        "outputId": "3f7210ca-8758-4e69-e6cd-34a992b036d8",
        "colab": {
          "base_uri": "https://localhost:8080/",
          "height": 300
        }
      },
      "source": [
        "data.head()"
      ],
      "execution_count": 0,
      "outputs": [
        {
          "output_type": "execute_result",
          "data": {
            "text/html": [
              "<div>\n",
              "<style scoped>\n",
              "    .dataframe tbody tr th:only-of-type {\n",
              "        vertical-align: middle;\n",
              "    }\n",
              "\n",
              "    .dataframe tbody tr th {\n",
              "        vertical-align: top;\n",
              "    }\n",
              "\n",
              "    .dataframe thead th {\n",
              "        text-align: right;\n",
              "    }\n",
              "</style>\n",
              "<table border=\"1\" class=\"dataframe\">\n",
              "  <thead>\n",
              "    <tr style=\"text-align: right;\">\n",
              "      <th></th>\n",
              "      <th>symboling</th>\n",
              "      <th>normalized-losses</th>\n",
              "      <th>make</th>\n",
              "      <th>fuel-type</th>\n",
              "      <th>aspiration</th>\n",
              "      <th>num-of-doors</th>\n",
              "      <th>body-style</th>\n",
              "      <th>drive-wheels</th>\n",
              "      <th>engine-location</th>\n",
              "      <th>wheel-base</th>\n",
              "      <th>length</th>\n",
              "      <th>width</th>\n",
              "      <th>height</th>\n",
              "      <th>curb-weight</th>\n",
              "      <th>engine-type</th>\n",
              "      <th>num-of-cylinders</th>\n",
              "      <th>engine-size</th>\n",
              "      <th>fuel-system</th>\n",
              "      <th>bore</th>\n",
              "      <th>stroke</th>\n",
              "      <th>compression-ratio</th>\n",
              "      <th>horsepower</th>\n",
              "      <th>peak-rpm</th>\n",
              "      <th>city-mpg</th>\n",
              "      <th>highway-mpg</th>\n",
              "      <th>price</th>\n",
              "    </tr>\n",
              "  </thead>\n",
              "  <tbody>\n",
              "    <tr>\n",
              "      <th>0</th>\n",
              "      <td>3</td>\n",
              "      <td>?</td>\n",
              "      <td>alfa-romero</td>\n",
              "      <td>gas</td>\n",
              "      <td>std</td>\n",
              "      <td>two</td>\n",
              "      <td>convertible</td>\n",
              "      <td>rwd</td>\n",
              "      <td>front</td>\n",
              "      <td>88.6</td>\n",
              "      <td>168.8</td>\n",
              "      <td>64.1</td>\n",
              "      <td>48.8</td>\n",
              "      <td>2548</td>\n",
              "      <td>dohc</td>\n",
              "      <td>four</td>\n",
              "      <td>130</td>\n",
              "      <td>mpfi</td>\n",
              "      <td>3.47</td>\n",
              "      <td>2.68</td>\n",
              "      <td>9.0</td>\n",
              "      <td>111</td>\n",
              "      <td>5000</td>\n",
              "      <td>21</td>\n",
              "      <td>27</td>\n",
              "      <td>13495</td>\n",
              "    </tr>\n",
              "    <tr>\n",
              "      <th>1</th>\n",
              "      <td>3</td>\n",
              "      <td>?</td>\n",
              "      <td>alfa-romero</td>\n",
              "      <td>gas</td>\n",
              "      <td>std</td>\n",
              "      <td>two</td>\n",
              "      <td>convertible</td>\n",
              "      <td>rwd</td>\n",
              "      <td>front</td>\n",
              "      <td>88.6</td>\n",
              "      <td>168.8</td>\n",
              "      <td>64.1</td>\n",
              "      <td>48.8</td>\n",
              "      <td>2548</td>\n",
              "      <td>dohc</td>\n",
              "      <td>four</td>\n",
              "      <td>130</td>\n",
              "      <td>mpfi</td>\n",
              "      <td>3.47</td>\n",
              "      <td>2.68</td>\n",
              "      <td>9.0</td>\n",
              "      <td>111</td>\n",
              "      <td>5000</td>\n",
              "      <td>21</td>\n",
              "      <td>27</td>\n",
              "      <td>16500</td>\n",
              "    </tr>\n",
              "    <tr>\n",
              "      <th>2</th>\n",
              "      <td>1</td>\n",
              "      <td>?</td>\n",
              "      <td>alfa-romero</td>\n",
              "      <td>gas</td>\n",
              "      <td>std</td>\n",
              "      <td>two</td>\n",
              "      <td>hatchback</td>\n",
              "      <td>rwd</td>\n",
              "      <td>front</td>\n",
              "      <td>94.5</td>\n",
              "      <td>171.2</td>\n",
              "      <td>65.5</td>\n",
              "      <td>52.4</td>\n",
              "      <td>2823</td>\n",
              "      <td>ohcv</td>\n",
              "      <td>six</td>\n",
              "      <td>152</td>\n",
              "      <td>mpfi</td>\n",
              "      <td>2.68</td>\n",
              "      <td>3.47</td>\n",
              "      <td>9.0</td>\n",
              "      <td>154</td>\n",
              "      <td>5000</td>\n",
              "      <td>19</td>\n",
              "      <td>26</td>\n",
              "      <td>16500</td>\n",
              "    </tr>\n",
              "    <tr>\n",
              "      <th>3</th>\n",
              "      <td>2</td>\n",
              "      <td>164</td>\n",
              "      <td>audi</td>\n",
              "      <td>gas</td>\n",
              "      <td>std</td>\n",
              "      <td>four</td>\n",
              "      <td>sedan</td>\n",
              "      <td>fwd</td>\n",
              "      <td>front</td>\n",
              "      <td>99.8</td>\n",
              "      <td>176.6</td>\n",
              "      <td>66.2</td>\n",
              "      <td>54.3</td>\n",
              "      <td>2337</td>\n",
              "      <td>ohc</td>\n",
              "      <td>four</td>\n",
              "      <td>109</td>\n",
              "      <td>mpfi</td>\n",
              "      <td>3.19</td>\n",
              "      <td>3.4</td>\n",
              "      <td>10.0</td>\n",
              "      <td>102</td>\n",
              "      <td>5500</td>\n",
              "      <td>24</td>\n",
              "      <td>30</td>\n",
              "      <td>13950</td>\n",
              "    </tr>\n",
              "    <tr>\n",
              "      <th>4</th>\n",
              "      <td>2</td>\n",
              "      <td>164</td>\n",
              "      <td>audi</td>\n",
              "      <td>gas</td>\n",
              "      <td>std</td>\n",
              "      <td>four</td>\n",
              "      <td>sedan</td>\n",
              "      <td>4wd</td>\n",
              "      <td>front</td>\n",
              "      <td>99.4</td>\n",
              "      <td>176.6</td>\n",
              "      <td>66.4</td>\n",
              "      <td>54.3</td>\n",
              "      <td>2824</td>\n",
              "      <td>ohc</td>\n",
              "      <td>five</td>\n",
              "      <td>136</td>\n",
              "      <td>mpfi</td>\n",
              "      <td>3.19</td>\n",
              "      <td>3.4</td>\n",
              "      <td>8.0</td>\n",
              "      <td>115</td>\n",
              "      <td>5500</td>\n",
              "      <td>18</td>\n",
              "      <td>22</td>\n",
              "      <td>17450</td>\n",
              "    </tr>\n",
              "  </tbody>\n",
              "</table>\n",
              "</div>"
            ],
            "text/plain": [
              "   symboling normalized-losses         make  ... city-mpg highway-mpg  price\n",
              "0          3                 ?  alfa-romero  ...       21          27  13495\n",
              "1          3                 ?  alfa-romero  ...       21          27  16500\n",
              "2          1                 ?  alfa-romero  ...       19          26  16500\n",
              "3          2               164         audi  ...       24          30  13950\n",
              "4          2               164         audi  ...       18          22  17450\n",
              "\n",
              "[5 rows x 26 columns]"
            ]
          },
          "metadata": {
            "tags": []
          },
          "execution_count": 461
        }
      ]
    },
    {
      "cell_type": "code",
      "metadata": {
        "colab_type": "code",
        "outputId": "991ca22b-b780-4882-b18e-446c267ae770",
        "id": "M7ArDmmXBpWh",
        "colab": {
          "base_uri": "https://localhost:8080/",
          "height": 33
        }
      },
      "source": [
        "data.isnull().values.any() #Checking if there are any NULL values"
      ],
      "execution_count": 0,
      "outputs": [
        {
          "output_type": "execute_result",
          "data": {
            "text/plain": [
              "False"
            ]
          },
          "metadata": {
            "tags": []
          },
          "execution_count": 409
        }
      ]
    },
    {
      "cell_type": "code",
      "metadata": {
        "id": "xVvHdvdhB9Yu",
        "colab_type": "code",
        "outputId": "c86c8b01-918e-40c3-e110-ff66fb203b78",
        "colab": {
          "base_uri": "https://localhost:8080/",
          "height": 903
        }
      },
      "source": [
        "data[\"normalized-losses\"].value_counts()\n",
        "#there are ? as missing values"
      ],
      "execution_count": 0,
      "outputs": [
        {
          "output_type": "execute_result",
          "data": {
            "text/plain": [
              "?      41\n",
              "161    11\n",
              "91      8\n",
              "150     7\n",
              "104     6\n",
              "134     6\n",
              "128     6\n",
              "94      5\n",
              "74      5\n",
              "168     5\n",
              "95      5\n",
              "65      5\n",
              "85      5\n",
              "102     5\n",
              "103     5\n",
              "122     4\n",
              "148     4\n",
              "106     4\n",
              "118     4\n",
              "93      4\n",
              "115     3\n",
              "83      3\n",
              "101     3\n",
              "154     3\n",
              "137     3\n",
              "125     3\n",
              "153     2\n",
              "89      2\n",
              "192     2\n",
              "108     2\n",
              "194     2\n",
              "81      2\n",
              "129     2\n",
              "164     2\n",
              "119     2\n",
              "158     2\n",
              "197     2\n",
              "188     2\n",
              "145     2\n",
              "113     2\n",
              "87      2\n",
              "110     2\n",
              "186     1\n",
              "78      1\n",
              "77      1\n",
              "90      1\n",
              "121     1\n",
              "142     1\n",
              "256     1\n",
              "98      1\n",
              "107     1\n",
              "231     1\n",
              "Name: normalized-losses, dtype: int64"
            ]
          },
          "metadata": {
            "tags": []
          },
          "execution_count": 410
        }
      ]
    },
    {
      "cell_type": "code",
      "metadata": {
        "colab_type": "code",
        "outputId": "5e7ef8e3-108f-4e41-b680-5509eef7e8a1",
        "id": "2AmLqVKaBpW2",
        "colab": {
          "base_uri": "https://localhost:8080/",
          "height": 300
        }
      },
      "source": [
        "missing_values = [\"?\"]\n",
        "data1 = pd.read_csv(url1, na_values = missing_values)\n",
        "data1.head()"
      ],
      "execution_count": 0,
      "outputs": [
        {
          "output_type": "execute_result",
          "data": {
            "text/html": [
              "<div>\n",
              "<style scoped>\n",
              "    .dataframe tbody tr th:only-of-type {\n",
              "        vertical-align: middle;\n",
              "    }\n",
              "\n",
              "    .dataframe tbody tr th {\n",
              "        vertical-align: top;\n",
              "    }\n",
              "\n",
              "    .dataframe thead th {\n",
              "        text-align: right;\n",
              "    }\n",
              "</style>\n",
              "<table border=\"1\" class=\"dataframe\">\n",
              "  <thead>\n",
              "    <tr style=\"text-align: right;\">\n",
              "      <th></th>\n",
              "      <th>symboling</th>\n",
              "      <th>normalized-losses</th>\n",
              "      <th>make</th>\n",
              "      <th>fuel-type</th>\n",
              "      <th>aspiration</th>\n",
              "      <th>num-of-doors</th>\n",
              "      <th>body-style</th>\n",
              "      <th>drive-wheels</th>\n",
              "      <th>engine-location</th>\n",
              "      <th>wheel-base</th>\n",
              "      <th>length</th>\n",
              "      <th>width</th>\n",
              "      <th>height</th>\n",
              "      <th>curb-weight</th>\n",
              "      <th>engine-type</th>\n",
              "      <th>num-of-cylinders</th>\n",
              "      <th>engine-size</th>\n",
              "      <th>fuel-system</th>\n",
              "      <th>bore</th>\n",
              "      <th>stroke</th>\n",
              "      <th>compression-ratio</th>\n",
              "      <th>horsepower</th>\n",
              "      <th>peak-rpm</th>\n",
              "      <th>city-mpg</th>\n",
              "      <th>highway-mpg</th>\n",
              "      <th>price</th>\n",
              "    </tr>\n",
              "  </thead>\n",
              "  <tbody>\n",
              "    <tr>\n",
              "      <th>0</th>\n",
              "      <td>3</td>\n",
              "      <td>NaN</td>\n",
              "      <td>alfa-romero</td>\n",
              "      <td>gas</td>\n",
              "      <td>std</td>\n",
              "      <td>two</td>\n",
              "      <td>convertible</td>\n",
              "      <td>rwd</td>\n",
              "      <td>front</td>\n",
              "      <td>88.6</td>\n",
              "      <td>168.8</td>\n",
              "      <td>64.1</td>\n",
              "      <td>48.8</td>\n",
              "      <td>2548</td>\n",
              "      <td>dohc</td>\n",
              "      <td>four</td>\n",
              "      <td>130</td>\n",
              "      <td>mpfi</td>\n",
              "      <td>3.47</td>\n",
              "      <td>2.68</td>\n",
              "      <td>9.0</td>\n",
              "      <td>111.0</td>\n",
              "      <td>5000.0</td>\n",
              "      <td>21</td>\n",
              "      <td>27</td>\n",
              "      <td>13495.0</td>\n",
              "    </tr>\n",
              "    <tr>\n",
              "      <th>1</th>\n",
              "      <td>3</td>\n",
              "      <td>NaN</td>\n",
              "      <td>alfa-romero</td>\n",
              "      <td>gas</td>\n",
              "      <td>std</td>\n",
              "      <td>two</td>\n",
              "      <td>convertible</td>\n",
              "      <td>rwd</td>\n",
              "      <td>front</td>\n",
              "      <td>88.6</td>\n",
              "      <td>168.8</td>\n",
              "      <td>64.1</td>\n",
              "      <td>48.8</td>\n",
              "      <td>2548</td>\n",
              "      <td>dohc</td>\n",
              "      <td>four</td>\n",
              "      <td>130</td>\n",
              "      <td>mpfi</td>\n",
              "      <td>3.47</td>\n",
              "      <td>2.68</td>\n",
              "      <td>9.0</td>\n",
              "      <td>111.0</td>\n",
              "      <td>5000.0</td>\n",
              "      <td>21</td>\n",
              "      <td>27</td>\n",
              "      <td>16500.0</td>\n",
              "    </tr>\n",
              "    <tr>\n",
              "      <th>2</th>\n",
              "      <td>1</td>\n",
              "      <td>NaN</td>\n",
              "      <td>alfa-romero</td>\n",
              "      <td>gas</td>\n",
              "      <td>std</td>\n",
              "      <td>two</td>\n",
              "      <td>hatchback</td>\n",
              "      <td>rwd</td>\n",
              "      <td>front</td>\n",
              "      <td>94.5</td>\n",
              "      <td>171.2</td>\n",
              "      <td>65.5</td>\n",
              "      <td>52.4</td>\n",
              "      <td>2823</td>\n",
              "      <td>ohcv</td>\n",
              "      <td>six</td>\n",
              "      <td>152</td>\n",
              "      <td>mpfi</td>\n",
              "      <td>2.68</td>\n",
              "      <td>3.47</td>\n",
              "      <td>9.0</td>\n",
              "      <td>154.0</td>\n",
              "      <td>5000.0</td>\n",
              "      <td>19</td>\n",
              "      <td>26</td>\n",
              "      <td>16500.0</td>\n",
              "    </tr>\n",
              "    <tr>\n",
              "      <th>3</th>\n",
              "      <td>2</td>\n",
              "      <td>164.0</td>\n",
              "      <td>audi</td>\n",
              "      <td>gas</td>\n",
              "      <td>std</td>\n",
              "      <td>four</td>\n",
              "      <td>sedan</td>\n",
              "      <td>fwd</td>\n",
              "      <td>front</td>\n",
              "      <td>99.8</td>\n",
              "      <td>176.6</td>\n",
              "      <td>66.2</td>\n",
              "      <td>54.3</td>\n",
              "      <td>2337</td>\n",
              "      <td>ohc</td>\n",
              "      <td>four</td>\n",
              "      <td>109</td>\n",
              "      <td>mpfi</td>\n",
              "      <td>3.19</td>\n",
              "      <td>3.40</td>\n",
              "      <td>10.0</td>\n",
              "      <td>102.0</td>\n",
              "      <td>5500.0</td>\n",
              "      <td>24</td>\n",
              "      <td>30</td>\n",
              "      <td>13950.0</td>\n",
              "    </tr>\n",
              "    <tr>\n",
              "      <th>4</th>\n",
              "      <td>2</td>\n",
              "      <td>164.0</td>\n",
              "      <td>audi</td>\n",
              "      <td>gas</td>\n",
              "      <td>std</td>\n",
              "      <td>four</td>\n",
              "      <td>sedan</td>\n",
              "      <td>4wd</td>\n",
              "      <td>front</td>\n",
              "      <td>99.4</td>\n",
              "      <td>176.6</td>\n",
              "      <td>66.4</td>\n",
              "      <td>54.3</td>\n",
              "      <td>2824</td>\n",
              "      <td>ohc</td>\n",
              "      <td>five</td>\n",
              "      <td>136</td>\n",
              "      <td>mpfi</td>\n",
              "      <td>3.19</td>\n",
              "      <td>3.40</td>\n",
              "      <td>8.0</td>\n",
              "      <td>115.0</td>\n",
              "      <td>5500.0</td>\n",
              "      <td>18</td>\n",
              "      <td>22</td>\n",
              "      <td>17450.0</td>\n",
              "    </tr>\n",
              "  </tbody>\n",
              "</table>\n",
              "</div>"
            ],
            "text/plain": [
              "   symboling  normalized-losses         make  ... city-mpg highway-mpg    price\n",
              "0          3                NaN  alfa-romero  ...       21          27  13495.0\n",
              "1          3                NaN  alfa-romero  ...       21          27  16500.0\n",
              "2          1                NaN  alfa-romero  ...       19          26  16500.0\n",
              "3          2              164.0         audi  ...       24          30  13950.0\n",
              "4          2              164.0         audi  ...       18          22  17450.0\n",
              "\n",
              "[5 rows x 26 columns]"
            ]
          },
          "metadata": {
            "tags": []
          },
          "execution_count": 411
        }
      ]
    },
    {
      "cell_type": "code",
      "metadata": {
        "colab_type": "code",
        "outputId": "e99cbab5-ab14-455b-a0b7-0205cffddd6f",
        "id": "lTLvwZ42BpWt",
        "colab": {
          "base_uri": "https://localhost:8080/",
          "height": 468
        }
      },
      "source": [
        "data1.isnull().mean() * 100 #Sometimes we want to get an overview of how much % of the dataset is actually missing"
      ],
      "execution_count": 0,
      "outputs": [
        {
          "output_type": "execute_result",
          "data": {
            "text/plain": [
              "symboling             0.00000\n",
              "normalized-losses    20.00000\n",
              "make                  0.00000\n",
              "fuel-type             0.00000\n",
              "aspiration            0.00000\n",
              "num-of-doors          0.97561\n",
              "body-style            0.00000\n",
              "drive-wheels          0.00000\n",
              "engine-location       0.00000\n",
              "wheel-base            0.00000\n",
              "length                0.00000\n",
              "width                 0.00000\n",
              "height                0.00000\n",
              "curb-weight           0.00000\n",
              "engine-type           0.00000\n",
              "num-of-cylinders      0.00000\n",
              "engine-size           0.00000\n",
              "fuel-system           0.00000\n",
              "bore                  1.95122\n",
              "stroke                1.95122\n",
              "compression-ratio     0.00000\n",
              "horsepower            0.97561\n",
              "peak-rpm              0.97561\n",
              "city-mpg              0.00000\n",
              "highway-mpg           0.00000\n",
              "price                 1.95122\n",
              "dtype: float64"
            ]
          },
          "metadata": {
            "tags": []
          },
          "execution_count": 412
        }
      ]
    },
    {
      "cell_type": "code",
      "metadata": {
        "colab_type": "code",
        "outputId": "c8483ccc-4f75-42ba-f168-1188e160cdb9",
        "id": "sQ6GqIWYBpWw",
        "colab": {
          "base_uri": "https://localhost:8080/",
          "height": 33
        }
      },
      "source": [
        "data1.isnull().sum().sum() #We can also find Total Number of NULL values in the dataset instead of %"
      ],
      "execution_count": 0,
      "outputs": [
        {
          "output_type": "execute_result",
          "data": {
            "text/plain": [
              "59"
            ]
          },
          "metadata": {
            "tags": []
          },
          "execution_count": 413
        }
      ]
    },
    {
      "cell_type": "code",
      "metadata": {
        "colab_type": "code",
        "outputId": "10eb29b0-29d1-4084-eca8-0fe3d6cc5b9c",
        "id": "tMSl2WMyBpWz",
        "colab": {
          "base_uri": "https://localhost:8080/",
          "height": 468
        }
      },
      "source": [
        "data1.isnull().sum() #Here we are checking NULL values column-wise"
      ],
      "execution_count": 0,
      "outputs": [
        {
          "output_type": "execute_result",
          "data": {
            "text/plain": [
              "symboling             0\n",
              "normalized-losses    41\n",
              "make                  0\n",
              "fuel-type             0\n",
              "aspiration            0\n",
              "num-of-doors          2\n",
              "body-style            0\n",
              "drive-wheels          0\n",
              "engine-location       0\n",
              "wheel-base            0\n",
              "length                0\n",
              "width                 0\n",
              "height                0\n",
              "curb-weight           0\n",
              "engine-type           0\n",
              "num-of-cylinders      0\n",
              "engine-size           0\n",
              "fuel-system           0\n",
              "bore                  4\n",
              "stroke                4\n",
              "compression-ratio     0\n",
              "horsepower            2\n",
              "peak-rpm              2\n",
              "city-mpg              0\n",
              "highway-mpg           0\n",
              "price                 4\n",
              "dtype: int64"
            ]
          },
          "metadata": {
            "tags": []
          },
          "execution_count": 414
        }
      ]
    },
    {
      "cell_type": "code",
      "metadata": {
        "colab_type": "code",
        "outputId": "73ec8d4d-02d4-4517-f7e9-3c7cfb02a547",
        "id": "2G09xIZKBpXA",
        "colab": {
          "base_uri": "https://localhost:8080/",
          "height": 137
        }
      },
      "source": [
        "data1.get_dtype_counts()"
      ],
      "execution_count": 0,
      "outputs": [
        {
          "output_type": "stream",
          "text": [
            "/usr/local/lib/python3.6/dist-packages/ipykernel_launcher.py:1: FutureWarning: `get_dtype_counts` has been deprecated and will be removed in a future version. For DataFrames use `.dtypes.value_counts()\n",
            "  \"\"\"Entry point for launching an IPython kernel.\n"
          ],
          "name": "stderr"
        },
        {
          "output_type": "execute_result",
          "data": {
            "text/plain": [
              "float64    11\n",
              "int64       5\n",
              "object     10\n",
              "dtype: int64"
            ]
          },
          "metadata": {
            "tags": []
          },
          "execution_count": 415
        }
      ]
    },
    {
      "cell_type": "code",
      "metadata": {
        "colab_type": "code",
        "outputId": "3c179316-ab21-4cd8-ec49-caf5723e2f2f",
        "id": "i4Q0N6IQBpXD",
        "colab": {
          "base_uri": "https://localhost:8080/",
          "height": 184
        }
      },
      "source": [
        "categories = data1.select_dtypes(include = ['object']).columns.tolist()\n",
        "categories\n",
        " #here numeric rows are of object types so we need to remember to change them\n",
        "#Everything looks fine as object variables dont contain any numbers"
      ],
      "execution_count": 0,
      "outputs": [
        {
          "output_type": "execute_result",
          "data": {
            "text/plain": [
              "['make',\n",
              " 'fuel-type',\n",
              " 'aspiration',\n",
              " 'num-of-doors',\n",
              " 'body-style',\n",
              " 'drive-wheels',\n",
              " 'engine-location',\n",
              " 'engine-type',\n",
              " 'num-of-cylinders',\n",
              " 'fuel-system']"
            ]
          },
          "metadata": {
            "tags": []
          },
          "execution_count": 416
        }
      ]
    },
    {
      "cell_type": "code",
      "metadata": {
        "colab_type": "code",
        "outputId": "29721da1-4487-4e6f-93f6-dc2e6b638d59",
        "id": "pHNZV_LEBpXG",
        "colab": {
          "base_uri": "https://localhost:8080/",
          "height": 201
        }
      },
      "source": [
        "numeric = data1.select_dtypes(include = ['float64']).columns.tolist() \n",
        "numeric\n",
        "#here numeric rows are of object types so we need to remember to change them"
      ],
      "execution_count": 0,
      "outputs": [
        {
          "output_type": "execute_result",
          "data": {
            "text/plain": [
              "['normalized-losses',\n",
              " 'wheel-base',\n",
              " 'length',\n",
              " 'width',\n",
              " 'height',\n",
              " 'bore',\n",
              " 'stroke',\n",
              " 'compression-ratio',\n",
              " 'horsepower',\n",
              " 'peak-rpm',\n",
              " 'price']"
            ]
          },
          "metadata": {
            "tags": []
          },
          "execution_count": 417
        }
      ]
    },
    {
      "cell_type": "code",
      "metadata": {
        "colab_type": "code",
        "id": "ZRTndDKwBpXV",
        "colab": {}
      },
      "source": [
        "data1['normalized-losses'] = data1['normalized-losses'].fillna(data1['normalized-losses'].median())"
      ],
      "execution_count": 0,
      "outputs": []
    },
    {
      "cell_type": "markdown",
      "metadata": {
        "id": "rLGoJQ1IEM6U",
        "colab_type": "text"
      },
      "source": [
        ""
      ]
    },
    {
      "cell_type": "code",
      "metadata": {
        "id": "-b7PY6rpD7wp",
        "colab_type": "code",
        "outputId": "c400cb8c-52b2-45fc-e2e0-53cf1f79d44d",
        "colab": {
          "base_uri": "https://localhost:8080/",
          "height": 67
        }
      },
      "source": [
        "data1[\"num-of-doors\"].value_counts()"
      ],
      "execution_count": 0,
      "outputs": [
        {
          "output_type": "execute_result",
          "data": {
            "text/plain": [
              "four    114\n",
              "two      89\n",
              "Name: num-of-doors, dtype: int64"
            ]
          },
          "metadata": {
            "tags": []
          },
          "execution_count": 419
        }
      ]
    },
    {
      "cell_type": "code",
      "metadata": {
        "colab_type": "code",
        "id": "jQUtrTIqBpXT",
        "outputId": "01210d7b-43db-4ecd-c179-be40c9bbf2bc",
        "colab": {
          "base_uri": "https://localhost:8080/",
          "height": 336
        }
      },
      "source": [
        "# data1['num-of-doors'] = data1['num-of-doors'].fillna(\"four\")\n",
        "data1.dropna(['num-of-doors'], 1 , inplace = True)"
      ],
      "execution_count": 0,
      "outputs": [
        {
          "output_type": "stream",
          "text": [
            "/usr/local/lib/python3.6/dist-packages/ipykernel_launcher.py:1: FutureWarning: supplying multiple axes to axis is deprecated and will be removed in a future version.\n",
            "  \"\"\"Entry point for launching an IPython kernel.\n"
          ],
          "name": "stderr"
        },
        {
          "output_type": "error",
          "ename": "ValueError",
          "evalue": "ignored",
          "traceback": [
            "\u001b[0;31m---------------------------------------------------------------------------\u001b[0m",
            "\u001b[0;31mValueError\u001b[0m                                Traceback (most recent call last)",
            "\u001b[0;32m<ipython-input-420-2ba23fe55adf>\u001b[0m in \u001b[0;36m<module>\u001b[0;34m()\u001b[0m\n\u001b[0;32m----> 1\u001b[0;31m \u001b[0mdata1\u001b[0m\u001b[0;34m.\u001b[0m\u001b[0mdropna\u001b[0m\u001b[0;34m(\u001b[0m\u001b[0;34m[\u001b[0m\u001b[0;34m'num-of-doors'\u001b[0m\u001b[0;34m]\u001b[0m\u001b[0;34m,\u001b[0m \u001b[0;36m1\u001b[0m \u001b[0;34m,\u001b[0m \u001b[0minplace\u001b[0m \u001b[0;34m=\u001b[0m \u001b[0;32mTrue\u001b[0m\u001b[0;34m)\u001b[0m\u001b[0;34m\u001b[0m\u001b[0;34m\u001b[0m\u001b[0m\n\u001b[0m",
            "\u001b[0;32m/usr/local/lib/python3.6/dist-packages/pandas/core/frame.py\u001b[0m in \u001b[0;36mdropna\u001b[0;34m(self, axis, how, thresh, subset, inplace)\u001b[0m\n\u001b[1;32m   4846\u001b[0m             \u001b[0mresult\u001b[0m \u001b[0;34m=\u001b[0m \u001b[0mself\u001b[0m\u001b[0;34m\u001b[0m\u001b[0;34m\u001b[0m\u001b[0m\n\u001b[1;32m   4847\u001b[0m             \u001b[0;32mfor\u001b[0m \u001b[0max\u001b[0m \u001b[0;32min\u001b[0m \u001b[0maxis\u001b[0m\u001b[0;34m:\u001b[0m\u001b[0;34m\u001b[0m\u001b[0;34m\u001b[0m\u001b[0m\n\u001b[0;32m-> 4848\u001b[0;31m                 \u001b[0mresult\u001b[0m \u001b[0;34m=\u001b[0m \u001b[0mresult\u001b[0m\u001b[0;34m.\u001b[0m\u001b[0mdropna\u001b[0m\u001b[0;34m(\u001b[0m\u001b[0mhow\u001b[0m\u001b[0;34m=\u001b[0m\u001b[0mhow\u001b[0m\u001b[0;34m,\u001b[0m \u001b[0mthresh\u001b[0m\u001b[0;34m=\u001b[0m\u001b[0mthresh\u001b[0m\u001b[0;34m,\u001b[0m \u001b[0msubset\u001b[0m\u001b[0;34m=\u001b[0m\u001b[0msubset\u001b[0m\u001b[0;34m,\u001b[0m \u001b[0maxis\u001b[0m\u001b[0;34m=\u001b[0m\u001b[0max\u001b[0m\u001b[0;34m)\u001b[0m\u001b[0;34m\u001b[0m\u001b[0;34m\u001b[0m\u001b[0m\n\u001b[0m\u001b[1;32m   4849\u001b[0m         \u001b[0;32melse\u001b[0m\u001b[0;34m:\u001b[0m\u001b[0;34m\u001b[0m\u001b[0;34m\u001b[0m\u001b[0m\n\u001b[1;32m   4850\u001b[0m             \u001b[0maxis\u001b[0m \u001b[0;34m=\u001b[0m \u001b[0mself\u001b[0m\u001b[0;34m.\u001b[0m\u001b[0m_get_axis_number\u001b[0m\u001b[0;34m(\u001b[0m\u001b[0maxis\u001b[0m\u001b[0;34m)\u001b[0m\u001b[0;34m\u001b[0m\u001b[0;34m\u001b[0m\u001b[0m\n",
            "\u001b[0;32m/usr/local/lib/python3.6/dist-packages/pandas/core/frame.py\u001b[0m in \u001b[0;36mdropna\u001b[0;34m(self, axis, how, thresh, subset, inplace)\u001b[0m\n\u001b[1;32m   4848\u001b[0m                 \u001b[0mresult\u001b[0m \u001b[0;34m=\u001b[0m \u001b[0mresult\u001b[0m\u001b[0;34m.\u001b[0m\u001b[0mdropna\u001b[0m\u001b[0;34m(\u001b[0m\u001b[0mhow\u001b[0m\u001b[0;34m=\u001b[0m\u001b[0mhow\u001b[0m\u001b[0;34m,\u001b[0m \u001b[0mthresh\u001b[0m\u001b[0;34m=\u001b[0m\u001b[0mthresh\u001b[0m\u001b[0;34m,\u001b[0m \u001b[0msubset\u001b[0m\u001b[0;34m=\u001b[0m\u001b[0msubset\u001b[0m\u001b[0;34m,\u001b[0m \u001b[0maxis\u001b[0m\u001b[0;34m=\u001b[0m\u001b[0max\u001b[0m\u001b[0;34m)\u001b[0m\u001b[0;34m\u001b[0m\u001b[0;34m\u001b[0m\u001b[0m\n\u001b[1;32m   4849\u001b[0m         \u001b[0;32melse\u001b[0m\u001b[0;34m:\u001b[0m\u001b[0;34m\u001b[0m\u001b[0;34m\u001b[0m\u001b[0m\n\u001b[0;32m-> 4850\u001b[0;31m             \u001b[0maxis\u001b[0m \u001b[0;34m=\u001b[0m \u001b[0mself\u001b[0m\u001b[0;34m.\u001b[0m\u001b[0m_get_axis_number\u001b[0m\u001b[0;34m(\u001b[0m\u001b[0maxis\u001b[0m\u001b[0;34m)\u001b[0m\u001b[0;34m\u001b[0m\u001b[0;34m\u001b[0m\u001b[0m\n\u001b[0m\u001b[1;32m   4851\u001b[0m             \u001b[0magg_axis\u001b[0m \u001b[0;34m=\u001b[0m \u001b[0;36m1\u001b[0m \u001b[0;34m-\u001b[0m \u001b[0maxis\u001b[0m\u001b[0;34m\u001b[0m\u001b[0;34m\u001b[0m\u001b[0m\n\u001b[1;32m   4852\u001b[0m \u001b[0;34m\u001b[0m\u001b[0m\n",
            "\u001b[0;32m/usr/local/lib/python3.6/dist-packages/pandas/core/generic.py\u001b[0m in \u001b[0;36m_get_axis_number\u001b[0;34m(cls, axis)\u001b[0m\n\u001b[1;32m    409\u001b[0m             \u001b[0;32mexcept\u001b[0m \u001b[0mKeyError\u001b[0m\u001b[0;34m:\u001b[0m\u001b[0;34m\u001b[0m\u001b[0;34m\u001b[0m\u001b[0m\n\u001b[1;32m    410\u001b[0m                 \u001b[0;32mpass\u001b[0m\u001b[0;34m\u001b[0m\u001b[0;34m\u001b[0m\u001b[0m\n\u001b[0;32m--> 411\u001b[0;31m         \u001b[0;32mraise\u001b[0m \u001b[0mValueError\u001b[0m\u001b[0;34m(\u001b[0m\u001b[0;34m\"No axis named {0} for object type {1}\"\u001b[0m\u001b[0;34m.\u001b[0m\u001b[0mformat\u001b[0m\u001b[0;34m(\u001b[0m\u001b[0maxis\u001b[0m\u001b[0;34m,\u001b[0m \u001b[0mcls\u001b[0m\u001b[0;34m)\u001b[0m\u001b[0;34m)\u001b[0m\u001b[0;34m\u001b[0m\u001b[0;34m\u001b[0m\u001b[0m\n\u001b[0m\u001b[1;32m    412\u001b[0m \u001b[0;34m\u001b[0m\u001b[0m\n\u001b[1;32m    413\u001b[0m     \u001b[0;34m@\u001b[0m\u001b[0mclassmethod\u001b[0m\u001b[0;34m\u001b[0m\u001b[0;34m\u001b[0m\u001b[0m\n",
            "\u001b[0;31mValueError\u001b[0m: No axis named num-of-doors for object type <class 'pandas.core.frame.DataFrame'>"
          ]
        }
      ]
    },
    {
      "cell_type": "code",
      "metadata": {
        "colab_type": "code",
        "id": "km3XaRu6BpXX",
        "colab": {}
      },
      "source": [
        "data1['bore'] = data1['bore'].fillna(data1['bore'].median())"
      ],
      "execution_count": 0,
      "outputs": []
    },
    {
      "cell_type": "code",
      "metadata": {
        "id": "hDO-nlkwEmFQ",
        "colab_type": "code",
        "colab": {}
      },
      "source": [
        "data1['horsepower'] = data1['horsepower'].fillna(data1['horsepower'].median())"
      ],
      "execution_count": 0,
      "outputs": []
    },
    {
      "cell_type": "code",
      "metadata": {
        "id": "23ynW-0cMyYC",
        "colab_type": "code",
        "colab": {}
      },
      "source": [
        "data1['stroke'] = data1['stroke'].fillna(data1['stroke'].median())"
      ],
      "execution_count": 0,
      "outputs": []
    },
    {
      "cell_type": "code",
      "metadata": {
        "colab_type": "code",
        "id": "SEm3z1pPBpXZ",
        "colab": {}
      },
      "source": [
        "data1['peak-rpm'] = data1['peak-rpm'].fillna(data1['peak-rpm'].median())"
      ],
      "execution_count": 0,
      "outputs": []
    },
    {
      "cell_type": "code",
      "metadata": {
        "id": "Djh5VogzEwg6",
        "colab_type": "code",
        "colab": {}
      },
      "source": [
        "data1['price'] = data1['price'].fillna(data1['price'].median())"
      ],
      "execution_count": 0,
      "outputs": []
    },
    {
      "cell_type": "code",
      "metadata": {
        "colab_type": "code",
        "outputId": "ddd4dff2-dae8-4294-b3a4-dc08bea51803",
        "id": "Z5TrkE5xBpXc",
        "colab": {
          "base_uri": "https://localhost:8080/",
          "height": 449
        }
      },
      "source": [
        "data1.head(10)"
      ],
      "execution_count": 0,
      "outputs": [
        {
          "output_type": "execute_result",
          "data": {
            "text/html": [
              "<div>\n",
              "<style scoped>\n",
              "    .dataframe tbody tr th:only-of-type {\n",
              "        vertical-align: middle;\n",
              "    }\n",
              "\n",
              "    .dataframe tbody tr th {\n",
              "        vertical-align: top;\n",
              "    }\n",
              "\n",
              "    .dataframe thead th {\n",
              "        text-align: right;\n",
              "    }\n",
              "</style>\n",
              "<table border=\"1\" class=\"dataframe\">\n",
              "  <thead>\n",
              "    <tr style=\"text-align: right;\">\n",
              "      <th></th>\n",
              "      <th>symboling</th>\n",
              "      <th>normalized-losses</th>\n",
              "      <th>make</th>\n",
              "      <th>fuel-type</th>\n",
              "      <th>aspiration</th>\n",
              "      <th>num-of-doors</th>\n",
              "      <th>body-style</th>\n",
              "      <th>drive-wheels</th>\n",
              "      <th>engine-location</th>\n",
              "      <th>wheel-base</th>\n",
              "      <th>length</th>\n",
              "      <th>width</th>\n",
              "      <th>height</th>\n",
              "      <th>curb-weight</th>\n",
              "      <th>engine-type</th>\n",
              "      <th>num-of-cylinders</th>\n",
              "      <th>engine-size</th>\n",
              "      <th>fuel-system</th>\n",
              "      <th>bore</th>\n",
              "      <th>stroke</th>\n",
              "      <th>compression-ratio</th>\n",
              "      <th>horsepower</th>\n",
              "      <th>peak-rpm</th>\n",
              "      <th>city-mpg</th>\n",
              "      <th>highway-mpg</th>\n",
              "      <th>price</th>\n",
              "    </tr>\n",
              "  </thead>\n",
              "  <tbody>\n",
              "    <tr>\n",
              "      <th>0</th>\n",
              "      <td>3</td>\n",
              "      <td>115.0</td>\n",
              "      <td>alfa-romero</td>\n",
              "      <td>gas</td>\n",
              "      <td>std</td>\n",
              "      <td>two</td>\n",
              "      <td>convertible</td>\n",
              "      <td>rwd</td>\n",
              "      <td>front</td>\n",
              "      <td>88.6</td>\n",
              "      <td>168.8</td>\n",
              "      <td>64.1</td>\n",
              "      <td>48.8</td>\n",
              "      <td>2548</td>\n",
              "      <td>dohc</td>\n",
              "      <td>four</td>\n",
              "      <td>130</td>\n",
              "      <td>mpfi</td>\n",
              "      <td>3.47</td>\n",
              "      <td>2.68</td>\n",
              "      <td>9.0</td>\n",
              "      <td>111.0</td>\n",
              "      <td>5000.0</td>\n",
              "      <td>21</td>\n",
              "      <td>27</td>\n",
              "      <td>13495.0</td>\n",
              "    </tr>\n",
              "    <tr>\n",
              "      <th>1</th>\n",
              "      <td>3</td>\n",
              "      <td>115.0</td>\n",
              "      <td>alfa-romero</td>\n",
              "      <td>gas</td>\n",
              "      <td>std</td>\n",
              "      <td>two</td>\n",
              "      <td>convertible</td>\n",
              "      <td>rwd</td>\n",
              "      <td>front</td>\n",
              "      <td>88.6</td>\n",
              "      <td>168.8</td>\n",
              "      <td>64.1</td>\n",
              "      <td>48.8</td>\n",
              "      <td>2548</td>\n",
              "      <td>dohc</td>\n",
              "      <td>four</td>\n",
              "      <td>130</td>\n",
              "      <td>mpfi</td>\n",
              "      <td>3.47</td>\n",
              "      <td>2.68</td>\n",
              "      <td>9.0</td>\n",
              "      <td>111.0</td>\n",
              "      <td>5000.0</td>\n",
              "      <td>21</td>\n",
              "      <td>27</td>\n",
              "      <td>16500.0</td>\n",
              "    </tr>\n",
              "    <tr>\n",
              "      <th>2</th>\n",
              "      <td>1</td>\n",
              "      <td>115.0</td>\n",
              "      <td>alfa-romero</td>\n",
              "      <td>gas</td>\n",
              "      <td>std</td>\n",
              "      <td>two</td>\n",
              "      <td>hatchback</td>\n",
              "      <td>rwd</td>\n",
              "      <td>front</td>\n",
              "      <td>94.5</td>\n",
              "      <td>171.2</td>\n",
              "      <td>65.5</td>\n",
              "      <td>52.4</td>\n",
              "      <td>2823</td>\n",
              "      <td>ohcv</td>\n",
              "      <td>six</td>\n",
              "      <td>152</td>\n",
              "      <td>mpfi</td>\n",
              "      <td>2.68</td>\n",
              "      <td>3.47</td>\n",
              "      <td>9.0</td>\n",
              "      <td>154.0</td>\n",
              "      <td>5000.0</td>\n",
              "      <td>19</td>\n",
              "      <td>26</td>\n",
              "      <td>16500.0</td>\n",
              "    </tr>\n",
              "    <tr>\n",
              "      <th>3</th>\n",
              "      <td>2</td>\n",
              "      <td>164.0</td>\n",
              "      <td>audi</td>\n",
              "      <td>gas</td>\n",
              "      <td>std</td>\n",
              "      <td>four</td>\n",
              "      <td>sedan</td>\n",
              "      <td>fwd</td>\n",
              "      <td>front</td>\n",
              "      <td>99.8</td>\n",
              "      <td>176.6</td>\n",
              "      <td>66.2</td>\n",
              "      <td>54.3</td>\n",
              "      <td>2337</td>\n",
              "      <td>ohc</td>\n",
              "      <td>four</td>\n",
              "      <td>109</td>\n",
              "      <td>mpfi</td>\n",
              "      <td>3.19</td>\n",
              "      <td>3.40</td>\n",
              "      <td>10.0</td>\n",
              "      <td>102.0</td>\n",
              "      <td>5500.0</td>\n",
              "      <td>24</td>\n",
              "      <td>30</td>\n",
              "      <td>13950.0</td>\n",
              "    </tr>\n",
              "    <tr>\n",
              "      <th>4</th>\n",
              "      <td>2</td>\n",
              "      <td>164.0</td>\n",
              "      <td>audi</td>\n",
              "      <td>gas</td>\n",
              "      <td>std</td>\n",
              "      <td>four</td>\n",
              "      <td>sedan</td>\n",
              "      <td>4wd</td>\n",
              "      <td>front</td>\n",
              "      <td>99.4</td>\n",
              "      <td>176.6</td>\n",
              "      <td>66.4</td>\n",
              "      <td>54.3</td>\n",
              "      <td>2824</td>\n",
              "      <td>ohc</td>\n",
              "      <td>five</td>\n",
              "      <td>136</td>\n",
              "      <td>mpfi</td>\n",
              "      <td>3.19</td>\n",
              "      <td>3.40</td>\n",
              "      <td>8.0</td>\n",
              "      <td>115.0</td>\n",
              "      <td>5500.0</td>\n",
              "      <td>18</td>\n",
              "      <td>22</td>\n",
              "      <td>17450.0</td>\n",
              "    </tr>\n",
              "    <tr>\n",
              "      <th>5</th>\n",
              "      <td>2</td>\n",
              "      <td>115.0</td>\n",
              "      <td>audi</td>\n",
              "      <td>gas</td>\n",
              "      <td>std</td>\n",
              "      <td>two</td>\n",
              "      <td>sedan</td>\n",
              "      <td>fwd</td>\n",
              "      <td>front</td>\n",
              "      <td>99.8</td>\n",
              "      <td>177.3</td>\n",
              "      <td>66.3</td>\n",
              "      <td>53.1</td>\n",
              "      <td>2507</td>\n",
              "      <td>ohc</td>\n",
              "      <td>five</td>\n",
              "      <td>136</td>\n",
              "      <td>mpfi</td>\n",
              "      <td>3.19</td>\n",
              "      <td>3.40</td>\n",
              "      <td>8.5</td>\n",
              "      <td>110.0</td>\n",
              "      <td>5500.0</td>\n",
              "      <td>19</td>\n",
              "      <td>25</td>\n",
              "      <td>15250.0</td>\n",
              "    </tr>\n",
              "    <tr>\n",
              "      <th>6</th>\n",
              "      <td>1</td>\n",
              "      <td>158.0</td>\n",
              "      <td>audi</td>\n",
              "      <td>gas</td>\n",
              "      <td>std</td>\n",
              "      <td>four</td>\n",
              "      <td>sedan</td>\n",
              "      <td>fwd</td>\n",
              "      <td>front</td>\n",
              "      <td>105.8</td>\n",
              "      <td>192.7</td>\n",
              "      <td>71.4</td>\n",
              "      <td>55.7</td>\n",
              "      <td>2844</td>\n",
              "      <td>ohc</td>\n",
              "      <td>five</td>\n",
              "      <td>136</td>\n",
              "      <td>mpfi</td>\n",
              "      <td>3.19</td>\n",
              "      <td>3.40</td>\n",
              "      <td>8.5</td>\n",
              "      <td>110.0</td>\n",
              "      <td>5500.0</td>\n",
              "      <td>19</td>\n",
              "      <td>25</td>\n",
              "      <td>17710.0</td>\n",
              "    </tr>\n",
              "    <tr>\n",
              "      <th>7</th>\n",
              "      <td>1</td>\n",
              "      <td>115.0</td>\n",
              "      <td>audi</td>\n",
              "      <td>gas</td>\n",
              "      <td>std</td>\n",
              "      <td>four</td>\n",
              "      <td>wagon</td>\n",
              "      <td>fwd</td>\n",
              "      <td>front</td>\n",
              "      <td>105.8</td>\n",
              "      <td>192.7</td>\n",
              "      <td>71.4</td>\n",
              "      <td>55.7</td>\n",
              "      <td>2954</td>\n",
              "      <td>ohc</td>\n",
              "      <td>five</td>\n",
              "      <td>136</td>\n",
              "      <td>mpfi</td>\n",
              "      <td>3.19</td>\n",
              "      <td>3.40</td>\n",
              "      <td>8.5</td>\n",
              "      <td>110.0</td>\n",
              "      <td>5500.0</td>\n",
              "      <td>19</td>\n",
              "      <td>25</td>\n",
              "      <td>18920.0</td>\n",
              "    </tr>\n",
              "    <tr>\n",
              "      <th>8</th>\n",
              "      <td>1</td>\n",
              "      <td>158.0</td>\n",
              "      <td>audi</td>\n",
              "      <td>gas</td>\n",
              "      <td>turbo</td>\n",
              "      <td>four</td>\n",
              "      <td>sedan</td>\n",
              "      <td>fwd</td>\n",
              "      <td>front</td>\n",
              "      <td>105.8</td>\n",
              "      <td>192.7</td>\n",
              "      <td>71.4</td>\n",
              "      <td>55.9</td>\n",
              "      <td>3086</td>\n",
              "      <td>ohc</td>\n",
              "      <td>five</td>\n",
              "      <td>131</td>\n",
              "      <td>mpfi</td>\n",
              "      <td>3.13</td>\n",
              "      <td>3.40</td>\n",
              "      <td>8.3</td>\n",
              "      <td>140.0</td>\n",
              "      <td>5500.0</td>\n",
              "      <td>17</td>\n",
              "      <td>20</td>\n",
              "      <td>23875.0</td>\n",
              "    </tr>\n",
              "    <tr>\n",
              "      <th>9</th>\n",
              "      <td>0</td>\n",
              "      <td>115.0</td>\n",
              "      <td>audi</td>\n",
              "      <td>gas</td>\n",
              "      <td>turbo</td>\n",
              "      <td>two</td>\n",
              "      <td>hatchback</td>\n",
              "      <td>4wd</td>\n",
              "      <td>front</td>\n",
              "      <td>99.5</td>\n",
              "      <td>178.2</td>\n",
              "      <td>67.9</td>\n",
              "      <td>52.0</td>\n",
              "      <td>3053</td>\n",
              "      <td>ohc</td>\n",
              "      <td>five</td>\n",
              "      <td>131</td>\n",
              "      <td>mpfi</td>\n",
              "      <td>3.13</td>\n",
              "      <td>3.40</td>\n",
              "      <td>7.0</td>\n",
              "      <td>160.0</td>\n",
              "      <td>5500.0</td>\n",
              "      <td>16</td>\n",
              "      <td>22</td>\n",
              "      <td>10295.0</td>\n",
              "    </tr>\n",
              "  </tbody>\n",
              "</table>\n",
              "</div>"
            ],
            "text/plain": [
              "   symboling  normalized-losses         make  ... city-mpg highway-mpg    price\n",
              "0          3              115.0  alfa-romero  ...       21          27  13495.0\n",
              "1          3              115.0  alfa-romero  ...       21          27  16500.0\n",
              "2          1              115.0  alfa-romero  ...       19          26  16500.0\n",
              "3          2              164.0         audi  ...       24          30  13950.0\n",
              "4          2              164.0         audi  ...       18          22  17450.0\n",
              "5          2              115.0         audi  ...       19          25  15250.0\n",
              "6          1              158.0         audi  ...       19          25  17710.0\n",
              "7          1              115.0         audi  ...       19          25  18920.0\n",
              "8          1              158.0         audi  ...       17          20  23875.0\n",
              "9          0              115.0         audi  ...       16          22  10295.0\n",
              "\n",
              "[10 rows x 26 columns]"
            ]
          },
          "metadata": {
            "tags": []
          },
          "execution_count": 426
        }
      ]
    },
    {
      "cell_type": "code",
      "metadata": {
        "id": "WIm1VFzVFJLf",
        "colab_type": "code",
        "outputId": "400b50d7-3f6d-4da8-c079-1c55f2b4ab38",
        "colab": {
          "base_uri": "https://localhost:8080/",
          "height": 33
        }
      },
      "source": [
        "data1.isna().sum().sum()\n",
        "#no more null values :D"
      ],
      "execution_count": 0,
      "outputs": [
        {
          "output_type": "execute_result",
          "data": {
            "text/plain": [
              "2"
            ]
          },
          "metadata": {
            "tags": []
          },
          "execution_count": 427
        }
      ]
    },
    {
      "cell_type": "code",
      "metadata": {
        "id": "AR7uyMWQXKI3",
        "colab_type": "code",
        "outputId": "28edfcad-8e9d-433b-ee6d-6416bf2fb5e8",
        "colab": {
          "base_uri": "https://localhost:8080/",
          "height": 228
        }
      },
      "source": [
        "import matplotlib.pyplot as plt\n",
        "import pandas as pd\n",
        "\n",
        "for i in X_train.columns:\n",
        "    data1.boxplot(column=i)\n",
        "    plt.show()"
      ],
      "execution_count": 0,
      "outputs": [
        {
          "output_type": "error",
          "ename": "NameError",
          "evalue": "ignored",
          "traceback": [
            "\u001b[0;31m---------------------------------------------------------------------------\u001b[0m",
            "\u001b[0;31mNameError\u001b[0m                                 Traceback (most recent call last)",
            "\u001b[0;32m<ipython-input-428-0ab8f32ca545>\u001b[0m in \u001b[0;36m<module>\u001b[0;34m()\u001b[0m\n\u001b[1;32m      2\u001b[0m \u001b[0;32mimport\u001b[0m \u001b[0mpandas\u001b[0m \u001b[0;32mas\u001b[0m \u001b[0mpd\u001b[0m\u001b[0;34m\u001b[0m\u001b[0;34m\u001b[0m\u001b[0m\n\u001b[1;32m      3\u001b[0m \u001b[0;34m\u001b[0m\u001b[0m\n\u001b[0;32m----> 4\u001b[0;31m \u001b[0;32mfor\u001b[0m \u001b[0mi\u001b[0m \u001b[0;32min\u001b[0m \u001b[0mX_train\u001b[0m\u001b[0;34m.\u001b[0m\u001b[0mcolumns\u001b[0m\u001b[0;34m:\u001b[0m\u001b[0;34m\u001b[0m\u001b[0;34m\u001b[0m\u001b[0m\n\u001b[0m\u001b[1;32m      5\u001b[0m     \u001b[0mdata1\u001b[0m\u001b[0;34m.\u001b[0m\u001b[0mboxplot\u001b[0m\u001b[0;34m(\u001b[0m\u001b[0mcolumn\u001b[0m\u001b[0;34m=\u001b[0m\u001b[0mi\u001b[0m\u001b[0;34m)\u001b[0m\u001b[0;34m\u001b[0m\u001b[0;34m\u001b[0m\u001b[0m\n\u001b[1;32m      6\u001b[0m     \u001b[0mplt\u001b[0m\u001b[0;34m.\u001b[0m\u001b[0mshow\u001b[0m\u001b[0;34m(\u001b[0m\u001b[0;34m)\u001b[0m\u001b[0;34m\u001b[0m\u001b[0;34m\u001b[0m\u001b[0m\n",
            "\u001b[0;31mNameError\u001b[0m: name 'X_train' is not defined"
          ]
        }
      ]
    },
    {
      "cell_type": "code",
      "metadata": {
        "id": "93ANmkCItu7S",
        "colab_type": "code",
        "colab": {}
      },
      "source": [
        ""
      ],
      "execution_count": 0,
      "outputs": []
    },
    {
      "cell_type": "code",
      "metadata": {
        "id": "tCyvtZapxVwa",
        "colab_type": "code",
        "colab": {}
      },
      "source": [
        "from scipy import stats"
      ],
      "execution_count": 0,
      "outputs": []
    },
    {
      "cell_type": "code",
      "metadata": {
        "id": "gZee_et_xNVG",
        "colab_type": "code",
        "outputId": "aa7ed84c-5b15-4df0-9de8-c5f665ce8cb6",
        "colab": {
          "base_uri": "https://localhost:8080/",
          "height": 161
        }
      },
      "source": [
        "z = np.abs(stats.zscore(X_train)) # z score is the relation between sd and mean"
      ],
      "execution_count": 0,
      "outputs": [
        {
          "output_type": "error",
          "ename": "NameError",
          "evalue": "ignored",
          "traceback": [
            "\u001b[0;31m---------------------------------------------------------------------------\u001b[0m",
            "\u001b[0;31mNameError\u001b[0m                                 Traceback (most recent call last)",
            "\u001b[0;32m<ipython-input-430-dd4021d92b8e>\u001b[0m in \u001b[0;36m<module>\u001b[0;34m()\u001b[0m\n\u001b[0;32m----> 1\u001b[0;31m \u001b[0mz\u001b[0m \u001b[0;34m=\u001b[0m \u001b[0mnp\u001b[0m\u001b[0;34m.\u001b[0m\u001b[0mabs\u001b[0m\u001b[0;34m(\u001b[0m\u001b[0mstats\u001b[0m\u001b[0;34m.\u001b[0m\u001b[0mzscore\u001b[0m\u001b[0;34m(\u001b[0m\u001b[0mX_train\u001b[0m\u001b[0;34m)\u001b[0m\u001b[0;34m)\u001b[0m \u001b[0;31m# z score is the relation between sd and mean\u001b[0m\u001b[0;34m\u001b[0m\u001b[0;34m\u001b[0m\u001b[0m\n\u001b[0m",
            "\u001b[0;31mNameError\u001b[0m: name 'X_train' is not defined"
          ]
        }
      ]
    },
    {
      "cell_type": "code",
      "metadata": {
        "id": "sxzLwPoYxNZK",
        "colab_type": "code",
        "outputId": "1aa8ef15-f080-4eed-8285-06de5053111d",
        "colab": {
          "base_uri": "https://localhost:8080/",
          "height": 178
        }
      },
      "source": [
        "new2 = X_train[(z < 1).all(axis=1)]\n",
        "new2"
      ],
      "execution_count": 0,
      "outputs": [
        {
          "output_type": "error",
          "ename": "NameError",
          "evalue": "ignored",
          "traceback": [
            "\u001b[0;31m---------------------------------------------------------------------------\u001b[0m",
            "\u001b[0;31mNameError\u001b[0m                                 Traceback (most recent call last)",
            "\u001b[0;32m<ipython-input-431-1a41109180a4>\u001b[0m in \u001b[0;36m<module>\u001b[0;34m()\u001b[0m\n\u001b[0;32m----> 1\u001b[0;31m \u001b[0mnew2\u001b[0m \u001b[0;34m=\u001b[0m \u001b[0mX_train\u001b[0m\u001b[0;34m[\u001b[0m\u001b[0;34m(\u001b[0m\u001b[0mz\u001b[0m \u001b[0;34m<\u001b[0m \u001b[0;36m1\u001b[0m\u001b[0;34m)\u001b[0m\u001b[0;34m.\u001b[0m\u001b[0mall\u001b[0m\u001b[0;34m(\u001b[0m\u001b[0maxis\u001b[0m\u001b[0;34m=\u001b[0m\u001b[0;36m1\u001b[0m\u001b[0;34m)\u001b[0m\u001b[0;34m]\u001b[0m\u001b[0;34m\u001b[0m\u001b[0;34m\u001b[0m\u001b[0m\n\u001b[0m\u001b[1;32m      2\u001b[0m \u001b[0mnew2\u001b[0m\u001b[0;34m\u001b[0m\u001b[0;34m\u001b[0m\u001b[0m\n",
            "\u001b[0;31mNameError\u001b[0m: name 'X_train' is not defined"
          ]
        }
      ]
    },
    {
      "cell_type": "code",
      "metadata": {
        "id": "C4R6msiduGtv",
        "colab_type": "code",
        "outputId": "fd3333f1-6174-4154-bd5e-97eebb73a0cf",
        "colab": {
          "base_uri": "https://localhost:8080/",
          "height": 161
        }
      },
      "source": [
        "plt.boxplot(new2[\"width\"])"
      ],
      "execution_count": 0,
      "outputs": [
        {
          "output_type": "error",
          "ename": "NameError",
          "evalue": "ignored",
          "traceback": [
            "\u001b[0;31m---------------------------------------------------------------------------\u001b[0m",
            "\u001b[0;31mNameError\u001b[0m                                 Traceback (most recent call last)",
            "\u001b[0;32m<ipython-input-432-9bd357c765b6>\u001b[0m in \u001b[0;36m<module>\u001b[0;34m()\u001b[0m\n\u001b[0;32m----> 1\u001b[0;31m \u001b[0mplt\u001b[0m\u001b[0;34m.\u001b[0m\u001b[0mboxplot\u001b[0m\u001b[0;34m(\u001b[0m\u001b[0mnew2\u001b[0m\u001b[0;34m[\u001b[0m\u001b[0;34m\"width\"\u001b[0m\u001b[0;34m]\u001b[0m\u001b[0;34m)\u001b[0m\u001b[0;34m\u001b[0m\u001b[0;34m\u001b[0m\u001b[0m\n\u001b[0m",
            "\u001b[0;31mNameError\u001b[0m: name 'new2' is not defined"
          ]
        }
      ]
    },
    {
      "cell_type": "code",
      "metadata": {
        "id": "V_j0Su3lKPZU",
        "colab_type": "code",
        "outputId": "013ed65f-609b-4d47-e22a-5d0becd68f4f",
        "colab": {
          "base_uri": "https://localhost:8080/",
          "height": 117
        }
      },
      "source": [
        "Y = data1[\"fuel-type\"]\n",
        "Y.head()"
      ],
      "execution_count": 0,
      "outputs": [
        {
          "output_type": "execute_result",
          "data": {
            "text/plain": [
              "0    gas\n",
              "1    gas\n",
              "2    gas\n",
              "3    gas\n",
              "4    gas\n",
              "Name: fuel-type, dtype: object"
            ]
          },
          "metadata": {
            "tags": []
          },
          "execution_count": 433
        }
      ]
    },
    {
      "cell_type": "code",
      "metadata": {
        "id": "kr6v1ECkrgwh",
        "colab_type": "code",
        "colab": {}
      },
      "source": [
        ""
      ],
      "execution_count": 0,
      "outputs": []
    },
    {
      "cell_type": "code",
      "metadata": {
        "id": "V2SAMdT9F8FF",
        "colab_type": "code",
        "outputId": "1c0c392f-292c-44f3-b06f-d0ec8936dca3",
        "colab": {
          "base_uri": "https://localhost:8080/",
          "height": 233
        }
      },
      "source": [
        "X= pd.get_dummies(data = data1, columns = categories)\n",
        "# X.drop(\"fuel-type\")\n",
        "X.head()\n",
        "#One-Hot-Encoding the variables"
      ],
      "execution_count": 0,
      "outputs": [
        {
          "output_type": "execute_result",
          "data": {
            "text/html": [
              "<div>\n",
              "<style scoped>\n",
              "    .dataframe tbody tr th:only-of-type {\n",
              "        vertical-align: middle;\n",
              "    }\n",
              "\n",
              "    .dataframe tbody tr th {\n",
              "        vertical-align: top;\n",
              "    }\n",
              "\n",
              "    .dataframe thead th {\n",
              "        text-align: right;\n",
              "    }\n",
              "</style>\n",
              "<table border=\"1\" class=\"dataframe\">\n",
              "  <thead>\n",
              "    <tr style=\"text-align: right;\">\n",
              "      <th></th>\n",
              "      <th>symboling</th>\n",
              "      <th>normalized-losses</th>\n",
              "      <th>wheel-base</th>\n",
              "      <th>length</th>\n",
              "      <th>width</th>\n",
              "      <th>height</th>\n",
              "      <th>curb-weight</th>\n",
              "      <th>engine-size</th>\n",
              "      <th>bore</th>\n",
              "      <th>stroke</th>\n",
              "      <th>compression-ratio</th>\n",
              "      <th>horsepower</th>\n",
              "      <th>peak-rpm</th>\n",
              "      <th>city-mpg</th>\n",
              "      <th>highway-mpg</th>\n",
              "      <th>price</th>\n",
              "      <th>make_alfa-romero</th>\n",
              "      <th>make_audi</th>\n",
              "      <th>make_bmw</th>\n",
              "      <th>make_chevrolet</th>\n",
              "      <th>make_dodge</th>\n",
              "      <th>make_honda</th>\n",
              "      <th>make_isuzu</th>\n",
              "      <th>make_jaguar</th>\n",
              "      <th>make_mazda</th>\n",
              "      <th>make_mercedes-benz</th>\n",
              "      <th>make_mercury</th>\n",
              "      <th>make_mitsubishi</th>\n",
              "      <th>make_nissan</th>\n",
              "      <th>make_peugot</th>\n",
              "      <th>make_plymouth</th>\n",
              "      <th>make_porsche</th>\n",
              "      <th>make_renault</th>\n",
              "      <th>make_saab</th>\n",
              "      <th>make_subaru</th>\n",
              "      <th>make_toyota</th>\n",
              "      <th>make_volkswagen</th>\n",
              "      <th>make_volvo</th>\n",
              "      <th>fuel-type_diesel</th>\n",
              "      <th>fuel-type_gas</th>\n",
              "      <th>aspiration_std</th>\n",
              "      <th>aspiration_turbo</th>\n",
              "      <th>num-of-doors_four</th>\n",
              "      <th>num-of-doors_two</th>\n",
              "      <th>body-style_convertible</th>\n",
              "      <th>body-style_hardtop</th>\n",
              "      <th>body-style_hatchback</th>\n",
              "      <th>body-style_sedan</th>\n",
              "      <th>body-style_wagon</th>\n",
              "      <th>drive-wheels_4wd</th>\n",
              "      <th>drive-wheels_fwd</th>\n",
              "      <th>drive-wheels_rwd</th>\n",
              "      <th>engine-location_front</th>\n",
              "      <th>engine-location_rear</th>\n",
              "      <th>engine-type_dohc</th>\n",
              "      <th>engine-type_dohcv</th>\n",
              "      <th>engine-type_l</th>\n",
              "      <th>engine-type_ohc</th>\n",
              "      <th>engine-type_ohcf</th>\n",
              "      <th>engine-type_ohcv</th>\n",
              "      <th>engine-type_rotor</th>\n",
              "      <th>num-of-cylinders_eight</th>\n",
              "      <th>num-of-cylinders_five</th>\n",
              "      <th>num-of-cylinders_four</th>\n",
              "      <th>num-of-cylinders_six</th>\n",
              "      <th>num-of-cylinders_three</th>\n",
              "      <th>num-of-cylinders_twelve</th>\n",
              "      <th>num-of-cylinders_two</th>\n",
              "      <th>fuel-system_1bbl</th>\n",
              "      <th>fuel-system_2bbl</th>\n",
              "      <th>fuel-system_4bbl</th>\n",
              "      <th>fuel-system_idi</th>\n",
              "      <th>fuel-system_mfi</th>\n",
              "      <th>fuel-system_mpfi</th>\n",
              "      <th>fuel-system_spdi</th>\n",
              "      <th>fuel-system_spfi</th>\n",
              "    </tr>\n",
              "  </thead>\n",
              "  <tbody>\n",
              "    <tr>\n",
              "      <th>0</th>\n",
              "      <td>3</td>\n",
              "      <td>115.0</td>\n",
              "      <td>88.6</td>\n",
              "      <td>168.8</td>\n",
              "      <td>64.1</td>\n",
              "      <td>48.8</td>\n",
              "      <td>2548</td>\n",
              "      <td>130</td>\n",
              "      <td>3.47</td>\n",
              "      <td>2.68</td>\n",
              "      <td>9.0</td>\n",
              "      <td>111.0</td>\n",
              "      <td>5000.0</td>\n",
              "      <td>21</td>\n",
              "      <td>27</td>\n",
              "      <td>13495.0</td>\n",
              "      <td>1</td>\n",
              "      <td>0</td>\n",
              "      <td>0</td>\n",
              "      <td>0</td>\n",
              "      <td>0</td>\n",
              "      <td>0</td>\n",
              "      <td>0</td>\n",
              "      <td>0</td>\n",
              "      <td>0</td>\n",
              "      <td>0</td>\n",
              "      <td>0</td>\n",
              "      <td>0</td>\n",
              "      <td>0</td>\n",
              "      <td>0</td>\n",
              "      <td>0</td>\n",
              "      <td>0</td>\n",
              "      <td>0</td>\n",
              "      <td>0</td>\n",
              "      <td>0</td>\n",
              "      <td>0</td>\n",
              "      <td>0</td>\n",
              "      <td>0</td>\n",
              "      <td>0</td>\n",
              "      <td>1</td>\n",
              "      <td>1</td>\n",
              "      <td>0</td>\n",
              "      <td>0</td>\n",
              "      <td>1</td>\n",
              "      <td>1</td>\n",
              "      <td>0</td>\n",
              "      <td>0</td>\n",
              "      <td>0</td>\n",
              "      <td>0</td>\n",
              "      <td>0</td>\n",
              "      <td>0</td>\n",
              "      <td>1</td>\n",
              "      <td>1</td>\n",
              "      <td>0</td>\n",
              "      <td>1</td>\n",
              "      <td>0</td>\n",
              "      <td>0</td>\n",
              "      <td>0</td>\n",
              "      <td>0</td>\n",
              "      <td>0</td>\n",
              "      <td>0</td>\n",
              "      <td>0</td>\n",
              "      <td>0</td>\n",
              "      <td>1</td>\n",
              "      <td>0</td>\n",
              "      <td>0</td>\n",
              "      <td>0</td>\n",
              "      <td>0</td>\n",
              "      <td>0</td>\n",
              "      <td>0</td>\n",
              "      <td>0</td>\n",
              "      <td>0</td>\n",
              "      <td>0</td>\n",
              "      <td>1</td>\n",
              "      <td>0</td>\n",
              "      <td>0</td>\n",
              "    </tr>\n",
              "    <tr>\n",
              "      <th>1</th>\n",
              "      <td>3</td>\n",
              "      <td>115.0</td>\n",
              "      <td>88.6</td>\n",
              "      <td>168.8</td>\n",
              "      <td>64.1</td>\n",
              "      <td>48.8</td>\n",
              "      <td>2548</td>\n",
              "      <td>130</td>\n",
              "      <td>3.47</td>\n",
              "      <td>2.68</td>\n",
              "      <td>9.0</td>\n",
              "      <td>111.0</td>\n",
              "      <td>5000.0</td>\n",
              "      <td>21</td>\n",
              "      <td>27</td>\n",
              "      <td>16500.0</td>\n",
              "      <td>1</td>\n",
              "      <td>0</td>\n",
              "      <td>0</td>\n",
              "      <td>0</td>\n",
              "      <td>0</td>\n",
              "      <td>0</td>\n",
              "      <td>0</td>\n",
              "      <td>0</td>\n",
              "      <td>0</td>\n",
              "      <td>0</td>\n",
              "      <td>0</td>\n",
              "      <td>0</td>\n",
              "      <td>0</td>\n",
              "      <td>0</td>\n",
              "      <td>0</td>\n",
              "      <td>0</td>\n",
              "      <td>0</td>\n",
              "      <td>0</td>\n",
              "      <td>0</td>\n",
              "      <td>0</td>\n",
              "      <td>0</td>\n",
              "      <td>0</td>\n",
              "      <td>0</td>\n",
              "      <td>1</td>\n",
              "      <td>1</td>\n",
              "      <td>0</td>\n",
              "      <td>0</td>\n",
              "      <td>1</td>\n",
              "      <td>1</td>\n",
              "      <td>0</td>\n",
              "      <td>0</td>\n",
              "      <td>0</td>\n",
              "      <td>0</td>\n",
              "      <td>0</td>\n",
              "      <td>0</td>\n",
              "      <td>1</td>\n",
              "      <td>1</td>\n",
              "      <td>0</td>\n",
              "      <td>1</td>\n",
              "      <td>0</td>\n",
              "      <td>0</td>\n",
              "      <td>0</td>\n",
              "      <td>0</td>\n",
              "      <td>0</td>\n",
              "      <td>0</td>\n",
              "      <td>0</td>\n",
              "      <td>0</td>\n",
              "      <td>1</td>\n",
              "      <td>0</td>\n",
              "      <td>0</td>\n",
              "      <td>0</td>\n",
              "      <td>0</td>\n",
              "      <td>0</td>\n",
              "      <td>0</td>\n",
              "      <td>0</td>\n",
              "      <td>0</td>\n",
              "      <td>0</td>\n",
              "      <td>1</td>\n",
              "      <td>0</td>\n",
              "      <td>0</td>\n",
              "    </tr>\n",
              "    <tr>\n",
              "      <th>2</th>\n",
              "      <td>1</td>\n",
              "      <td>115.0</td>\n",
              "      <td>94.5</td>\n",
              "      <td>171.2</td>\n",
              "      <td>65.5</td>\n",
              "      <td>52.4</td>\n",
              "      <td>2823</td>\n",
              "      <td>152</td>\n",
              "      <td>2.68</td>\n",
              "      <td>3.47</td>\n",
              "      <td>9.0</td>\n",
              "      <td>154.0</td>\n",
              "      <td>5000.0</td>\n",
              "      <td>19</td>\n",
              "      <td>26</td>\n",
              "      <td>16500.0</td>\n",
              "      <td>1</td>\n",
              "      <td>0</td>\n",
              "      <td>0</td>\n",
              "      <td>0</td>\n",
              "      <td>0</td>\n",
              "      <td>0</td>\n",
              "      <td>0</td>\n",
              "      <td>0</td>\n",
              "      <td>0</td>\n",
              "      <td>0</td>\n",
              "      <td>0</td>\n",
              "      <td>0</td>\n",
              "      <td>0</td>\n",
              "      <td>0</td>\n",
              "      <td>0</td>\n",
              "      <td>0</td>\n",
              "      <td>0</td>\n",
              "      <td>0</td>\n",
              "      <td>0</td>\n",
              "      <td>0</td>\n",
              "      <td>0</td>\n",
              "      <td>0</td>\n",
              "      <td>0</td>\n",
              "      <td>1</td>\n",
              "      <td>1</td>\n",
              "      <td>0</td>\n",
              "      <td>0</td>\n",
              "      <td>1</td>\n",
              "      <td>0</td>\n",
              "      <td>0</td>\n",
              "      <td>1</td>\n",
              "      <td>0</td>\n",
              "      <td>0</td>\n",
              "      <td>0</td>\n",
              "      <td>0</td>\n",
              "      <td>1</td>\n",
              "      <td>1</td>\n",
              "      <td>0</td>\n",
              "      <td>0</td>\n",
              "      <td>0</td>\n",
              "      <td>0</td>\n",
              "      <td>0</td>\n",
              "      <td>0</td>\n",
              "      <td>1</td>\n",
              "      <td>0</td>\n",
              "      <td>0</td>\n",
              "      <td>0</td>\n",
              "      <td>0</td>\n",
              "      <td>1</td>\n",
              "      <td>0</td>\n",
              "      <td>0</td>\n",
              "      <td>0</td>\n",
              "      <td>0</td>\n",
              "      <td>0</td>\n",
              "      <td>0</td>\n",
              "      <td>0</td>\n",
              "      <td>0</td>\n",
              "      <td>1</td>\n",
              "      <td>0</td>\n",
              "      <td>0</td>\n",
              "    </tr>\n",
              "    <tr>\n",
              "      <th>3</th>\n",
              "      <td>2</td>\n",
              "      <td>164.0</td>\n",
              "      <td>99.8</td>\n",
              "      <td>176.6</td>\n",
              "      <td>66.2</td>\n",
              "      <td>54.3</td>\n",
              "      <td>2337</td>\n",
              "      <td>109</td>\n",
              "      <td>3.19</td>\n",
              "      <td>3.40</td>\n",
              "      <td>10.0</td>\n",
              "      <td>102.0</td>\n",
              "      <td>5500.0</td>\n",
              "      <td>24</td>\n",
              "      <td>30</td>\n",
              "      <td>13950.0</td>\n",
              "      <td>0</td>\n",
              "      <td>1</td>\n",
              "      <td>0</td>\n",
              "      <td>0</td>\n",
              "      <td>0</td>\n",
              "      <td>0</td>\n",
              "      <td>0</td>\n",
              "      <td>0</td>\n",
              "      <td>0</td>\n",
              "      <td>0</td>\n",
              "      <td>0</td>\n",
              "      <td>0</td>\n",
              "      <td>0</td>\n",
              "      <td>0</td>\n",
              "      <td>0</td>\n",
              "      <td>0</td>\n",
              "      <td>0</td>\n",
              "      <td>0</td>\n",
              "      <td>0</td>\n",
              "      <td>0</td>\n",
              "      <td>0</td>\n",
              "      <td>0</td>\n",
              "      <td>0</td>\n",
              "      <td>1</td>\n",
              "      <td>1</td>\n",
              "      <td>0</td>\n",
              "      <td>1</td>\n",
              "      <td>0</td>\n",
              "      <td>0</td>\n",
              "      <td>0</td>\n",
              "      <td>0</td>\n",
              "      <td>1</td>\n",
              "      <td>0</td>\n",
              "      <td>0</td>\n",
              "      <td>1</td>\n",
              "      <td>0</td>\n",
              "      <td>1</td>\n",
              "      <td>0</td>\n",
              "      <td>0</td>\n",
              "      <td>0</td>\n",
              "      <td>0</td>\n",
              "      <td>1</td>\n",
              "      <td>0</td>\n",
              "      <td>0</td>\n",
              "      <td>0</td>\n",
              "      <td>0</td>\n",
              "      <td>0</td>\n",
              "      <td>1</td>\n",
              "      <td>0</td>\n",
              "      <td>0</td>\n",
              "      <td>0</td>\n",
              "      <td>0</td>\n",
              "      <td>0</td>\n",
              "      <td>0</td>\n",
              "      <td>0</td>\n",
              "      <td>0</td>\n",
              "      <td>0</td>\n",
              "      <td>1</td>\n",
              "      <td>0</td>\n",
              "      <td>0</td>\n",
              "    </tr>\n",
              "    <tr>\n",
              "      <th>4</th>\n",
              "      <td>2</td>\n",
              "      <td>164.0</td>\n",
              "      <td>99.4</td>\n",
              "      <td>176.6</td>\n",
              "      <td>66.4</td>\n",
              "      <td>54.3</td>\n",
              "      <td>2824</td>\n",
              "      <td>136</td>\n",
              "      <td>3.19</td>\n",
              "      <td>3.40</td>\n",
              "      <td>8.0</td>\n",
              "      <td>115.0</td>\n",
              "      <td>5500.0</td>\n",
              "      <td>18</td>\n",
              "      <td>22</td>\n",
              "      <td>17450.0</td>\n",
              "      <td>0</td>\n",
              "      <td>1</td>\n",
              "      <td>0</td>\n",
              "      <td>0</td>\n",
              "      <td>0</td>\n",
              "      <td>0</td>\n",
              "      <td>0</td>\n",
              "      <td>0</td>\n",
              "      <td>0</td>\n",
              "      <td>0</td>\n",
              "      <td>0</td>\n",
              "      <td>0</td>\n",
              "      <td>0</td>\n",
              "      <td>0</td>\n",
              "      <td>0</td>\n",
              "      <td>0</td>\n",
              "      <td>0</td>\n",
              "      <td>0</td>\n",
              "      <td>0</td>\n",
              "      <td>0</td>\n",
              "      <td>0</td>\n",
              "      <td>0</td>\n",
              "      <td>0</td>\n",
              "      <td>1</td>\n",
              "      <td>1</td>\n",
              "      <td>0</td>\n",
              "      <td>1</td>\n",
              "      <td>0</td>\n",
              "      <td>0</td>\n",
              "      <td>0</td>\n",
              "      <td>0</td>\n",
              "      <td>1</td>\n",
              "      <td>0</td>\n",
              "      <td>1</td>\n",
              "      <td>0</td>\n",
              "      <td>0</td>\n",
              "      <td>1</td>\n",
              "      <td>0</td>\n",
              "      <td>0</td>\n",
              "      <td>0</td>\n",
              "      <td>0</td>\n",
              "      <td>1</td>\n",
              "      <td>0</td>\n",
              "      <td>0</td>\n",
              "      <td>0</td>\n",
              "      <td>0</td>\n",
              "      <td>1</td>\n",
              "      <td>0</td>\n",
              "      <td>0</td>\n",
              "      <td>0</td>\n",
              "      <td>0</td>\n",
              "      <td>0</td>\n",
              "      <td>0</td>\n",
              "      <td>0</td>\n",
              "      <td>0</td>\n",
              "      <td>0</td>\n",
              "      <td>0</td>\n",
              "      <td>1</td>\n",
              "      <td>0</td>\n",
              "      <td>0</td>\n",
              "    </tr>\n",
              "  </tbody>\n",
              "</table>\n",
              "</div>"
            ],
            "text/plain": [
              "   symboling  normalized-losses  ...  fuel-system_spdi  fuel-system_spfi\n",
              "0          3              115.0  ...                 0                 0\n",
              "1          3              115.0  ...                 0                 0\n",
              "2          1              115.0  ...                 0                 0\n",
              "3          2              164.0  ...                 0                 0\n",
              "4          2              164.0  ...                 0                 0\n",
              "\n",
              "[5 rows x 76 columns]"
            ]
          },
          "metadata": {
            "tags": []
          },
          "execution_count": 434
        }
      ]
    },
    {
      "cell_type": "code",
      "metadata": {
        "id": "QhYfmhCCMNUm",
        "colab_type": "code",
        "outputId": "24ba9f1b-3509-4ef2-d0de-cfd63dae82e5",
        "colab": {
          "base_uri": "https://localhost:8080/",
          "height": 33
        }
      },
      "source": [
        "X.isna().sum().sum()"
      ],
      "execution_count": 0,
      "outputs": [
        {
          "output_type": "execute_result",
          "data": {
            "text/plain": [
              "0"
            ]
          },
          "metadata": {
            "tags": []
          },
          "execution_count": 435
        }
      ]
    },
    {
      "cell_type": "markdown",
      "metadata": {
        "colab_type": "text",
        "id": "fckEihNMSsdo"
      },
      "source": [
        "# **Support-Vector Machines**"
      ]
    },
    {
      "cell_type": "code",
      "metadata": {
        "id": "oGDbaqlW-r4O",
        "colab_type": "code",
        "colab": {}
      },
      "source": [
        "X_train, X_test, y_train, y_test = tts(X, Y, test_size=0.3, random_state=42)"
      ],
      "execution_count": 0,
      "outputs": []
    },
    {
      "cell_type": "code",
      "metadata": {
        "id": "wBDgAEXUSp6R",
        "colab_type": "code",
        "outputId": "12e92fd7-8a83-4617-9bfa-0e62050563f4",
        "colab": {
          "base_uri": "https://localhost:8080/",
          "height": 117
        }
      },
      "source": [
        "svc = LinearSVC()\n",
        "svc.fit(X_train, y_train)"
      ],
      "execution_count": 0,
      "outputs": [
        {
          "output_type": "stream",
          "text": [
            "/usr/local/lib/python3.6/dist-packages/sklearn/svm/_base.py:947: ConvergenceWarning: Liblinear failed to converge, increase the number of iterations.\n",
            "  \"the number of iterations.\", ConvergenceWarning)\n"
          ],
          "name": "stderr"
        },
        {
          "output_type": "execute_result",
          "data": {
            "text/plain": [
              "LinearSVC(C=1.0, class_weight=None, dual=True, fit_intercept=True,\n",
              "          intercept_scaling=1, loss='squared_hinge', max_iter=1000,\n",
              "          multi_class='ovr', penalty='l2', random_state=None, tol=0.0001,\n",
              "          verbose=0)"
            ]
          },
          "metadata": {
            "tags": []
          },
          "execution_count": 437
        }
      ]
    },
    {
      "cell_type": "code",
      "metadata": {
        "id": "Ou4jD5uVVCJF",
        "colab_type": "code",
        "outputId": "ed61b522-93ed-4ddb-c93a-1d72adc13cdc",
        "colab": {
          "base_uri": "https://localhost:8080/",
          "height": 33
        }
      },
      "source": [
        "svc.score(X_test,y_test)"
      ],
      "execution_count": 0,
      "outputs": [
        {
          "output_type": "execute_result",
          "data": {
            "text/plain": [
              "0.8709677419354839"
            ]
          },
          "metadata": {
            "tags": []
          },
          "execution_count": 438
        }
      ]
    },
    {
      "cell_type": "code",
      "metadata": {
        "id": "Zp6yWDcBVRJ2",
        "colab_type": "code",
        "outputId": "f2c14c39-bd3e-4b4d-e87b-f3724cf87716",
        "colab": {
          "base_uri": "https://localhost:8080/",
          "height": 221
        }
      },
      "source": [
        "predictions3 = svc.predict(X_test)\n",
        "print(classification_report(y_test,predictions3))"
      ],
      "execution_count": 0,
      "outputs": [
        {
          "output_type": "stream",
          "text": [
            "              precision    recall  f1-score   support\n",
            "\n",
            "      diesel       0.00      0.00      0.00         8\n",
            "         gas       0.87      1.00      0.93        54\n",
            "\n",
            "    accuracy                           0.87        62\n",
            "   macro avg       0.44      0.50      0.47        62\n",
            "weighted avg       0.76      0.87      0.81        62\n",
            "\n"
          ],
          "name": "stdout"
        },
        {
          "output_type": "stream",
          "text": [
            "/usr/local/lib/python3.6/dist-packages/sklearn/metrics/_classification.py:1272: UndefinedMetricWarning: Precision and F-score are ill-defined and being set to 0.0 in labels with no predicted samples. Use `zero_division` parameter to control this behavior.\n",
            "  _warn_prf(average, modifier, msg_start, len(result))\n"
          ],
          "name": "stderr"
        }
      ]
    },
    {
      "cell_type": "code",
      "metadata": {
        "id": "o9Loh4lEVXKX",
        "colab_type": "code",
        "outputId": "513afe2f-abd9-4479-9410-bc0e42fcdfc6",
        "colab": {
          "base_uri": "https://localhost:8080/",
          "height": 50
        }
      },
      "source": [
        "print(confusion_matrix(y_test,predictions3))"
      ],
      "execution_count": 0,
      "outputs": [
        {
          "output_type": "stream",
          "text": [
            "[[ 0  8]\n",
            " [ 0 54]]\n"
          ],
          "name": "stdout"
        }
      ]
    },
    {
      "cell_type": "markdown",
      "metadata": {
        "id": "_CKun6OAH3ja",
        "colab_type": "text"
      },
      "source": [
        "# **Logistic Regression**"
      ]
    },
    {
      "cell_type": "code",
      "metadata": {
        "id": "VAWYEbf0EEBx",
        "colab_type": "code",
        "outputId": "94718a7b-ebd5-4299-c56a-f1ea3af3cdb4",
        "colab": {
          "base_uri": "https://localhost:8080/",
          "height": 234
        }
      },
      "source": [
        "clf = LogisticRegression()\n",
        "clf.fit(X_train,y_train)"
      ],
      "execution_count": 0,
      "outputs": [
        {
          "output_type": "stream",
          "text": [
            "/usr/local/lib/python3.6/dist-packages/sklearn/linear_model/_logistic.py:940: ConvergenceWarning: lbfgs failed to converge (status=1):\n",
            "STOP: TOTAL NO. of ITERATIONS REACHED LIMIT.\n",
            "\n",
            "Increase the number of iterations (max_iter) or scale the data as shown in:\n",
            "    https://scikit-learn.org/stable/modules/preprocessing.html\n",
            "Please also refer to the documentation for alternative solver options:\n",
            "    https://scikit-learn.org/stable/modules/linear_model.html#logistic-regression\n",
            "  extra_warning_msg=_LOGISTIC_SOLVER_CONVERGENCE_MSG)\n"
          ],
          "name": "stderr"
        },
        {
          "output_type": "execute_result",
          "data": {
            "text/plain": [
              "LogisticRegression(C=1.0, class_weight=None, dual=False, fit_intercept=True,\n",
              "                   intercept_scaling=1, l1_ratio=None, max_iter=100,\n",
              "                   multi_class='auto', n_jobs=None, penalty='l2',\n",
              "                   random_state=None, solver='lbfgs', tol=0.0001, verbose=0,\n",
              "                   warm_start=False)"
            ]
          },
          "metadata": {
            "tags": []
          },
          "execution_count": 441
        }
      ]
    },
    {
      "cell_type": "code",
      "metadata": {
        "id": "t55GfN-1E2D1",
        "colab_type": "code",
        "outputId": "c809410b-42cf-4da1-97de-2725bd0e8631",
        "colab": {
          "base_uri": "https://localhost:8080/",
          "height": 33
        }
      },
      "source": [
        "clf.score(X_test,y_test)"
      ],
      "execution_count": 0,
      "outputs": [
        {
          "output_type": "execute_result",
          "data": {
            "text/plain": [
              "1.0"
            ]
          },
          "metadata": {
            "tags": []
          },
          "execution_count": 442
        }
      ]
    },
    {
      "cell_type": "code",
      "metadata": {
        "id": "ju9RonhJDDz3",
        "colab_type": "code",
        "outputId": "7a004892-eae9-4f14-e924-a40d2c15a0f1",
        "colab": {
          "base_uri": "https://localhost:8080/",
          "height": 167
        }
      },
      "source": [
        "predictions = clf.predict(X_test)\n",
        "print(classification_report(y_test,predictions))"
      ],
      "execution_count": 0,
      "outputs": [
        {
          "output_type": "stream",
          "text": [
            "              precision    recall  f1-score   support\n",
            "\n",
            "      diesel       1.00      1.00      1.00         8\n",
            "         gas       1.00      1.00      1.00        54\n",
            "\n",
            "    accuracy                           1.00        62\n",
            "   macro avg       1.00      1.00      1.00        62\n",
            "weighted avg       1.00      1.00      1.00        62\n",
            "\n"
          ],
          "name": "stdout"
        }
      ]
    },
    {
      "cell_type": "code",
      "metadata": {
        "id": "vVly8t79HnnS",
        "colab_type": "code",
        "outputId": "83d5df6b-ed85-4b11-baac-8efd732664d9",
        "colab": {
          "base_uri": "https://localhost:8080/",
          "height": 50
        }
      },
      "source": [
        "print(confusion_matrix(y_test,predictions))"
      ],
      "execution_count": 0,
      "outputs": [
        {
          "output_type": "stream",
          "text": [
            "[[ 8  0]\n",
            " [ 0 54]]\n"
          ],
          "name": "stdout"
        }
      ]
    },
    {
      "cell_type": "markdown",
      "metadata": {
        "colab_type": "text",
        "id": "hFVFCayFOxLK"
      },
      "source": [
        "# **Linear Regression**"
      ]
    },
    {
      "cell_type": "code",
      "metadata": {
        "id": "KUgIR-VQKjl4",
        "colab_type": "code",
        "outputId": "948acf65-7255-4f63-992c-d5cc9e34fd45",
        "colab": {
          "base_uri": "https://localhost:8080/",
          "height": 404
        }
      },
      "source": [
        "X[numeric]"
      ],
      "execution_count": 0,
      "outputs": [
        {
          "output_type": "execute_result",
          "data": {
            "text/html": [
              "<div>\n",
              "<style scoped>\n",
              "    .dataframe tbody tr th:only-of-type {\n",
              "        vertical-align: middle;\n",
              "    }\n",
              "\n",
              "    .dataframe tbody tr th {\n",
              "        vertical-align: top;\n",
              "    }\n",
              "\n",
              "    .dataframe thead th {\n",
              "        text-align: right;\n",
              "    }\n",
              "</style>\n",
              "<table border=\"1\" class=\"dataframe\">\n",
              "  <thead>\n",
              "    <tr style=\"text-align: right;\">\n",
              "      <th></th>\n",
              "      <th>normalized-losses</th>\n",
              "      <th>wheel-base</th>\n",
              "      <th>length</th>\n",
              "      <th>width</th>\n",
              "      <th>height</th>\n",
              "      <th>bore</th>\n",
              "      <th>stroke</th>\n",
              "      <th>compression-ratio</th>\n",
              "      <th>horsepower</th>\n",
              "      <th>peak-rpm</th>\n",
              "      <th>price</th>\n",
              "    </tr>\n",
              "  </thead>\n",
              "  <tbody>\n",
              "    <tr>\n",
              "      <th>0</th>\n",
              "      <td>115.0</td>\n",
              "      <td>88.6</td>\n",
              "      <td>168.8</td>\n",
              "      <td>64.1</td>\n",
              "      <td>48.8</td>\n",
              "      <td>3.47</td>\n",
              "      <td>2.68</td>\n",
              "      <td>9.0</td>\n",
              "      <td>111.0</td>\n",
              "      <td>5000.0</td>\n",
              "      <td>13495.0</td>\n",
              "    </tr>\n",
              "    <tr>\n",
              "      <th>1</th>\n",
              "      <td>115.0</td>\n",
              "      <td>88.6</td>\n",
              "      <td>168.8</td>\n",
              "      <td>64.1</td>\n",
              "      <td>48.8</td>\n",
              "      <td>3.47</td>\n",
              "      <td>2.68</td>\n",
              "      <td>9.0</td>\n",
              "      <td>111.0</td>\n",
              "      <td>5000.0</td>\n",
              "      <td>16500.0</td>\n",
              "    </tr>\n",
              "    <tr>\n",
              "      <th>2</th>\n",
              "      <td>115.0</td>\n",
              "      <td>94.5</td>\n",
              "      <td>171.2</td>\n",
              "      <td>65.5</td>\n",
              "      <td>52.4</td>\n",
              "      <td>2.68</td>\n",
              "      <td>3.47</td>\n",
              "      <td>9.0</td>\n",
              "      <td>154.0</td>\n",
              "      <td>5000.0</td>\n",
              "      <td>16500.0</td>\n",
              "    </tr>\n",
              "    <tr>\n",
              "      <th>3</th>\n",
              "      <td>164.0</td>\n",
              "      <td>99.8</td>\n",
              "      <td>176.6</td>\n",
              "      <td>66.2</td>\n",
              "      <td>54.3</td>\n",
              "      <td>3.19</td>\n",
              "      <td>3.40</td>\n",
              "      <td>10.0</td>\n",
              "      <td>102.0</td>\n",
              "      <td>5500.0</td>\n",
              "      <td>13950.0</td>\n",
              "    </tr>\n",
              "    <tr>\n",
              "      <th>4</th>\n",
              "      <td>164.0</td>\n",
              "      <td>99.4</td>\n",
              "      <td>176.6</td>\n",
              "      <td>66.4</td>\n",
              "      <td>54.3</td>\n",
              "      <td>3.19</td>\n",
              "      <td>3.40</td>\n",
              "      <td>8.0</td>\n",
              "      <td>115.0</td>\n",
              "      <td>5500.0</td>\n",
              "      <td>17450.0</td>\n",
              "    </tr>\n",
              "    <tr>\n",
              "      <th>...</th>\n",
              "      <td>...</td>\n",
              "      <td>...</td>\n",
              "      <td>...</td>\n",
              "      <td>...</td>\n",
              "      <td>...</td>\n",
              "      <td>...</td>\n",
              "      <td>...</td>\n",
              "      <td>...</td>\n",
              "      <td>...</td>\n",
              "      <td>...</td>\n",
              "      <td>...</td>\n",
              "    </tr>\n",
              "    <tr>\n",
              "      <th>200</th>\n",
              "      <td>95.0</td>\n",
              "      <td>109.1</td>\n",
              "      <td>188.8</td>\n",
              "      <td>68.9</td>\n",
              "      <td>55.5</td>\n",
              "      <td>3.78</td>\n",
              "      <td>3.15</td>\n",
              "      <td>9.5</td>\n",
              "      <td>114.0</td>\n",
              "      <td>5400.0</td>\n",
              "      <td>16845.0</td>\n",
              "    </tr>\n",
              "    <tr>\n",
              "      <th>201</th>\n",
              "      <td>95.0</td>\n",
              "      <td>109.1</td>\n",
              "      <td>188.8</td>\n",
              "      <td>68.8</td>\n",
              "      <td>55.5</td>\n",
              "      <td>3.78</td>\n",
              "      <td>3.15</td>\n",
              "      <td>8.7</td>\n",
              "      <td>160.0</td>\n",
              "      <td>5300.0</td>\n",
              "      <td>19045.0</td>\n",
              "    </tr>\n",
              "    <tr>\n",
              "      <th>202</th>\n",
              "      <td>95.0</td>\n",
              "      <td>109.1</td>\n",
              "      <td>188.8</td>\n",
              "      <td>68.9</td>\n",
              "      <td>55.5</td>\n",
              "      <td>3.58</td>\n",
              "      <td>2.87</td>\n",
              "      <td>8.8</td>\n",
              "      <td>134.0</td>\n",
              "      <td>5500.0</td>\n",
              "      <td>21485.0</td>\n",
              "    </tr>\n",
              "    <tr>\n",
              "      <th>203</th>\n",
              "      <td>95.0</td>\n",
              "      <td>109.1</td>\n",
              "      <td>188.8</td>\n",
              "      <td>68.9</td>\n",
              "      <td>55.5</td>\n",
              "      <td>3.01</td>\n",
              "      <td>3.40</td>\n",
              "      <td>23.0</td>\n",
              "      <td>106.0</td>\n",
              "      <td>4800.0</td>\n",
              "      <td>22470.0</td>\n",
              "    </tr>\n",
              "    <tr>\n",
              "      <th>204</th>\n",
              "      <td>95.0</td>\n",
              "      <td>109.1</td>\n",
              "      <td>188.8</td>\n",
              "      <td>68.9</td>\n",
              "      <td>55.5</td>\n",
              "      <td>3.78</td>\n",
              "      <td>3.15</td>\n",
              "      <td>9.5</td>\n",
              "      <td>114.0</td>\n",
              "      <td>5400.0</td>\n",
              "      <td>22625.0</td>\n",
              "    </tr>\n",
              "  </tbody>\n",
              "</table>\n",
              "<p>205 rows × 11 columns</p>\n",
              "</div>"
            ],
            "text/plain": [
              "     normalized-losses  wheel-base  length  ...  horsepower  peak-rpm    price\n",
              "0                115.0        88.6   168.8  ...       111.0    5000.0  13495.0\n",
              "1                115.0        88.6   168.8  ...       111.0    5000.0  16500.0\n",
              "2                115.0        94.5   171.2  ...       154.0    5000.0  16500.0\n",
              "3                164.0        99.8   176.6  ...       102.0    5500.0  13950.0\n",
              "4                164.0        99.4   176.6  ...       115.0    5500.0  17450.0\n",
              "..                 ...         ...     ...  ...         ...       ...      ...\n",
              "200               95.0       109.1   188.8  ...       114.0    5400.0  16845.0\n",
              "201               95.0       109.1   188.8  ...       160.0    5300.0  19045.0\n",
              "202               95.0       109.1   188.8  ...       134.0    5500.0  21485.0\n",
              "203               95.0       109.1   188.8  ...       106.0    4800.0  22470.0\n",
              "204               95.0       109.1   188.8  ...       114.0    5400.0  22625.0\n",
              "\n",
              "[205 rows x 11 columns]"
            ]
          },
          "metadata": {
            "tags": []
          },
          "execution_count": 445
        }
      ]
    },
    {
      "cell_type": "code",
      "metadata": {
        "id": "iPkZMjflJyAv",
        "colab_type": "code",
        "outputId": "90136549-df69-4822-8abd-299b12396346",
        "colab": {
          "base_uri": "https://localhost:8080/",
          "height": 217
        }
      },
      "source": [
        "\n",
        "Yy = X[\"price\"]\n",
        "Yy"
      ],
      "execution_count": 0,
      "outputs": [
        {
          "output_type": "execute_result",
          "data": {
            "text/plain": [
              "0      13495.0\n",
              "1      16500.0\n",
              "2      16500.0\n",
              "3      13950.0\n",
              "4      17450.0\n",
              "        ...   \n",
              "200    16845.0\n",
              "201    19045.0\n",
              "202    21485.0\n",
              "203    22470.0\n",
              "204    22625.0\n",
              "Name: price, Length: 205, dtype: float64"
            ]
          },
          "metadata": {
            "tags": []
          },
          "execution_count": 446
        }
      ]
    },
    {
      "cell_type": "code",
      "metadata": {
        "id": "rj1dCRfBIG-t",
        "colab_type": "code",
        "outputId": "98f279ea-36e8-4ce2-ff46-b106ea43439b",
        "colab": {
          "base_uri": "https://localhost:8080/",
          "height": 488
        }
      },
      "source": [
        "Xx = X[numeric]\n",
        "Xx.drop([\"price\"], axis = 1,inplace = True)\n",
        "Xx"
      ],
      "execution_count": 0,
      "outputs": [
        {
          "output_type": "stream",
          "text": [
            "/usr/local/lib/python3.6/dist-packages/pandas/core/frame.py:4117: SettingWithCopyWarning: \n",
            "A value is trying to be set on a copy of a slice from a DataFrame\n",
            "\n",
            "See the caveats in the documentation: http://pandas.pydata.org/pandas-docs/stable/user_guide/indexing.html#returning-a-view-versus-a-copy\n",
            "  errors=errors,\n"
          ],
          "name": "stderr"
        },
        {
          "output_type": "execute_result",
          "data": {
            "text/html": [
              "<div>\n",
              "<style scoped>\n",
              "    .dataframe tbody tr th:only-of-type {\n",
              "        vertical-align: middle;\n",
              "    }\n",
              "\n",
              "    .dataframe tbody tr th {\n",
              "        vertical-align: top;\n",
              "    }\n",
              "\n",
              "    .dataframe thead th {\n",
              "        text-align: right;\n",
              "    }\n",
              "</style>\n",
              "<table border=\"1\" class=\"dataframe\">\n",
              "  <thead>\n",
              "    <tr style=\"text-align: right;\">\n",
              "      <th></th>\n",
              "      <th>normalized-losses</th>\n",
              "      <th>wheel-base</th>\n",
              "      <th>length</th>\n",
              "      <th>width</th>\n",
              "      <th>height</th>\n",
              "      <th>bore</th>\n",
              "      <th>stroke</th>\n",
              "      <th>compression-ratio</th>\n",
              "      <th>horsepower</th>\n",
              "      <th>peak-rpm</th>\n",
              "    </tr>\n",
              "  </thead>\n",
              "  <tbody>\n",
              "    <tr>\n",
              "      <th>0</th>\n",
              "      <td>115.0</td>\n",
              "      <td>88.6</td>\n",
              "      <td>168.8</td>\n",
              "      <td>64.1</td>\n",
              "      <td>48.8</td>\n",
              "      <td>3.47</td>\n",
              "      <td>2.68</td>\n",
              "      <td>9.0</td>\n",
              "      <td>111.0</td>\n",
              "      <td>5000.0</td>\n",
              "    </tr>\n",
              "    <tr>\n",
              "      <th>1</th>\n",
              "      <td>115.0</td>\n",
              "      <td>88.6</td>\n",
              "      <td>168.8</td>\n",
              "      <td>64.1</td>\n",
              "      <td>48.8</td>\n",
              "      <td>3.47</td>\n",
              "      <td>2.68</td>\n",
              "      <td>9.0</td>\n",
              "      <td>111.0</td>\n",
              "      <td>5000.0</td>\n",
              "    </tr>\n",
              "    <tr>\n",
              "      <th>2</th>\n",
              "      <td>115.0</td>\n",
              "      <td>94.5</td>\n",
              "      <td>171.2</td>\n",
              "      <td>65.5</td>\n",
              "      <td>52.4</td>\n",
              "      <td>2.68</td>\n",
              "      <td>3.47</td>\n",
              "      <td>9.0</td>\n",
              "      <td>154.0</td>\n",
              "      <td>5000.0</td>\n",
              "    </tr>\n",
              "    <tr>\n",
              "      <th>3</th>\n",
              "      <td>164.0</td>\n",
              "      <td>99.8</td>\n",
              "      <td>176.6</td>\n",
              "      <td>66.2</td>\n",
              "      <td>54.3</td>\n",
              "      <td>3.19</td>\n",
              "      <td>3.40</td>\n",
              "      <td>10.0</td>\n",
              "      <td>102.0</td>\n",
              "      <td>5500.0</td>\n",
              "    </tr>\n",
              "    <tr>\n",
              "      <th>4</th>\n",
              "      <td>164.0</td>\n",
              "      <td>99.4</td>\n",
              "      <td>176.6</td>\n",
              "      <td>66.4</td>\n",
              "      <td>54.3</td>\n",
              "      <td>3.19</td>\n",
              "      <td>3.40</td>\n",
              "      <td>8.0</td>\n",
              "      <td>115.0</td>\n",
              "      <td>5500.0</td>\n",
              "    </tr>\n",
              "    <tr>\n",
              "      <th>...</th>\n",
              "      <td>...</td>\n",
              "      <td>...</td>\n",
              "      <td>...</td>\n",
              "      <td>...</td>\n",
              "      <td>...</td>\n",
              "      <td>...</td>\n",
              "      <td>...</td>\n",
              "      <td>...</td>\n",
              "      <td>...</td>\n",
              "      <td>...</td>\n",
              "    </tr>\n",
              "    <tr>\n",
              "      <th>200</th>\n",
              "      <td>95.0</td>\n",
              "      <td>109.1</td>\n",
              "      <td>188.8</td>\n",
              "      <td>68.9</td>\n",
              "      <td>55.5</td>\n",
              "      <td>3.78</td>\n",
              "      <td>3.15</td>\n",
              "      <td>9.5</td>\n",
              "      <td>114.0</td>\n",
              "      <td>5400.0</td>\n",
              "    </tr>\n",
              "    <tr>\n",
              "      <th>201</th>\n",
              "      <td>95.0</td>\n",
              "      <td>109.1</td>\n",
              "      <td>188.8</td>\n",
              "      <td>68.8</td>\n",
              "      <td>55.5</td>\n",
              "      <td>3.78</td>\n",
              "      <td>3.15</td>\n",
              "      <td>8.7</td>\n",
              "      <td>160.0</td>\n",
              "      <td>5300.0</td>\n",
              "    </tr>\n",
              "    <tr>\n",
              "      <th>202</th>\n",
              "      <td>95.0</td>\n",
              "      <td>109.1</td>\n",
              "      <td>188.8</td>\n",
              "      <td>68.9</td>\n",
              "      <td>55.5</td>\n",
              "      <td>3.58</td>\n",
              "      <td>2.87</td>\n",
              "      <td>8.8</td>\n",
              "      <td>134.0</td>\n",
              "      <td>5500.0</td>\n",
              "    </tr>\n",
              "    <tr>\n",
              "      <th>203</th>\n",
              "      <td>95.0</td>\n",
              "      <td>109.1</td>\n",
              "      <td>188.8</td>\n",
              "      <td>68.9</td>\n",
              "      <td>55.5</td>\n",
              "      <td>3.01</td>\n",
              "      <td>3.40</td>\n",
              "      <td>23.0</td>\n",
              "      <td>106.0</td>\n",
              "      <td>4800.0</td>\n",
              "    </tr>\n",
              "    <tr>\n",
              "      <th>204</th>\n",
              "      <td>95.0</td>\n",
              "      <td>109.1</td>\n",
              "      <td>188.8</td>\n",
              "      <td>68.9</td>\n",
              "      <td>55.5</td>\n",
              "      <td>3.78</td>\n",
              "      <td>3.15</td>\n",
              "      <td>9.5</td>\n",
              "      <td>114.0</td>\n",
              "      <td>5400.0</td>\n",
              "    </tr>\n",
              "  </tbody>\n",
              "</table>\n",
              "<p>205 rows × 10 columns</p>\n",
              "</div>"
            ],
            "text/plain": [
              "     normalized-losses  wheel-base  ...  horsepower  peak-rpm\n",
              "0                115.0        88.6  ...       111.0    5000.0\n",
              "1                115.0        88.6  ...       111.0    5000.0\n",
              "2                115.0        94.5  ...       154.0    5000.0\n",
              "3                164.0        99.8  ...       102.0    5500.0\n",
              "4                164.0        99.4  ...       115.0    5500.0\n",
              "..                 ...         ...  ...         ...       ...\n",
              "200               95.0       109.1  ...       114.0    5400.0\n",
              "201               95.0       109.1  ...       160.0    5300.0\n",
              "202               95.0       109.1  ...       134.0    5500.0\n",
              "203               95.0       109.1  ...       106.0    4800.0\n",
              "204               95.0       109.1  ...       114.0    5400.0\n",
              "\n",
              "[205 rows x 10 columns]"
            ]
          },
          "metadata": {
            "tags": []
          },
          "execution_count": 447
        }
      ]
    },
    {
      "cell_type": "code",
      "metadata": {
        "id": "FkDGLeVPIHIS",
        "colab_type": "code",
        "colab": {}
      },
      "source": [
        "Xx_train, Xx_test, Yy_train, Yy_test = tts(Xx, Yy, test_size=0.3, random_state=42)"
      ],
      "execution_count": 0,
      "outputs": []
    },
    {
      "cell_type": "code",
      "metadata": {
        "id": "spnWIMTSIHLK",
        "colab_type": "code",
        "colab": {}
      },
      "source": [
        "reg = LinearRegression()"
      ],
      "execution_count": 0,
      "outputs": []
    },
    {
      "cell_type": "code",
      "metadata": {
        "id": "V7D7ynaOIHQ2",
        "colab_type": "code",
        "outputId": "8ef4aa53-85b0-4e88-a772-53ea9460e2b7",
        "colab": {
          "base_uri": "https://localhost:8080/",
          "height": 33
        }
      },
      "source": [
        "reg.fit(Xx_train,Yy_train)"
      ],
      "execution_count": 0,
      "outputs": [
        {
          "output_type": "execute_result",
          "data": {
            "text/plain": [
              "LinearRegression(copy_X=True, fit_intercept=True, n_jobs=None, normalize=False)"
            ]
          },
          "metadata": {
            "tags": []
          },
          "execution_count": 450
        }
      ]
    },
    {
      "cell_type": "code",
      "metadata": {
        "id": "GP8boxVGIHOf",
        "colab_type": "code",
        "outputId": "02536c62-4b20-4e1d-fab9-6141ca861682",
        "colab": {
          "base_uri": "https://localhost:8080/",
          "height": 33
        }
      },
      "source": [
        "reg.score(Xx_test,Yy_test)"
      ],
      "execution_count": 0,
      "outputs": [
        {
          "output_type": "execute_result",
          "data": {
            "text/plain": [
              "0.6846131775505817"
            ]
          },
          "metadata": {
            "tags": []
          },
          "execution_count": 451
        }
      ]
    },
    {
      "cell_type": "code",
      "metadata": {
        "id": "j60uMpNeNcZv",
        "colab_type": "code",
        "outputId": "f64e2da4-7fc5-47cd-8a23-48410d8534a7",
        "colab": {
          "base_uri": "https://localhost:8080/",
          "height": 217
        }
      },
      "source": [
        "Yy_test"
      ],
      "execution_count": 0,
      "outputs": [
        {
          "output_type": "execute_result",
          "data": {
            "text/plain": [
              "15     30760.0\n",
              "9      10295.0\n",
              "100     9549.0\n",
              "132    11850.0\n",
              "68     28248.0\n",
              "        ...   \n",
              "56     11845.0\n",
              "128    37028.0\n",
              "76      5389.0\n",
              "144     9233.0\n",
              "104    17199.0\n",
              "Name: price, Length: 62, dtype: float64"
            ]
          },
          "metadata": {
            "tags": []
          },
          "execution_count": 452
        }
      ]
    },
    {
      "cell_type": "code",
      "metadata": {
        "id": "yU3UHx27NKMA",
        "colab_type": "code",
        "outputId": "8a6a6d77-0c39-4257-ba51-b1bf9ec6bd88",
        "colab": {
          "base_uri": "https://localhost:8080/",
          "height": 284
        }
      },
      "source": [
        "predictions2 = reg.predict(Xx_test)\n",
        "predictions2"
      ],
      "execution_count": 0,
      "outputs": [
        {
          "output_type": "execute_result",
          "data": {
            "text/plain": [
              "array([22467.21552787, 20066.72641424, 10724.90073191, 15120.25140184,\n",
              "       20943.32035431,  6776.19806172,  7337.33710478,  7900.10349666,\n",
              "       11389.67791032,  8309.84730795, 14388.96865603,  8552.88828342,\n",
              "       15124.56475379, 12846.76707911, 31260.12267779,  5399.89511995,\n",
              "        -677.38862118, 16012.1262124 , 10644.27272096, 11456.01107617,\n",
              "       11358.25540223, 18779.55867203,  6854.3439994 ,  2915.16373999,\n",
              "        6255.44199704, 24037.6189948 , 14181.0687202 , 15477.35493659,\n",
              "        7083.13120003, 16011.90470331, 21377.53726198,  6312.95242088,\n",
              "        5960.46859022, 20337.22012624,  9139.11311561, 20696.87088155,\n",
              "       13042.10284055, 11485.27716505,  5889.28974722, 15997.2672441 ,\n",
              "       10602.74040912, 12111.22251435, 17663.12720449,  5922.12830766,\n",
              "        6443.62243219,  8608.40660977,  6255.44199704,  6326.71697372,\n",
              "       17397.72878371, 16217.49082258,  5726.34354635, 22431.16307404,\n",
              "        6499.70457747, 12649.39575744,  7083.13120003, 13973.34777506,\n",
              "       14181.0687202 , 11485.27716505, 19807.71531393,  6679.06179612,\n",
              "       10279.6655108 , 19103.25100549])"
            ]
          },
          "metadata": {
            "tags": []
          },
          "execution_count": 453
        }
      ]
    },
    {
      "cell_type": "code",
      "metadata": {
        "id": "ot1UaQJnSKmJ",
        "colab_type": "code",
        "outputId": "e5715d4a-8cba-4042-87e2-864a3bfb879b",
        "colab": {
          "base_uri": "https://localhost:8080/",
          "height": 217
        }
      },
      "source": [
        "Yy_test"
      ],
      "execution_count": 0,
      "outputs": [
        {
          "output_type": "execute_result",
          "data": {
            "text/plain": [
              "15     30760.0\n",
              "9      10295.0\n",
              "100     9549.0\n",
              "132    11850.0\n",
              "68     28248.0\n",
              "        ...   \n",
              "56     11845.0\n",
              "128    37028.0\n",
              "76      5389.0\n",
              "144     9233.0\n",
              "104    17199.0\n",
              "Name: price, Length: 62, dtype: float64"
            ]
          },
          "metadata": {
            "tags": []
          },
          "execution_count": 454
        }
      ]
    },
    {
      "cell_type": "markdown",
      "metadata": {
        "id": "gM1LwVXrTji8",
        "colab_type": "text"
      },
      "source": [
        "As seen below, there is no Linear relationship between variables, hence bad performance"
      ]
    },
    {
      "cell_type": "markdown",
      "metadata": {
        "colab_type": "text",
        "id": "JdR5e25aV7Y3"
      },
      "source": [
        "# **KNN**"
      ]
    },
    {
      "cell_type": "code",
      "metadata": {
        "id": "grL-8_nBiKzA",
        "colab_type": "code",
        "outputId": "3929458e-a31f-41eb-f8b6-6ea6a0169da5",
        "colab": {
          "base_uri": "https://localhost:8080/",
          "height": 217
        }
      },
      "source": [
        "Y"
      ],
      "execution_count": 0,
      "outputs": [
        {
          "output_type": "execute_result",
          "data": {
            "text/plain": [
              "0         gas\n",
              "1         gas\n",
              "2         gas\n",
              "3         gas\n",
              "4         gas\n",
              "        ...  \n",
              "200       gas\n",
              "201       gas\n",
              "202       gas\n",
              "203    diesel\n",
              "204       gas\n",
              "Name: fuel-type, Length: 205, dtype: object"
            ]
          },
          "metadata": {
            "tags": []
          },
          "execution_count": 455
        }
      ]
    },
    {
      "cell_type": "code",
      "metadata": {
        "id": "2KVGM1GFk4er",
        "colab_type": "code",
        "outputId": "97c5fc60-ba5a-477e-b245-a78a781336c1",
        "colab": {
          "base_uri": "https://localhost:8080/",
          "height": 67
        }
      },
      "source": [
        "neigh = KNeighborsClassifier(n_neighbors=2)\n",
        "neigh.fit(X, Y)"
      ],
      "execution_count": 0,
      "outputs": [
        {
          "output_type": "execute_result",
          "data": {
            "text/plain": [
              "KNeighborsClassifier(algorithm='auto', leaf_size=30, metric='minkowski',\n",
              "                     metric_params=None, n_jobs=None, n_neighbors=2, p=2,\n",
              "                     weights='uniform')"
            ]
          },
          "metadata": {
            "tags": []
          },
          "execution_count": 456
        }
      ]
    },
    {
      "cell_type": "code",
      "metadata": {
        "id": "ie2xJzIePbSm",
        "colab_type": "code",
        "outputId": "9ec031c3-b987-4047-a951-84e480c6bb84",
        "colab": {
          "base_uri": "https://localhost:8080/",
          "height": 33
        }
      },
      "source": [
        "neigh.score(X_test,y_test)"
      ],
      "execution_count": 0,
      "outputs": [
        {
          "output_type": "execute_result",
          "data": {
            "text/plain": [
              "0.9354838709677419"
            ]
          },
          "metadata": {
            "tags": []
          },
          "execution_count": 457
        }
      ]
    },
    {
      "cell_type": "code",
      "metadata": {
        "id": "9itnWRxsPGA9",
        "colab_type": "code",
        "outputId": "fd6b7401-ba9c-4771-e0d4-d0ad9626d263",
        "colab": {
          "base_uri": "https://localhost:8080/",
          "height": 167
        }
      },
      "source": [
        "predicted = neigh.predict(X_test)\n",
        "print(classification_report(y_test,predicted))"
      ],
      "execution_count": 0,
      "outputs": [
        {
          "output_type": "stream",
          "text": [
            "              precision    recall  f1-score   support\n",
            "\n",
            "      diesel       0.67      1.00      0.80         8\n",
            "         gas       1.00      0.93      0.96        54\n",
            "\n",
            "    accuracy                           0.94        62\n",
            "   macro avg       0.83      0.96      0.88        62\n",
            "weighted avg       0.96      0.94      0.94        62\n",
            "\n"
          ],
          "name": "stdout"
        }
      ]
    },
    {
      "cell_type": "code",
      "metadata": {
        "id": "2lsu2j8YPW26",
        "colab_type": "code",
        "outputId": "965e62b9-be33-4ad9-839f-2d995daaad1a",
        "colab": {
          "base_uri": "https://localhost:8080/",
          "height": 50
        }
      },
      "source": [
        "print(confusion_matrix(y_test,predicted))"
      ],
      "execution_count": 0,
      "outputs": [
        {
          "output_type": "stream",
          "text": [
            "[[ 8  0]\n",
            " [ 4 50]]\n"
          ],
          "name": "stdout"
        }
      ]
    },
    {
      "cell_type": "code",
      "metadata": {
        "id": "x48CImXEoUFm",
        "colab_type": "code",
        "colab": {}
      },
      "source": [
        ""
      ],
      "execution_count": 0,
      "outputs": []
    }
  ]
}