{
  "nbformat": 4,
  "nbformat_minor": 0,
  "metadata": {
    "colab": {
      "name": "Google-DSC-Workshop-2020",
      "provenance": [],
      "collapsed_sections": []
    },
    "kernelspec": {
      "name": "python3",
      "display_name": "Python 3"
    },
    "accelerator": "GPU"
  },
  "cells": [
    {
      "cell_type": "markdown",
      "metadata": {
        "id": "Adn0Shg-ote8",
        "colab_type": "text"
      },
      "source": [
        "**IMPORTING LIBRARIES**\n",
        "\n"
      ]
    },
    {
      "cell_type": "code",
      "metadata": {
        "id": "8fR29WZwQbpe",
        "colab_type": "code",
        "colab": {}
      },
      "source": [
        "from google.colab import files\n",
        "import numpy as np\n",
        "from sklearn.datasets import load_iris\n",
        "import pandas as pd\n",
        "from sklearn.linear_model import LinearRegression\n",
        "from sklearn.model_selection import train_test_split as tts\n",
        "from sklearn.preprocessing import LabelEncoder\n",
        "from sklearn.linear_model import LogisticRegression\n",
        "from sklearn.svm import LinearSVC\n",
        "from sklearn.cluster import KMeans\n",
        "import numpy\n",
        "from sklearn.metrics import classification_report,confusion_matrix\n",
        "import matplotlib.pyplot as plt"
      ],
      "execution_count": 0,
      "outputs": []
    },
    {
      "cell_type": "markdown",
      "metadata": {
        "colab_type": "text",
        "id": "J9g6ej9eo_U7"
      },
      "source": [
        "**IMPORTING DATASET**\n",
        "\n"
      ]
    },
    {
      "cell_type": "code",
      "metadata": {
        "id": "lQQPB5hh_lYI",
        "colab_type": "code",
        "outputId": "c9804a25-e439-4e77-ed79-1f4ec0864020",
        "colab": {
          "base_uri": "https://localhost:8080/",
          "height": 314
        }
      },
      "source": [
        "url = \"https://raw.githubusercontent.com/reubence/Google-DSC-Workshop-2020/master/datasets/WorkShopDataset2.csv\"\n",
        "df = pd.read_csv(url)\n",
        "\n",
        "df.head(10) "
      ],
      "execution_count": 0,
      "outputs": [
        {
          "output_type": "execute_result",
          "data": {
            "text/html": [
              "<div>\n",
              "<style scoped>\n",
              "    .dataframe tbody tr th:only-of-type {\n",
              "        vertical-align: middle;\n",
              "    }\n",
              "\n",
              "    .dataframe tbody tr th {\n",
              "        vertical-align: top;\n",
              "    }\n",
              "\n",
              "    .dataframe thead th {\n",
              "        text-align: right;\n",
              "    }\n",
              "</style>\n",
              "<table border=\"1\" class=\"dataframe\">\n",
              "  <thead>\n",
              "    <tr style=\"text-align: right;\">\n",
              "      <th></th>\n",
              "      <th>PID</th>\n",
              "      <th>ST_NUM</th>\n",
              "      <th>ST_NAME</th>\n",
              "      <th>OWN_OCCUPIED</th>\n",
              "      <th>NUM_BEDROOMS</th>\n",
              "      <th>NUM_BATH</th>\n",
              "      <th>SQ_FT</th>\n",
              "    </tr>\n",
              "  </thead>\n",
              "  <tbody>\n",
              "    <tr>\n",
              "      <th>0</th>\n",
              "      <td>100001000.0</td>\n",
              "      <td>104.0</td>\n",
              "      <td>PUTNAM</td>\n",
              "      <td>Y</td>\n",
              "      <td>3</td>\n",
              "      <td>1</td>\n",
              "      <td>1000</td>\n",
              "    </tr>\n",
              "    <tr>\n",
              "      <th>1</th>\n",
              "      <td>100002000.0</td>\n",
              "      <td>197.0</td>\n",
              "      <td>LEXINGTON</td>\n",
              "      <td>N</td>\n",
              "      <td>3</td>\n",
              "      <td>1.5</td>\n",
              "      <td>--</td>\n",
              "    </tr>\n",
              "    <tr>\n",
              "      <th>2</th>\n",
              "      <td>100003000.0</td>\n",
              "      <td>NaN</td>\n",
              "      <td>LEXINGTON</td>\n",
              "      <td>N</td>\n",
              "      <td>NaN</td>\n",
              "      <td>1</td>\n",
              "      <td>850</td>\n",
              "    </tr>\n",
              "    <tr>\n",
              "      <th>3</th>\n",
              "      <td>100004000.0</td>\n",
              "      <td>201.0</td>\n",
              "      <td>BERKELEY</td>\n",
              "      <td>N</td>\n",
              "      <td>1</td>\n",
              "      <td>NaN</td>\n",
              "      <td>700</td>\n",
              "    </tr>\n",
              "    <tr>\n",
              "      <th>4</th>\n",
              "      <td>NaN</td>\n",
              "      <td>203.0</td>\n",
              "      <td>BERKELEY</td>\n",
              "      <td>Y</td>\n",
              "      <td>3</td>\n",
              "      <td>2</td>\n",
              "      <td>1600</td>\n",
              "    </tr>\n",
              "    <tr>\n",
              "      <th>5</th>\n",
              "      <td>100006000.0</td>\n",
              "      <td>207.0</td>\n",
              "      <td>BERKELEY</td>\n",
              "      <td>Y</td>\n",
              "      <td>NaN</td>\n",
              "      <td>1</td>\n",
              "      <td>800</td>\n",
              "    </tr>\n",
              "    <tr>\n",
              "      <th>6</th>\n",
              "      <td>100007000.0</td>\n",
              "      <td>NaN</td>\n",
              "      <td>WASHINGTON</td>\n",
              "      <td>N</td>\n",
              "      <td>2</td>\n",
              "      <td>HURLEY</td>\n",
              "      <td>950</td>\n",
              "    </tr>\n",
              "    <tr>\n",
              "      <th>7</th>\n",
              "      <td>100008000.0</td>\n",
              "      <td>213.0</td>\n",
              "      <td>TREMONT</td>\n",
              "      <td>Y</td>\n",
              "      <td>1</td>\n",
              "      <td>1</td>\n",
              "      <td>NaN</td>\n",
              "    </tr>\n",
              "    <tr>\n",
              "      <th>8</th>\n",
              "      <td>100009000.0</td>\n",
              "      <td>215.0</td>\n",
              "      <td>TREMONT</td>\n",
              "      <td>Y</td>\n",
              "      <td>na</td>\n",
              "      <td>2</td>\n",
              "      <td>1800</td>\n",
              "    </tr>\n",
              "  </tbody>\n",
              "</table>\n",
              "</div>"
            ],
            "text/plain": [
              "           PID  ST_NUM     ST_NAME OWN_OCCUPIED NUM_BEDROOMS NUM_BATH SQ_FT\n",
              "0  100001000.0   104.0      PUTNAM            Y            3        1  1000\n",
              "1  100002000.0   197.0   LEXINGTON            N            3      1.5    --\n",
              "2  100003000.0     NaN   LEXINGTON            N          NaN        1   850\n",
              "3  100004000.0   201.0    BERKELEY            N            1      NaN   700\n",
              "4          NaN   203.0    BERKELEY            Y            3        2  1600\n",
              "5  100006000.0   207.0    BERKELEY            Y          NaN        1   800\n",
              "6  100007000.0     NaN  WASHINGTON            N            2   HURLEY   950\n",
              "7  100008000.0   213.0     TREMONT            Y            1        1   NaN\n",
              "8  100009000.0   215.0     TREMONT            Y           na        2  1800"
            ]
          },
          "metadata": {
            "tags": []
          },
          "execution_count": 2
        }
      ]
    },
    {
      "cell_type": "code",
      "metadata": {
        "id": "3ux57zqAkRtX",
        "colab_type": "code",
        "outputId": "422d7503-655b-457b-e2bf-55464ffb2fc7",
        "colab": {
          "base_uri": "https://localhost:8080/",
          "height": 34
        }
      },
      "source": [
        "df.isnull().values.any() #Checking if there are any NULL values"
      ],
      "execution_count": 0,
      "outputs": [
        {
          "output_type": "execute_result",
          "data": {
            "text/plain": [
              "True"
            ]
          },
          "metadata": {
            "tags": []
          },
          "execution_count": 3
        }
      ]
    },
    {
      "cell_type": "code",
      "metadata": {
        "id": "dLPAgJsogmjl",
        "colab_type": "code",
        "outputId": "ab4773ee-049a-49b2-c057-b3be1d5c26d7",
        "colab": {
          "base_uri": "https://localhost:8080/",
          "height": 34
        }
      },
      "source": [
        "df.isnull().sum().sum() #Total Number of NULL values"
      ],
      "execution_count": 0,
      "outputs": [
        {
          "output_type": "execute_result",
          "data": {
            "text/plain": [
              "7"
            ]
          },
          "metadata": {
            "tags": []
          },
          "execution_count": 4
        }
      ]
    },
    {
      "cell_type": "code",
      "metadata": {
        "id": "Hj9wMkjaEo-z",
        "colab_type": "code",
        "outputId": "e311da1d-7b13-4039-edc9-56030cb3218e",
        "colab": {
          "base_uri": "https://localhost:8080/",
          "height": 151
        }
      },
      "source": [
        "df.isnull().sum() #checking NULL values column-wise"
      ],
      "execution_count": 0,
      "outputs": [
        {
          "output_type": "execute_result",
          "data": {
            "text/plain": [
              "PID             1\n",
              "ST_NUM          2\n",
              "ST_NAME         0\n",
              "OWN_OCCUPIED    0\n",
              "NUM_BEDROOMS    2\n",
              "NUM_BATH        1\n",
              "SQ_FT           1\n",
              "dtype: int64"
            ]
          },
          "metadata": {
            "tags": []
          },
          "execution_count": 5
        }
      ]
    },
    {
      "cell_type": "code",
      "metadata": {
        "id": "-O7MGTO_y6GI",
        "colab_type": "code",
        "colab": {}
      },
      "source": [
        "missing_values = [\"n/a\", \"na\", \"--\"]\n",
        "df1 = pd.read_csv(url, na_values = missing_values)"
      ],
      "execution_count": 0,
      "outputs": []
    },
    {
      "cell_type": "code",
      "metadata": {
        "id": "U0fwROo3iAsY",
        "colab_type": "code",
        "colab": {}
      },
      "source": [
        "#Another way to remove NULL values\n",
        "# df.replace(r'^\\s*$', np.nan, regex=True) "
      ],
      "execution_count": 0,
      "outputs": []
    },
    {
      "cell_type": "code",
      "metadata": {
        "id": "yKaoIweY97Z1",
        "colab_type": "code",
        "outputId": "812695c9-edaa-44e3-df2d-afb1b482b4d5",
        "colab": {
          "base_uri": "https://localhost:8080/",
          "height": 314
        }
      },
      "source": [
        "df1.head(10)"
      ],
      "execution_count": 0,
      "outputs": [
        {
          "output_type": "execute_result",
          "data": {
            "text/html": [
              "<div>\n",
              "<style scoped>\n",
              "    .dataframe tbody tr th:only-of-type {\n",
              "        vertical-align: middle;\n",
              "    }\n",
              "\n",
              "    .dataframe tbody tr th {\n",
              "        vertical-align: top;\n",
              "    }\n",
              "\n",
              "    .dataframe thead th {\n",
              "        text-align: right;\n",
              "    }\n",
              "</style>\n",
              "<table border=\"1\" class=\"dataframe\">\n",
              "  <thead>\n",
              "    <tr style=\"text-align: right;\">\n",
              "      <th></th>\n",
              "      <th>PID</th>\n",
              "      <th>ST_NUM</th>\n",
              "      <th>ST_NAME</th>\n",
              "      <th>OWN_OCCUPIED</th>\n",
              "      <th>NUM_BEDROOMS</th>\n",
              "      <th>NUM_BATH</th>\n",
              "      <th>SQ_FT</th>\n",
              "    </tr>\n",
              "  </thead>\n",
              "  <tbody>\n",
              "    <tr>\n",
              "      <th>0</th>\n",
              "      <td>100001000.0</td>\n",
              "      <td>104.0</td>\n",
              "      <td>PUTNAM</td>\n",
              "      <td>Y</td>\n",
              "      <td>3.0</td>\n",
              "      <td>1</td>\n",
              "      <td>1000.0</td>\n",
              "    </tr>\n",
              "    <tr>\n",
              "      <th>1</th>\n",
              "      <td>100002000.0</td>\n",
              "      <td>197.0</td>\n",
              "      <td>LEXINGTON</td>\n",
              "      <td>N</td>\n",
              "      <td>3.0</td>\n",
              "      <td>1.5</td>\n",
              "      <td>NaN</td>\n",
              "    </tr>\n",
              "    <tr>\n",
              "      <th>2</th>\n",
              "      <td>100003000.0</td>\n",
              "      <td>NaN</td>\n",
              "      <td>LEXINGTON</td>\n",
              "      <td>N</td>\n",
              "      <td>NaN</td>\n",
              "      <td>1</td>\n",
              "      <td>850.0</td>\n",
              "    </tr>\n",
              "    <tr>\n",
              "      <th>3</th>\n",
              "      <td>100004000.0</td>\n",
              "      <td>201.0</td>\n",
              "      <td>BERKELEY</td>\n",
              "      <td>N</td>\n",
              "      <td>1.0</td>\n",
              "      <td>NaN</td>\n",
              "      <td>700.0</td>\n",
              "    </tr>\n",
              "    <tr>\n",
              "      <th>4</th>\n",
              "      <td>NaN</td>\n",
              "      <td>203.0</td>\n",
              "      <td>BERKELEY</td>\n",
              "      <td>Y</td>\n",
              "      <td>3.0</td>\n",
              "      <td>2</td>\n",
              "      <td>1600.0</td>\n",
              "    </tr>\n",
              "    <tr>\n",
              "      <th>5</th>\n",
              "      <td>100006000.0</td>\n",
              "      <td>207.0</td>\n",
              "      <td>BERKELEY</td>\n",
              "      <td>Y</td>\n",
              "      <td>NaN</td>\n",
              "      <td>1</td>\n",
              "      <td>800.0</td>\n",
              "    </tr>\n",
              "    <tr>\n",
              "      <th>6</th>\n",
              "      <td>100007000.0</td>\n",
              "      <td>NaN</td>\n",
              "      <td>WASHINGTON</td>\n",
              "      <td>N</td>\n",
              "      <td>2.0</td>\n",
              "      <td>HURLEY</td>\n",
              "      <td>950.0</td>\n",
              "    </tr>\n",
              "    <tr>\n",
              "      <th>7</th>\n",
              "      <td>100008000.0</td>\n",
              "      <td>213.0</td>\n",
              "      <td>TREMONT</td>\n",
              "      <td>Y</td>\n",
              "      <td>1.0</td>\n",
              "      <td>1</td>\n",
              "      <td>NaN</td>\n",
              "    </tr>\n",
              "    <tr>\n",
              "      <th>8</th>\n",
              "      <td>100009000.0</td>\n",
              "      <td>215.0</td>\n",
              "      <td>TREMONT</td>\n",
              "      <td>Y</td>\n",
              "      <td>NaN</td>\n",
              "      <td>2</td>\n",
              "      <td>1800.0</td>\n",
              "    </tr>\n",
              "  </tbody>\n",
              "</table>\n",
              "</div>"
            ],
            "text/plain": [
              "           PID  ST_NUM     ST_NAME OWN_OCCUPIED  NUM_BEDROOMS NUM_BATH   SQ_FT\n",
              "0  100001000.0   104.0      PUTNAM            Y           3.0        1  1000.0\n",
              "1  100002000.0   197.0   LEXINGTON            N           3.0      1.5     NaN\n",
              "2  100003000.0     NaN   LEXINGTON            N           NaN        1   850.0\n",
              "3  100004000.0   201.0    BERKELEY            N           1.0      NaN   700.0\n",
              "4          NaN   203.0    BERKELEY            Y           3.0        2  1600.0\n",
              "5  100006000.0   207.0    BERKELEY            Y           NaN        1   800.0\n",
              "6  100007000.0     NaN  WASHINGTON            N           2.0   HURLEY   950.0\n",
              "7  100008000.0   213.0     TREMONT            Y           1.0        1     NaN\n",
              "8  100009000.0   215.0     TREMONT            Y           NaN        2  1800.0"
            ]
          },
          "metadata": {
            "tags": []
          },
          "execution_count": 8
        }
      ]
    },
    {
      "cell_type": "code",
      "metadata": {
        "id": "Jrjq4_sdqE3G",
        "colab_type": "code",
        "outputId": "4fd70b72-f1a6-42f6-fc36-9d9d9cc43d6a",
        "colab": {
          "base_uri": "https://localhost:8080/",
          "height": 314
        }
      },
      "source": [
        "df1.isna()"
      ],
      "execution_count": 0,
      "outputs": [
        {
          "output_type": "execute_result",
          "data": {
            "text/html": [
              "<div>\n",
              "<style scoped>\n",
              "    .dataframe tbody tr th:only-of-type {\n",
              "        vertical-align: middle;\n",
              "    }\n",
              "\n",
              "    .dataframe tbody tr th {\n",
              "        vertical-align: top;\n",
              "    }\n",
              "\n",
              "    .dataframe thead th {\n",
              "        text-align: right;\n",
              "    }\n",
              "</style>\n",
              "<table border=\"1\" class=\"dataframe\">\n",
              "  <thead>\n",
              "    <tr style=\"text-align: right;\">\n",
              "      <th></th>\n",
              "      <th>PID</th>\n",
              "      <th>ST_NUM</th>\n",
              "      <th>ST_NAME</th>\n",
              "      <th>OWN_OCCUPIED</th>\n",
              "      <th>NUM_BEDROOMS</th>\n",
              "      <th>NUM_BATH</th>\n",
              "      <th>SQ_FT</th>\n",
              "    </tr>\n",
              "  </thead>\n",
              "  <tbody>\n",
              "    <tr>\n",
              "      <th>0</th>\n",
              "      <td>False</td>\n",
              "      <td>False</td>\n",
              "      <td>False</td>\n",
              "      <td>False</td>\n",
              "      <td>False</td>\n",
              "      <td>False</td>\n",
              "      <td>False</td>\n",
              "    </tr>\n",
              "    <tr>\n",
              "      <th>1</th>\n",
              "      <td>False</td>\n",
              "      <td>False</td>\n",
              "      <td>False</td>\n",
              "      <td>False</td>\n",
              "      <td>False</td>\n",
              "      <td>False</td>\n",
              "      <td>True</td>\n",
              "    </tr>\n",
              "    <tr>\n",
              "      <th>2</th>\n",
              "      <td>False</td>\n",
              "      <td>True</td>\n",
              "      <td>False</td>\n",
              "      <td>False</td>\n",
              "      <td>True</td>\n",
              "      <td>False</td>\n",
              "      <td>False</td>\n",
              "    </tr>\n",
              "    <tr>\n",
              "      <th>3</th>\n",
              "      <td>False</td>\n",
              "      <td>False</td>\n",
              "      <td>False</td>\n",
              "      <td>False</td>\n",
              "      <td>False</td>\n",
              "      <td>True</td>\n",
              "      <td>False</td>\n",
              "    </tr>\n",
              "    <tr>\n",
              "      <th>4</th>\n",
              "      <td>True</td>\n",
              "      <td>False</td>\n",
              "      <td>False</td>\n",
              "      <td>False</td>\n",
              "      <td>False</td>\n",
              "      <td>False</td>\n",
              "      <td>False</td>\n",
              "    </tr>\n",
              "    <tr>\n",
              "      <th>5</th>\n",
              "      <td>False</td>\n",
              "      <td>False</td>\n",
              "      <td>False</td>\n",
              "      <td>False</td>\n",
              "      <td>True</td>\n",
              "      <td>False</td>\n",
              "      <td>False</td>\n",
              "    </tr>\n",
              "    <tr>\n",
              "      <th>6</th>\n",
              "      <td>False</td>\n",
              "      <td>True</td>\n",
              "      <td>False</td>\n",
              "      <td>False</td>\n",
              "      <td>False</td>\n",
              "      <td>False</td>\n",
              "      <td>False</td>\n",
              "    </tr>\n",
              "    <tr>\n",
              "      <th>7</th>\n",
              "      <td>False</td>\n",
              "      <td>False</td>\n",
              "      <td>False</td>\n",
              "      <td>False</td>\n",
              "      <td>False</td>\n",
              "      <td>False</td>\n",
              "      <td>True</td>\n",
              "    </tr>\n",
              "    <tr>\n",
              "      <th>8</th>\n",
              "      <td>False</td>\n",
              "      <td>False</td>\n",
              "      <td>False</td>\n",
              "      <td>False</td>\n",
              "      <td>True</td>\n",
              "      <td>False</td>\n",
              "      <td>False</td>\n",
              "    </tr>\n",
              "  </tbody>\n",
              "</table>\n",
              "</div>"
            ],
            "text/plain": [
              "     PID  ST_NUM  ST_NAME  OWN_OCCUPIED  NUM_BEDROOMS  NUM_BATH  SQ_FT\n",
              "0  False   False    False         False         False     False  False\n",
              "1  False   False    False         False         False     False   True\n",
              "2  False    True    False         False          True     False  False\n",
              "3  False   False    False         False         False      True  False\n",
              "4   True   False    False         False         False     False  False\n",
              "5  False   False    False         False          True     False  False\n",
              "6  False    True    False         False         False     False  False\n",
              "7  False   False    False         False         False     False   True\n",
              "8  False   False    False         False          True     False  False"
            ]
          },
          "metadata": {
            "tags": []
          },
          "execution_count": 9
        }
      ]
    },
    {
      "cell_type": "code",
      "metadata": {
        "id": "JOvusEdIgXdG",
        "colab_type": "code",
        "outputId": "293cbb07-fc04-4045-ea93-5202f9376055",
        "colab": {
          "base_uri": "https://localhost:8080/",
          "height": 34
        }
      },
      "source": [
        "df1.isnull().sum().sum()"
      ],
      "execution_count": 0,
      "outputs": [
        {
          "output_type": "execute_result",
          "data": {
            "text/plain": [
              "9"
            ]
          },
          "metadata": {
            "tags": []
          },
          "execution_count": 10
        }
      ]
    },
    {
      "cell_type": "code",
      "metadata": {
        "id": "Hs-b_vK5f_M_",
        "colab_type": "code",
        "outputId": "b2674589-273d-40c6-f7c1-86cb68452a70",
        "colab": {
          "base_uri": "https://localhost:8080/",
          "height": 34
        }
      },
      "source": [
        "type(df1[\"NUM_BATH\"][1]) #The value should be int/float. Not String. Need to change."
      ],
      "execution_count": 0,
      "outputs": [
        {
          "output_type": "execute_result",
          "data": {
            "text/plain": [
              "str"
            ]
          },
          "metadata": {
            "tags": []
          },
          "execution_count": 11
        }
      ]
    },
    {
      "cell_type": "code",
      "metadata": {
        "id": "QWfFd9UWlbha",
        "colab_type": "code",
        "colab": {}
      },
      "source": [
        "cnt=0\n",
        "for row in df1['NUM_BATH']:\n",
        "    try:\n",
        "        df1.loc[cnt,\"NUM_BATH\"]=float(row)\n",
        "        pass\n",
        "    except ValueError:\n",
        "        df1.loc[cnt, 'NUM_BATH']=np.nan\n",
        "    cnt+=1"
      ],
      "execution_count": 0,
      "outputs": []
    },
    {
      "cell_type": "code",
      "metadata": {
        "id": "HnowtdCuqzw8",
        "colab_type": "code",
        "outputId": "af2cef12-c880-49d4-a259-bba8804adee8",
        "colab": {
          "base_uri": "https://localhost:8080/",
          "height": 34
        }
      },
      "source": [
        "type(df1[\"NUM_BATH\"][1]) #It's float now"
      ],
      "execution_count": 0,
      "outputs": [
        {
          "output_type": "execute_result",
          "data": {
            "text/plain": [
              "float"
            ]
          },
          "metadata": {
            "tags": []
          },
          "execution_count": 13
        }
      ]
    },
    {
      "cell_type": "code",
      "metadata": {
        "id": "hPlVJDVLezit",
        "colab_type": "code",
        "colab": {}
      },
      "source": [
        "cnt=0\n",
        "for row in df1['OWN_OCCUPIED']:\n",
        "    try:\n",
        "        int(row)\n",
        "        df1.loc[cnt, 'OWN_OCCUPIED']=np.nan\n",
        "    except ValueError:\n",
        "        pass\n",
        "    cnt+=1"
      ],
      "execution_count": 0,
      "outputs": []
    },
    {
      "cell_type": "code",
      "metadata": {
        "id": "aYoytokwhNz_",
        "colab_type": "code",
        "outputId": "ec80df05-57ac-49e4-da5c-8ea86efbf912",
        "colab": {
          "base_uri": "https://localhost:8080/",
          "height": 314
        }
      },
      "source": [
        "df1.head(10)"
      ],
      "execution_count": 0,
      "outputs": [
        {
          "output_type": "execute_result",
          "data": {
            "text/html": [
              "<div>\n",
              "<style scoped>\n",
              "    .dataframe tbody tr th:only-of-type {\n",
              "        vertical-align: middle;\n",
              "    }\n",
              "\n",
              "    .dataframe tbody tr th {\n",
              "        vertical-align: top;\n",
              "    }\n",
              "\n",
              "    .dataframe thead th {\n",
              "        text-align: right;\n",
              "    }\n",
              "</style>\n",
              "<table border=\"1\" class=\"dataframe\">\n",
              "  <thead>\n",
              "    <tr style=\"text-align: right;\">\n",
              "      <th></th>\n",
              "      <th>PID</th>\n",
              "      <th>ST_NUM</th>\n",
              "      <th>ST_NAME</th>\n",
              "      <th>OWN_OCCUPIED</th>\n",
              "      <th>NUM_BEDROOMS</th>\n",
              "      <th>NUM_BATH</th>\n",
              "      <th>SQ_FT</th>\n",
              "    </tr>\n",
              "  </thead>\n",
              "  <tbody>\n",
              "    <tr>\n",
              "      <th>0</th>\n",
              "      <td>100001000.0</td>\n",
              "      <td>104.0</td>\n",
              "      <td>PUTNAM</td>\n",
              "      <td>Y</td>\n",
              "      <td>3.0</td>\n",
              "      <td>1</td>\n",
              "      <td>1000.0</td>\n",
              "    </tr>\n",
              "    <tr>\n",
              "      <th>1</th>\n",
              "      <td>100002000.0</td>\n",
              "      <td>197.0</td>\n",
              "      <td>LEXINGTON</td>\n",
              "      <td>N</td>\n",
              "      <td>3.0</td>\n",
              "      <td>1.5</td>\n",
              "      <td>NaN</td>\n",
              "    </tr>\n",
              "    <tr>\n",
              "      <th>2</th>\n",
              "      <td>100003000.0</td>\n",
              "      <td>NaN</td>\n",
              "      <td>LEXINGTON</td>\n",
              "      <td>N</td>\n",
              "      <td>NaN</td>\n",
              "      <td>1</td>\n",
              "      <td>850.0</td>\n",
              "    </tr>\n",
              "    <tr>\n",
              "      <th>3</th>\n",
              "      <td>100004000.0</td>\n",
              "      <td>201.0</td>\n",
              "      <td>BERKELEY</td>\n",
              "      <td>N</td>\n",
              "      <td>1.0</td>\n",
              "      <td>NaN</td>\n",
              "      <td>700.0</td>\n",
              "    </tr>\n",
              "    <tr>\n",
              "      <th>4</th>\n",
              "      <td>NaN</td>\n",
              "      <td>203.0</td>\n",
              "      <td>BERKELEY</td>\n",
              "      <td>Y</td>\n",
              "      <td>3.0</td>\n",
              "      <td>2</td>\n",
              "      <td>1600.0</td>\n",
              "    </tr>\n",
              "    <tr>\n",
              "      <th>5</th>\n",
              "      <td>100006000.0</td>\n",
              "      <td>207.0</td>\n",
              "      <td>BERKELEY</td>\n",
              "      <td>Y</td>\n",
              "      <td>NaN</td>\n",
              "      <td>1</td>\n",
              "      <td>800.0</td>\n",
              "    </tr>\n",
              "    <tr>\n",
              "      <th>6</th>\n",
              "      <td>100007000.0</td>\n",
              "      <td>NaN</td>\n",
              "      <td>WASHINGTON</td>\n",
              "      <td>N</td>\n",
              "      <td>2.0</td>\n",
              "      <td>NaN</td>\n",
              "      <td>950.0</td>\n",
              "    </tr>\n",
              "    <tr>\n",
              "      <th>7</th>\n",
              "      <td>100008000.0</td>\n",
              "      <td>213.0</td>\n",
              "      <td>TREMONT</td>\n",
              "      <td>Y</td>\n",
              "      <td>1.0</td>\n",
              "      <td>1</td>\n",
              "      <td>NaN</td>\n",
              "    </tr>\n",
              "    <tr>\n",
              "      <th>8</th>\n",
              "      <td>100009000.0</td>\n",
              "      <td>215.0</td>\n",
              "      <td>TREMONT</td>\n",
              "      <td>Y</td>\n",
              "      <td>NaN</td>\n",
              "      <td>2</td>\n",
              "      <td>1800.0</td>\n",
              "    </tr>\n",
              "  </tbody>\n",
              "</table>\n",
              "</div>"
            ],
            "text/plain": [
              "           PID  ST_NUM     ST_NAME OWN_OCCUPIED  NUM_BEDROOMS NUM_BATH   SQ_FT\n",
              "0  100001000.0   104.0      PUTNAM            Y           3.0        1  1000.0\n",
              "1  100002000.0   197.0   LEXINGTON            N           3.0      1.5     NaN\n",
              "2  100003000.0     NaN   LEXINGTON            N           NaN        1   850.0\n",
              "3  100004000.0   201.0    BERKELEY            N           1.0      NaN   700.0\n",
              "4          NaN   203.0    BERKELEY            Y           3.0        2  1600.0\n",
              "5  100006000.0   207.0    BERKELEY            Y           NaN        1   800.0\n",
              "6  100007000.0     NaN  WASHINGTON            N           2.0      NaN   950.0\n",
              "7  100008000.0   213.0     TREMONT            Y           1.0        1     NaN\n",
              "8  100009000.0   215.0     TREMONT            Y           NaN        2  1800.0"
            ]
          },
          "metadata": {
            "tags": []
          },
          "execution_count": 15
        }
      ]
    },
    {
      "cell_type": "markdown",
      "metadata": {
        "id": "i5tKp30Xrn7Q",
        "colab_type": "text"
      },
      "source": [
        "You can replace NA values using either Mean or Median. But it's not always the best idea to replace missing data. It depends on the dataset. Say for example our dataset was a customer feedabck, or some kind of a form which was filled by a person. In such a case it would make sense to fill the NA values using Mean.\n",
        "\n",
        "For Example: If we replace with Mean on our current dataset we get this output, which doesn't make sense. Houses dont have 2.16777 bedrooms\n",
        "\n",
        "![image.png](data:image/png;base64,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)\n",
        "\n",
        "So instead, we can use median to fill in the NA values"
      ]
    },
    {
      "cell_type": "code",
      "metadata": {
        "id": "xiij8ivzg7UT",
        "colab_type": "code",
        "colab": {}
      },
      "source": [
        "df1['NUM_BEDROOMS'] = df1['NUM_BEDROOMS'].fillna(df1['NUM_BEDROOMS'].median())"
      ],
      "execution_count": 0,
      "outputs": []
    },
    {
      "cell_type": "code",
      "metadata": {
        "id": "khTdZ_FBk7zq",
        "colab_type": "code",
        "colab": {}
      },
      "source": [
        "df1['NUM_BATH'] = df1['NUM_BATH'].fillna(df1['NUM_BATH'].median())"
      ],
      "execution_count": 0,
      "outputs": []
    },
    {
      "cell_type": "code",
      "metadata": {
        "id": "dMw0WS3ku0JP",
        "colab_type": "code",
        "colab": {}
      },
      "source": [
        "df1['SQ_FT'] = df1['SQ_FT'].fillna(df1['SQ_FT'].median())"
      ],
      "execution_count": 0,
      "outputs": []
    },
    {
      "cell_type": "code",
      "metadata": {
        "id": "Ei1QJuoMu1Dk",
        "colab_type": "code",
        "colab": {}
      },
      "source": [
        "df1['ST_NUM'] = df1['ST_NUM'].fillna(df1['ST_NUM'].median())"
      ],
      "execution_count": 0,
      "outputs": []
    },
    {
      "cell_type": "code",
      "metadata": {
        "id": "TtU2pNdquu2o",
        "colab_type": "code",
        "outputId": "51814a8b-04fd-4d86-cd42-8c74390776b6",
        "colab": {
          "base_uri": "https://localhost:8080/",
          "height": 314
        }
      },
      "source": [
        "df1.head(10)"
      ],
      "execution_count": 0,
      "outputs": [
        {
          "output_type": "execute_result",
          "data": {
            "text/html": [
              "<div>\n",
              "<style scoped>\n",
              "    .dataframe tbody tr th:only-of-type {\n",
              "        vertical-align: middle;\n",
              "    }\n",
              "\n",
              "    .dataframe tbody tr th {\n",
              "        vertical-align: top;\n",
              "    }\n",
              "\n",
              "    .dataframe thead th {\n",
              "        text-align: right;\n",
              "    }\n",
              "</style>\n",
              "<table border=\"1\" class=\"dataframe\">\n",
              "  <thead>\n",
              "    <tr style=\"text-align: right;\">\n",
              "      <th></th>\n",
              "      <th>PID</th>\n",
              "      <th>ST_NUM</th>\n",
              "      <th>ST_NAME</th>\n",
              "      <th>OWN_OCCUPIED</th>\n",
              "      <th>NUM_BEDROOMS</th>\n",
              "      <th>NUM_BATH</th>\n",
              "      <th>SQ_FT</th>\n",
              "    </tr>\n",
              "  </thead>\n",
              "  <tbody>\n",
              "    <tr>\n",
              "      <th>0</th>\n",
              "      <td>100001000.0</td>\n",
              "      <td>104.0</td>\n",
              "      <td>PUTNAM</td>\n",
              "      <td>Y</td>\n",
              "      <td>3.0</td>\n",
              "      <td>1.0</td>\n",
              "      <td>1000.0</td>\n",
              "    </tr>\n",
              "    <tr>\n",
              "      <th>1</th>\n",
              "      <td>100002000.0</td>\n",
              "      <td>197.0</td>\n",
              "      <td>LEXINGTON</td>\n",
              "      <td>N</td>\n",
              "      <td>3.0</td>\n",
              "      <td>1.5</td>\n",
              "      <td>950.0</td>\n",
              "    </tr>\n",
              "    <tr>\n",
              "      <th>2</th>\n",
              "      <td>100003000.0</td>\n",
              "      <td>203.0</td>\n",
              "      <td>LEXINGTON</td>\n",
              "      <td>N</td>\n",
              "      <td>2.5</td>\n",
              "      <td>1.0</td>\n",
              "      <td>850.0</td>\n",
              "    </tr>\n",
              "    <tr>\n",
              "      <th>3</th>\n",
              "      <td>100004000.0</td>\n",
              "      <td>201.0</td>\n",
              "      <td>BERKELEY</td>\n",
              "      <td>N</td>\n",
              "      <td>1.0</td>\n",
              "      <td>1.0</td>\n",
              "      <td>700.0</td>\n",
              "    </tr>\n",
              "    <tr>\n",
              "      <th>4</th>\n",
              "      <td>NaN</td>\n",
              "      <td>203.0</td>\n",
              "      <td>BERKELEY</td>\n",
              "      <td>Y</td>\n",
              "      <td>3.0</td>\n",
              "      <td>2.0</td>\n",
              "      <td>1600.0</td>\n",
              "    </tr>\n",
              "    <tr>\n",
              "      <th>5</th>\n",
              "      <td>100006000.0</td>\n",
              "      <td>207.0</td>\n",
              "      <td>BERKELEY</td>\n",
              "      <td>Y</td>\n",
              "      <td>2.5</td>\n",
              "      <td>1.0</td>\n",
              "      <td>800.0</td>\n",
              "    </tr>\n",
              "    <tr>\n",
              "      <th>6</th>\n",
              "      <td>100007000.0</td>\n",
              "      <td>203.0</td>\n",
              "      <td>WASHINGTON</td>\n",
              "      <td>N</td>\n",
              "      <td>2.0</td>\n",
              "      <td>1.0</td>\n",
              "      <td>950.0</td>\n",
              "    </tr>\n",
              "    <tr>\n",
              "      <th>7</th>\n",
              "      <td>100008000.0</td>\n",
              "      <td>213.0</td>\n",
              "      <td>TREMONT</td>\n",
              "      <td>Y</td>\n",
              "      <td>1.0</td>\n",
              "      <td>1.0</td>\n",
              "      <td>950.0</td>\n",
              "    </tr>\n",
              "    <tr>\n",
              "      <th>8</th>\n",
              "      <td>100009000.0</td>\n",
              "      <td>215.0</td>\n",
              "      <td>TREMONT</td>\n",
              "      <td>Y</td>\n",
              "      <td>2.5</td>\n",
              "      <td>2.0</td>\n",
              "      <td>1800.0</td>\n",
              "    </tr>\n",
              "  </tbody>\n",
              "</table>\n",
              "</div>"
            ],
            "text/plain": [
              "           PID  ST_NUM     ST_NAME OWN_OCCUPIED  NUM_BEDROOMS  NUM_BATH   SQ_FT\n",
              "0  100001000.0   104.0      PUTNAM            Y           3.0       1.0  1000.0\n",
              "1  100002000.0   197.0   LEXINGTON            N           3.0       1.5   950.0\n",
              "2  100003000.0   203.0   LEXINGTON            N           2.5       1.0   850.0\n",
              "3  100004000.0   201.0    BERKELEY            N           1.0       1.0   700.0\n",
              "4          NaN   203.0    BERKELEY            Y           3.0       2.0  1600.0\n",
              "5  100006000.0   207.0    BERKELEY            Y           2.5       1.0   800.0\n",
              "6  100007000.0   203.0  WASHINGTON            N           2.0       1.0   950.0\n",
              "7  100008000.0   213.0     TREMONT            Y           1.0       1.0   950.0\n",
              "8  100009000.0   215.0     TREMONT            Y           2.5       2.0  1800.0"
            ]
          },
          "metadata": {
            "tags": []
          },
          "execution_count": 20
        }
      ]
    },
    {
      "cell_type": "code",
      "metadata": {
        "id": "MOSDeT8U52r1",
        "colab_type": "code",
        "outputId": "a47de383-f7f3-4437-b1d0-5ecc8a2f4a86",
        "colab": {
          "base_uri": "https://localhost:8080/",
          "height": 314
        }
      },
      "source": [
        "df1.drop([\"PID\"], axis = 1,inplace = True)\n",
        "df1.head(10)"
      ],
      "execution_count": 0,
      "outputs": [
        {
          "output_type": "execute_result",
          "data": {
            "text/html": [
              "<div>\n",
              "<style scoped>\n",
              "    .dataframe tbody tr th:only-of-type {\n",
              "        vertical-align: middle;\n",
              "    }\n",
              "\n",
              "    .dataframe tbody tr th {\n",
              "        vertical-align: top;\n",
              "    }\n",
              "\n",
              "    .dataframe thead th {\n",
              "        text-align: right;\n",
              "    }\n",
              "</style>\n",
              "<table border=\"1\" class=\"dataframe\">\n",
              "  <thead>\n",
              "    <tr style=\"text-align: right;\">\n",
              "      <th></th>\n",
              "      <th>ST_NUM</th>\n",
              "      <th>ST_NAME</th>\n",
              "      <th>OWN_OCCUPIED</th>\n",
              "      <th>NUM_BEDROOMS</th>\n",
              "      <th>NUM_BATH</th>\n",
              "      <th>SQ_FT</th>\n",
              "    </tr>\n",
              "  </thead>\n",
              "  <tbody>\n",
              "    <tr>\n",
              "      <th>0</th>\n",
              "      <td>104.0</td>\n",
              "      <td>PUTNAM</td>\n",
              "      <td>Y</td>\n",
              "      <td>3.0</td>\n",
              "      <td>1.0</td>\n",
              "      <td>1000.0</td>\n",
              "    </tr>\n",
              "    <tr>\n",
              "      <th>1</th>\n",
              "      <td>197.0</td>\n",
              "      <td>LEXINGTON</td>\n",
              "      <td>N</td>\n",
              "      <td>3.0</td>\n",
              "      <td>1.5</td>\n",
              "      <td>950.0</td>\n",
              "    </tr>\n",
              "    <tr>\n",
              "      <th>2</th>\n",
              "      <td>203.0</td>\n",
              "      <td>LEXINGTON</td>\n",
              "      <td>N</td>\n",
              "      <td>2.5</td>\n",
              "      <td>1.0</td>\n",
              "      <td>850.0</td>\n",
              "    </tr>\n",
              "    <tr>\n",
              "      <th>3</th>\n",
              "      <td>201.0</td>\n",
              "      <td>BERKELEY</td>\n",
              "      <td>N</td>\n",
              "      <td>1.0</td>\n",
              "      <td>1.0</td>\n",
              "      <td>700.0</td>\n",
              "    </tr>\n",
              "    <tr>\n",
              "      <th>4</th>\n",
              "      <td>203.0</td>\n",
              "      <td>BERKELEY</td>\n",
              "      <td>Y</td>\n",
              "      <td>3.0</td>\n",
              "      <td>2.0</td>\n",
              "      <td>1600.0</td>\n",
              "    </tr>\n",
              "    <tr>\n",
              "      <th>5</th>\n",
              "      <td>207.0</td>\n",
              "      <td>BERKELEY</td>\n",
              "      <td>Y</td>\n",
              "      <td>2.5</td>\n",
              "      <td>1.0</td>\n",
              "      <td>800.0</td>\n",
              "    </tr>\n",
              "    <tr>\n",
              "      <th>6</th>\n",
              "      <td>203.0</td>\n",
              "      <td>WASHINGTON</td>\n",
              "      <td>N</td>\n",
              "      <td>2.0</td>\n",
              "      <td>1.0</td>\n",
              "      <td>950.0</td>\n",
              "    </tr>\n",
              "    <tr>\n",
              "      <th>7</th>\n",
              "      <td>213.0</td>\n",
              "      <td>TREMONT</td>\n",
              "      <td>Y</td>\n",
              "      <td>1.0</td>\n",
              "      <td>1.0</td>\n",
              "      <td>950.0</td>\n",
              "    </tr>\n",
              "    <tr>\n",
              "      <th>8</th>\n",
              "      <td>215.0</td>\n",
              "      <td>TREMONT</td>\n",
              "      <td>Y</td>\n",
              "      <td>2.5</td>\n",
              "      <td>2.0</td>\n",
              "      <td>1800.0</td>\n",
              "    </tr>\n",
              "  </tbody>\n",
              "</table>\n",
              "</div>"
            ],
            "text/plain": [
              "   ST_NUM     ST_NAME OWN_OCCUPIED  NUM_BEDROOMS  NUM_BATH   SQ_FT\n",
              "0   104.0      PUTNAM            Y           3.0       1.0  1000.0\n",
              "1   197.0   LEXINGTON            N           3.0       1.5   950.0\n",
              "2   203.0   LEXINGTON            N           2.5       1.0   850.0\n",
              "3   201.0    BERKELEY            N           1.0       1.0   700.0\n",
              "4   203.0    BERKELEY            Y           3.0       2.0  1600.0\n",
              "5   207.0    BERKELEY            Y           2.5       1.0   800.0\n",
              "6   203.0  WASHINGTON            N           2.0       1.0   950.0\n",
              "7   213.0     TREMONT            Y           1.0       1.0   950.0\n",
              "8   215.0     TREMONT            Y           2.5       2.0  1800.0"
            ]
          },
          "metadata": {
            "tags": []
          },
          "execution_count": 21
        }
      ]
    },
    {
      "cell_type": "code",
      "metadata": {
        "id": "5Exn9z_nBQGV",
        "colab_type": "code",
        "outputId": "22f0458b-2e35-4fcb-9a86-64cfadf69bf8",
        "colab": {
          "base_uri": "https://localhost:8080/",
          "height": 185
        }
      },
      "source": [
        "Y = df1[\"OWN_OCCUPIED\"]\n",
        "Y"
      ],
      "execution_count": 0,
      "outputs": [
        {
          "output_type": "execute_result",
          "data": {
            "text/plain": [
              "0    Y\n",
              "1    N\n",
              "2    N\n",
              "3    N\n",
              "4    Y\n",
              "5    Y\n",
              "6    N\n",
              "7    Y\n",
              "8    Y\n",
              "Name: OWN_OCCUPIED, dtype: object"
            ]
          },
          "metadata": {
            "tags": []
          },
          "execution_count": 22
        }
      ]
    },
    {
      "cell_type": "code",
      "metadata": {
        "id": "BiDmxjfiUIVD",
        "colab_type": "code",
        "outputId": "6f02ef69-b9ac-4862-b9e4-00a631092bd4",
        "colab": {
          "base_uri": "https://localhost:8080/",
          "height": 178
        }
      },
      "source": [
        "df1.drop[\"OWN_OCCUPIED\"]\n",
        "X = df1"
      ],
      "execution_count": 0,
      "outputs": [
        {
          "output_type": "error",
          "ename": "TypeError",
          "evalue": "ignored",
          "traceback": [
            "\u001b[0;31m---------------------------------------------------------------------------\u001b[0m",
            "\u001b[0;31mTypeError\u001b[0m                                 Traceback (most recent call last)",
            "\u001b[0;32m<ipython-input-23-b470151ede90>\u001b[0m in \u001b[0;36m<module>\u001b[0;34m()\u001b[0m\n\u001b[0;32m----> 1\u001b[0;31m \u001b[0mdf1\u001b[0m\u001b[0;34m.\u001b[0m\u001b[0mdrop\u001b[0m\u001b[0;34m[\u001b[0m\u001b[0;34m\"OWN_OCCUPIED\"\u001b[0m\u001b[0;34m]\u001b[0m\u001b[0;34m\u001b[0m\u001b[0;34m\u001b[0m\u001b[0m\n\u001b[0m\u001b[1;32m      2\u001b[0m \u001b[0mX\u001b[0m \u001b[0;34m=\u001b[0m \u001b[0mdf1\u001b[0m\u001b[0;34m\u001b[0m\u001b[0;34m\u001b[0m\u001b[0m\n",
            "\u001b[0;31mTypeError\u001b[0m: 'method' object is not subscriptable"
          ]
        }
      ]
    },
    {
      "cell_type": "markdown",
      "metadata": {
        "colab_type": "text",
        "id": "fckEihNMSsdo"
      },
      "source": [
        "# **Support-Vector Machines**"
      ]
    },
    {
      "cell_type": "code",
      "metadata": {
        "id": "wBDgAEXUSp6R",
        "colab_type": "code",
        "outputId": "d759e533-1d15-421a-eabd-3ccad05a8d32",
        "colab": {
          "base_uri": "https://localhost:8080/",
          "height": 118
        }
      },
      "source": [
        "svc = LinearSVC()\n",
        "svc.fit(X_train, y_train)"
      ],
      "execution_count": 0,
      "outputs": [
        {
          "output_type": "stream",
          "text": [
            "/usr/local/lib/python3.6/dist-packages/sklearn/svm/_base.py:947: ConvergenceWarning: Liblinear failed to converge, increase the number of iterations.\n",
            "  \"the number of iterations.\", ConvergenceWarning)\n"
          ],
          "name": "stderr"
        },
        {
          "output_type": "execute_result",
          "data": {
            "text/plain": [
              "LinearSVC(C=1.0, class_weight=None, dual=True, fit_intercept=True,\n",
              "          intercept_scaling=1, loss='squared_hinge', max_iter=1000,\n",
              "          multi_class='ovr', penalty='l2', random_state=None, tol=0.0001,\n",
              "          verbose=0)"
            ]
          },
          "metadata": {
            "tags": []
          },
          "execution_count": 445
        }
      ]
    },
    {
      "cell_type": "code",
      "metadata": {
        "id": "Ou4jD5uVVCJF",
        "colab_type": "code",
        "outputId": "d4bc5787-f585-4d72-97ae-ec09861dd6c9",
        "colab": {
          "base_uri": "https://localhost:8080/",
          "height": 34
        }
      },
      "source": [
        "svc.score(X_test,y_test)"
      ],
      "execution_count": 0,
      "outputs": [
        {
          "output_type": "execute_result",
          "data": {
            "text/plain": [
              "0.3333333333333333"
            ]
          },
          "metadata": {
            "tags": []
          },
          "execution_count": 448
        }
      ]
    },
    {
      "cell_type": "code",
      "metadata": {
        "id": "Zp6yWDcBVRJ2",
        "colab_type": "code",
        "outputId": "5f2b1393-ade6-4da8-e761-d012a970902d",
        "colab": {
          "base_uri": "https://localhost:8080/",
          "height": 222
        }
      },
      "source": [
        "predictions3 = svc.predict(X_test)\n",
        "print(classification_report(y_test,predictions3))"
      ],
      "execution_count": 0,
      "outputs": [
        {
          "output_type": "stream",
          "text": [
            "              precision    recall  f1-score   support\n",
            "\n",
            "           N       0.33      1.00      0.50         1\n",
            "           Y       0.00      0.00      0.00         2\n",
            "\n",
            "    accuracy                           0.33         3\n",
            "   macro avg       0.17      0.50      0.25         3\n",
            "weighted avg       0.11      0.33      0.17         3\n",
            "\n"
          ],
          "name": "stdout"
        },
        {
          "output_type": "stream",
          "text": [
            "/usr/local/lib/python3.6/dist-packages/sklearn/metrics/_classification.py:1272: UndefinedMetricWarning: Precision and F-score are ill-defined and being set to 0.0 in labels with no predicted samples. Use `zero_division` parameter to control this behavior.\n",
            "  _warn_prf(average, modifier, msg_start, len(result))\n"
          ],
          "name": "stderr"
        }
      ]
    },
    {
      "cell_type": "code",
      "metadata": {
        "id": "o9Loh4lEVXKX",
        "colab_type": "code",
        "outputId": "796c7405-3ac1-43ba-db59-ac3f96aadc48",
        "colab": {
          "base_uri": "https://localhost:8080/",
          "height": 50
        }
      },
      "source": [
        "print(confusion_matrix(y_test,predictions3))"
      ],
      "execution_count": 0,
      "outputs": [
        {
          "output_type": "stream",
          "text": [
            "[[1 0]\n",
            " [2 0]]\n"
          ],
          "name": "stdout"
        }
      ]
    },
    {
      "cell_type": "markdown",
      "metadata": {
        "id": "_CKun6OAH3ja",
        "colab_type": "text"
      },
      "source": [
        "# **Logistic Regression**"
      ]
    },
    {
      "cell_type": "code",
      "metadata": {
        "id": "oGDbaqlW-r4O",
        "colab_type": "code",
        "colab": {}
      },
      "source": [
        "X_train, X_test, y_train, y_test = tts(X, Y, test_size=0.3, random_state=42)"
      ],
      "execution_count": 0,
      "outputs": []
    },
    {
      "cell_type": "code",
      "metadata": {
        "id": "VAWYEbf0EEBx",
        "colab_type": "code",
        "outputId": "5c959c56-20cd-4d08-bfda-dd99d0d5e023",
        "colab": {
          "base_uri": "https://localhost:8080/",
          "height": 34
        }
      },
      "source": [
        "clf = LogisticRegression()\n",
        "clf.fit(X_train,y_train)"
      ],
      "execution_count": 0,
      "outputs": [
        {
          "output_type": "execute_result",
          "data": {
            "text/plain": [
              "array(['N', 'N', 'N'], dtype=object)"
            ]
          },
          "metadata": {
            "tags": []
          },
          "execution_count": 371
        }
      ]
    },
    {
      "cell_type": "code",
      "metadata": {
        "id": "t55GfN-1E2D1",
        "colab_type": "code",
        "outputId": "02061adc-f301-4436-d781-7c483deadde7",
        "colab": {
          "base_uri": "https://localhost:8080/",
          "height": 34
        }
      },
      "source": [
        "clf.score(X_test,y_test)"
      ],
      "execution_count": 0,
      "outputs": [
        {
          "output_type": "execute_result",
          "data": {
            "text/plain": [
              "0.3333333333333333"
            ]
          },
          "metadata": {
            "tags": []
          },
          "execution_count": 370
        }
      ]
    },
    {
      "cell_type": "code",
      "metadata": {
        "id": "ju9RonhJDDz3",
        "colab_type": "code",
        "outputId": "f3bb83f8-5353-4e35-e15b-52e559eb829e",
        "colab": {
          "base_uri": "https://localhost:8080/",
          "height": 222
        }
      },
      "source": [
        "predictions = clf.predict(X_test)\n",
        "print(classification_report(y_test,predictions))"
      ],
      "execution_count": 0,
      "outputs": [
        {
          "output_type": "stream",
          "text": [
            "              precision    recall  f1-score   support\n",
            "\n",
            "           N       0.33      1.00      0.50         1\n",
            "           Y       0.00      0.00      0.00         2\n",
            "\n",
            "    accuracy                           0.33         3\n",
            "   macro avg       0.17      0.50      0.25         3\n",
            "weighted avg       0.11      0.33      0.17         3\n",
            "\n"
          ],
          "name": "stdout"
        },
        {
          "output_type": "stream",
          "text": [
            "/usr/local/lib/python3.6/dist-packages/sklearn/metrics/_classification.py:1272: UndefinedMetricWarning: Precision and F-score are ill-defined and being set to 0.0 in labels with no predicted samples. Use `zero_division` parameter to control this behavior.\n",
            "  _warn_prf(average, modifier, msg_start, len(result))\n"
          ],
          "name": "stderr"
        }
      ]
    },
    {
      "cell_type": "code",
      "metadata": {
        "id": "vVly8t79HnnS",
        "colab_type": "code",
        "outputId": "513233e8-834f-4b4b-f1fe-76510e27068f",
        "colab": {
          "base_uri": "https://localhost:8080/",
          "height": 50
        }
      },
      "source": [
        "print(confusion_matrix(y_test,predictions))"
      ],
      "execution_count": 0,
      "outputs": [
        {
          "output_type": "stream",
          "text": [
            "[[1 0]\n",
            " [2 0]]\n"
          ],
          "name": "stdout"
        }
      ]
    },
    {
      "cell_type": "markdown",
      "metadata": {
        "colab_type": "text",
        "id": "hFVFCayFOxLK"
      },
      "source": [
        "# **Linear Regression**"
      ]
    },
    {
      "cell_type": "code",
      "metadata": {
        "id": "KUgIR-VQKjl4",
        "colab_type": "code",
        "outputId": "fe77842c-1049-4976-ded0-2f421a14971a",
        "colab": {
          "base_uri": "https://localhost:8080/",
          "height": 314
        }
      },
      "source": [
        "X"
      ],
      "execution_count": 0,
      "outputs": [
        {
          "output_type": "execute_result",
          "data": {
            "text/html": [
              "<div>\n",
              "<style scoped>\n",
              "    .dataframe tbody tr th:only-of-type {\n",
              "        vertical-align: middle;\n",
              "    }\n",
              "\n",
              "    .dataframe tbody tr th {\n",
              "        vertical-align: top;\n",
              "    }\n",
              "\n",
              "    .dataframe thead th {\n",
              "        text-align: right;\n",
              "    }\n",
              "</style>\n",
              "<table border=\"1\" class=\"dataframe\">\n",
              "  <thead>\n",
              "    <tr style=\"text-align: right;\">\n",
              "      <th></th>\n",
              "      <th>ST_NUM</th>\n",
              "      <th>NUM_BEDROOMS</th>\n",
              "      <th>NUM_BATH</th>\n",
              "      <th>SQ_FT</th>\n",
              "    </tr>\n",
              "  </thead>\n",
              "  <tbody>\n",
              "    <tr>\n",
              "      <th>0</th>\n",
              "      <td>104.0</td>\n",
              "      <td>3.0</td>\n",
              "      <td>1.0</td>\n",
              "      <td>1000.0</td>\n",
              "    </tr>\n",
              "    <tr>\n",
              "      <th>1</th>\n",
              "      <td>197.0</td>\n",
              "      <td>3.0</td>\n",
              "      <td>1.5</td>\n",
              "      <td>950.0</td>\n",
              "    </tr>\n",
              "    <tr>\n",
              "      <th>2</th>\n",
              "      <td>203.0</td>\n",
              "      <td>2.5</td>\n",
              "      <td>1.0</td>\n",
              "      <td>850.0</td>\n",
              "    </tr>\n",
              "    <tr>\n",
              "      <th>3</th>\n",
              "      <td>201.0</td>\n",
              "      <td>1.0</td>\n",
              "      <td>1.0</td>\n",
              "      <td>700.0</td>\n",
              "    </tr>\n",
              "    <tr>\n",
              "      <th>4</th>\n",
              "      <td>203.0</td>\n",
              "      <td>3.0</td>\n",
              "      <td>2.0</td>\n",
              "      <td>1600.0</td>\n",
              "    </tr>\n",
              "    <tr>\n",
              "      <th>5</th>\n",
              "      <td>207.0</td>\n",
              "      <td>2.5</td>\n",
              "      <td>1.0</td>\n",
              "      <td>800.0</td>\n",
              "    </tr>\n",
              "    <tr>\n",
              "      <th>6</th>\n",
              "      <td>203.0</td>\n",
              "      <td>2.0</td>\n",
              "      <td>1.0</td>\n",
              "      <td>950.0</td>\n",
              "    </tr>\n",
              "    <tr>\n",
              "      <th>7</th>\n",
              "      <td>213.0</td>\n",
              "      <td>1.0</td>\n",
              "      <td>1.0</td>\n",
              "      <td>950.0</td>\n",
              "    </tr>\n",
              "    <tr>\n",
              "      <th>8</th>\n",
              "      <td>215.0</td>\n",
              "      <td>2.5</td>\n",
              "      <td>2.0</td>\n",
              "      <td>1800.0</td>\n",
              "    </tr>\n",
              "  </tbody>\n",
              "</table>\n",
              "</div>"
            ],
            "text/plain": [
              "   ST_NUM  NUM_BEDROOMS  NUM_BATH   SQ_FT\n",
              "0   104.0           3.0       1.0  1000.0\n",
              "1   197.0           3.0       1.5   950.0\n",
              "2   203.0           2.5       1.0   850.0\n",
              "3   201.0           1.0       1.0   700.0\n",
              "4   203.0           3.0       2.0  1600.0\n",
              "5   207.0           2.5       1.0   800.0\n",
              "6   203.0           2.0       1.0   950.0\n",
              "7   213.0           1.0       1.0   950.0\n",
              "8   215.0           2.5       2.0  1800.0"
            ]
          },
          "metadata": {
            "tags": []
          },
          "execution_count": 377
        }
      ]
    },
    {
      "cell_type": "code",
      "metadata": {
        "id": "iPkZMjflJyAv",
        "colab_type": "code",
        "colab": {}
      },
      "source": [
        "\n",
        "Yy = X[\"NUM_BEDROOMS\"]"
      ],
      "execution_count": 0,
      "outputs": []
    },
    {
      "cell_type": "code",
      "metadata": {
        "id": "rj1dCRfBIG-t",
        "colab_type": "code",
        "colab": {}
      },
      "source": [
        "Xx = X[[\"ST_NUM\", \"NUM_BATH\", \"SQ_FT\"]]"
      ],
      "execution_count": 0,
      "outputs": []
    },
    {
      "cell_type": "code",
      "metadata": {
        "id": "FkDGLeVPIHIS",
        "colab_type": "code",
        "colab": {}
      },
      "source": [
        "Xx_train, Xx_test, Yy_train, Yy_test = tts(Xx, Yy, test_size=0.3, random_state=42)"
      ],
      "execution_count": 0,
      "outputs": []
    },
    {
      "cell_type": "code",
      "metadata": {
        "id": "spnWIMTSIHLK",
        "colab_type": "code",
        "colab": {}
      },
      "source": [
        "reg = LinearRegression()"
      ],
      "execution_count": 0,
      "outputs": []
    },
    {
      "cell_type": "code",
      "metadata": {
        "id": "V7D7ynaOIHQ2",
        "colab_type": "code",
        "outputId": "aaebaa19-2c43-4ced-d216-c6f8b45e22f7",
        "colab": {
          "base_uri": "https://localhost:8080/",
          "height": 34
        }
      },
      "source": [
        "reg.fit(Xx_train,Yy_train)"
      ],
      "execution_count": 0,
      "outputs": [
        {
          "output_type": "execute_result",
          "data": {
            "text/plain": [
              "LinearRegression(copy_X=True, fit_intercept=True, n_jobs=None, normalize=False)"
            ]
          },
          "metadata": {
            "tags": []
          },
          "execution_count": 441
        }
      ]
    },
    {
      "cell_type": "code",
      "metadata": {
        "id": "GP8boxVGIHOf",
        "colab_type": "code",
        "outputId": "012b0771-cdfa-4b1f-9f16-79b0224fc21e",
        "colab": {
          "base_uri": "https://localhost:8080/",
          "height": 34
        }
      },
      "source": [
        "reg.score(Xx_test,Yy_test)"
      ],
      "execution_count": 0,
      "outputs": [
        {
          "output_type": "execute_result",
          "data": {
            "text/plain": [
              "-0.4124607204687021"
            ]
          },
          "metadata": {
            "tags": []
          },
          "execution_count": 442
        }
      ]
    },
    {
      "cell_type": "code",
      "metadata": {
        "id": "j60uMpNeNcZv",
        "colab_type": "code",
        "outputId": "00aee01c-0c04-4cc6-c21f-5ec5c77b5aff",
        "colab": {
          "base_uri": "https://localhost:8080/",
          "height": 84
        }
      },
      "source": [
        "Yy_test"
      ],
      "execution_count": 0,
      "outputs": [
        {
          "output_type": "execute_result",
          "data": {
            "text/plain": [
              "7    1.0\n",
              "1    3.0\n",
              "5    2.5\n",
              "Name: NUM_BEDROOMS, dtype: float64"
            ]
          },
          "metadata": {
            "tags": []
          },
          "execution_count": 395
        }
      ]
    },
    {
      "cell_type": "code",
      "metadata": {
        "id": "yU3UHx27NKMA",
        "colab_type": "code",
        "outputId": "293aba72-1702-4743-f51c-544e5358c18f",
        "colab": {
          "base_uri": "https://localhost:8080/",
          "height": 34
        }
      },
      "source": [
        "predictions2 = reg.predict(Xx_test)\n",
        "predictions2"
      ],
      "execution_count": 0,
      "outputs": [
        {
          "output_type": "execute_result",
          "data": {
            "text/plain": [
              "array([1.94842878, 1.75705714, 1.71520228])"
            ]
          },
          "metadata": {
            "tags": []
          },
          "execution_count": 426
        }
      ]
    },
    {
      "cell_type": "code",
      "metadata": {
        "id": "ot1UaQJnSKmJ",
        "colab_type": "code",
        "outputId": "1757bc0e-3e6c-41c9-c7ce-e3e373411c12",
        "colab": {
          "base_uri": "https://localhost:8080/",
          "height": 84
        }
      },
      "source": [
        "Yy_test"
      ],
      "execution_count": 0,
      "outputs": [
        {
          "output_type": "execute_result",
          "data": {
            "text/plain": [
              "7    1.0\n",
              "1    3.0\n",
              "5    2.5\n",
              "Name: NUM_BEDROOMS, dtype: float64"
            ]
          },
          "metadata": {
            "tags": []
          },
          "execution_count": 427
        }
      ]
    },
    {
      "cell_type": "markdown",
      "metadata": {
        "id": "gM1LwVXrTji8",
        "colab_type": "text"
      },
      "source": [
        "As seen below, there is no Linear relationship between variables, hence bad performance"
      ]
    },
    {
      "cell_type": "code",
      "metadata": {
        "id": "CKt_2KRMOdFY",
        "colab_type": "code",
        "outputId": "c218a527-859f-4287-8494-b0600af01fde",
        "colab": {
          "base_uri": "https://localhost:8080/",
          "height": 265
        }
      },
      "source": [
        "plt.scatter(Xx[\"ST_NUM\"],Yy)\n",
        "plt.show()"
      ],
      "execution_count": 0,
      "outputs": [
        {
          "output_type": "display_data",
          "data": {
            "image/png": "[encoded data removed]",
            "text/plain": [
              "<Figure size 432x288 with 1 Axes>"
            ]
          },
          "metadata": {
            "tags": []
          }
        }
      ]
    },
    {
      "cell_type": "code",
      "metadata": {
        "id": "1pYrxdJuTd6Y",
        "colab_type": "code",
        "outputId": "a030f873-1a2e-48cf-aebc-9e1395e9b1f0",
        "colab": {
          "base_uri": "https://localhost:8080/",
          "height": 265
        }
      },
      "source": [
        "\n",
        "plt.scatter(Xx[\"SQ_FT\"],Yy)\n",
        "plt.show()"
      ],
      "execution_count": 0,
      "outputs": [
        {
          "output_type": "display_data",
          "data": {
            "image/png": "[encoded data removed]",
            "text/plain": [
              "<Figure size 432x288 with 1 Axes>"
            ]
          },
          "metadata": {
            "tags": []
          }
        }
      ]
    },
    {
      "cell_type": "code",
      "metadata": {
        "id": "VhkSJEBJTfXb",
        "colab_type": "code",
        "outputId": "ff485d9d-aceb-4577-a553-fa7bdbde666c",
        "colab": {
          "base_uri": "https://localhost:8080/",
          "height": 265
        }
      },
      "source": [
        "\n",
        "plt.scatter(Xx[\"NUM_BATH\"],Yy)\n",
        "plt.show()"
      ],
      "execution_count": 0,
      "outputs": [
        {
          "output_type": "display_data",
          "data": {
            "image/png": "[encoded data removed]",
            "text/plain": [
              "<Figure size 432x288 with 1 Axes>"
            ]
          },
          "metadata": {
            "tags": []
          }
        }
      ]
    },
    {
      "cell_type": "markdown",
      "metadata": {
        "colab_type": "text",
        "id": "JdR5e25aV7Y3"
      },
      "source": [
        "# **K-Means**"
      ]
    },
    {
      "cell_type": "code",
      "metadata": {
        "id": "2mGOkoJtbAIq",
        "colab_type": "code",
        "colab": {}
      },
      "source": [
        "# plot\n",
        "plt.scatter(\n",
        "   X[:, 0], X[:, 1],\n",
        "   c='white', marker='o',\n",
        "   edgecolor='black', s=50\n",
        ")\n",
        "plt.show()"
      ],
      "execution_count": 0,
      "outputs": []
    },
    {
      "cell_type": "code",
      "metadata": {
        "id": "3B5wN9_4V_j0",
        "colab_type": "code",
        "outputId": "0ec7cc81-1d5c-4aa4-bdf3-16b8f8562c48",
        "colab": {
          "base_uri": "https://localhost:8080/",
          "height": 295
        }
      },
      "source": [
        "wcss = []\n",
        "for i in range(1, 6):\n",
        "    kmeans = KMeans(n_clusters=i, init='k-means++', max_iter=300, n_init=10, random_state=0)\n",
        "    kmeans.fit(X_train)\n",
        "    wcss.append(kmeans.inertia_)\n",
        "plt.plot(range(1, 6), wcss)\n",
        "plt.title('Elbow Method')\n",
        "plt.xlabel('Number of clusters')\n",
        "plt.ylabel('WCSS')\n",
        "plt.show()"
      ],
      "execution_count": 0,
      "outputs": [
        {
          "output_type": "display_data",
          "data": {
            "image/png": "[encoded data removed]",
            "text/plain": [
              "<Figure size 432x288 with 1 Axes>"
            ]
          },
          "metadata": {
            "tags": []
          }
        }
      ]
    },
    {
      "cell_type": "code",
      "metadata": {
        "id": "360PFdqdXW9y",
        "colab_type": "code",
        "colab": {}
      },
      "source": [
        "kmeans = KMeans(n_clusters=2, init='k-means++', max_iter=300, n_init=10, random_state=0)\n",
        "pred_y = kmeans.fit_predict(X_test)"
      ],
      "execution_count": 0,
      "outputs": []
    },
    {
      "cell_type": "code",
      "metadata": {
        "id": "-6f-8QCOXdEX",
        "colab_type": "code",
        "outputId": "5056f7b6-292f-484d-8fd9-27239c60da78",
        "colab": {
          "base_uri": "https://localhost:8080/",
          "height": 136
        }
      },
      "source": [
        "X_test"
      ],
      "execution_count": 0,
      "outputs": [
        {
          "output_type": "execute_result",
          "data": {
            "text/html": [
              "<div>\n",
              "<style scoped>\n",
              "    .dataframe tbody tr th:only-of-type {\n",
              "        vertical-align: middle;\n",
              "    }\n",
              "\n",
              "    .dataframe tbody tr th {\n",
              "        vertical-align: top;\n",
              "    }\n",
              "\n",
              "    .dataframe thead th {\n",
              "        text-align: right;\n",
              "    }\n",
              "</style>\n",
              "<table border=\"1\" class=\"dataframe\">\n",
              "  <thead>\n",
              "    <tr style=\"text-align: right;\">\n",
              "      <th></th>\n",
              "      <th>ST_NUM</th>\n",
              "      <th>NUM_BEDROOMS</th>\n",
              "      <th>NUM_BATH</th>\n",
              "      <th>SQ_FT</th>\n",
              "    </tr>\n",
              "  </thead>\n",
              "  <tbody>\n",
              "    <tr>\n",
              "      <th>7</th>\n",
              "      <td>213.0</td>\n",
              "      <td>1.0</td>\n",
              "      <td>1.0</td>\n",
              "      <td>950.0</td>\n",
              "    </tr>\n",
              "    <tr>\n",
              "      <th>1</th>\n",
              "      <td>197.0</td>\n",
              "      <td>3.0</td>\n",
              "      <td>1.5</td>\n",
              "      <td>950.0</td>\n",
              "    </tr>\n",
              "    <tr>\n",
              "      <th>5</th>\n",
              "      <td>207.0</td>\n",
              "      <td>2.5</td>\n",
              "      <td>1.0</td>\n",
              "      <td>800.0</td>\n",
              "    </tr>\n",
              "  </tbody>\n",
              "</table>\n",
              "</div>"
            ],
            "text/plain": [
              "   ST_NUM  NUM_BEDROOMS  NUM_BATH  SQ_FT\n",
              "7   213.0           1.0       1.0  950.0\n",
              "1   197.0           3.0       1.5  950.0\n",
              "5   207.0           2.5       1.0  800.0"
            ]
          },
          "metadata": {
            "tags": []
          },
          "execution_count": 473
        }
      ]
    },
    {
      "cell_type": "code",
      "metadata": {
        "id": "iPfiUXvbXeu4",
        "colab_type": "code",
        "outputId": "a0dafb60-5041-4d9e-bbf0-05a1e703ce1b",
        "colab": {
          "base_uri": "https://localhost:8080/",
          "height": 84
        }
      },
      "source": [
        "y_test"
      ],
      "execution_count": 0,
      "outputs": [
        {
          "output_type": "execute_result",
          "data": {
            "text/plain": [
              "7    Y\n",
              "1    N\n",
              "5    Y\n",
              "Name: OWN_OCCUPIED, dtype: object"
            ]
          },
          "metadata": {
            "tags": []
          },
          "execution_count": 469
        }
      ]
    },
    {
      "cell_type": "code",
      "metadata": {
        "id": "ar6jzsN8U2Aq",
        "colab_type": "code",
        "colab": {}
      },
      "source": [
        "from google.colab import files\n",
        "import numpy as np\n",
        "import pandas as pd"
      ],
      "execution_count": 0,
      "outputs": []
    },
    {
      "cell_type": "code",
      "metadata": {
        "id": "jkefC5jWU998",
        "colab_type": "code",
        "outputId": "23393de0-fe60-4c94-a654-f2aaa8b99ad8",
        "colab": {
          "resources": {
            "http://localhost:8080/nbextensions/google.colab/files.js": {
              "data": "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",
              "ok": true,
              "headers": [
                [
                  "content-type",
                  "application/javascript"
                ]
              ],
              "status": 200,
              "status_text": ""
            }
          },
          "base_uri": "https://localhost:8080/",
          "height": 347
        }
      },
      "source": [
        "files =  files.upload()"
      ],
      "execution_count": 0,
      "outputs": [
        {
          "output_type": "display_data",
          "data": {
            "text/html": [
              "\n",
              "     <input type=\"file\" id=\"files-ac7a2920-e13e-4c83-90b5-3ff222aaf8d3\" name=\"files[]\" multiple disabled />\n",
              "     <output id=\"result-ac7a2920-e13e-4c83-90b5-3ff222aaf8d3\">\n",
              "      Upload widget is only available when the cell has been executed in the\n",
              "      current browser session. Please rerun this cell to enable.\n",
              "      </output>\n",
              "      <script src=\"/nbextensions/google.colab/files.js\"></script> "
            ],
            "text/plain": [
              "<IPython.core.display.HTML object>"
            ]
          },
          "metadata": {
            "tags": []
          }
        },
        {
          "output_type": "error",
          "ename": "KeyboardInterrupt",
          "evalue": "ignored",
          "traceback": [
            "\u001b[0;31m---------------------------------------------------------------------------\u001b[0m",
            "\u001b[0;31mKeyboardInterrupt\u001b[0m                         Traceback (most recent call last)",
            "\u001b[0;32m<ipython-input-4-63e8667e51b8>\u001b[0m in \u001b[0;36m<module>\u001b[0;34m()\u001b[0m\n\u001b[0;32m----> 1\u001b[0;31m \u001b[0mfiles\u001b[0m \u001b[0;34m=\u001b[0m  \u001b[0mfiles\u001b[0m\u001b[0;34m.\u001b[0m\u001b[0mupload\u001b[0m\u001b[0;34m(\u001b[0m\u001b[0;34m)\u001b[0m\u001b[0;34m\u001b[0m\u001b[0;34m\u001b[0m\u001b[0m\n\u001b[0m",
            "\u001b[0;32m/usr/local/lib/python3.6/dist-packages/google/colab/files.py\u001b[0m in \u001b[0;36mupload\u001b[0;34m()\u001b[0m\n\u001b[1;32m     70\u001b[0m     result = _output.eval_js(\n\u001b[1;32m     71\u001b[0m         'google.colab._files._uploadFilesContinue(\"{output_id}\")'.format(\n\u001b[0;32m---> 72\u001b[0;31m             output_id=output_id))\n\u001b[0m\u001b[1;32m     73\u001b[0m     \u001b[0;32mif\u001b[0m \u001b[0mresult\u001b[0m\u001b[0;34m[\u001b[0m\u001b[0;34m'action'\u001b[0m\u001b[0;34m]\u001b[0m \u001b[0;34m!=\u001b[0m \u001b[0;34m'append'\u001b[0m\u001b[0;34m:\u001b[0m\u001b[0;34m\u001b[0m\u001b[0;34m\u001b[0m\u001b[0m\n\u001b[1;32m     74\u001b[0m       \u001b[0;31m# JS side uses a generator of promises to process all of the files- some\u001b[0m\u001b[0;34m\u001b[0m\u001b[0;34m\u001b[0m\u001b[0;34m\u001b[0m\u001b[0m\n",
            "\u001b[0;32m/usr/local/lib/python3.6/dist-packages/google/colab/output/_js.py\u001b[0m in \u001b[0;36meval_js\u001b[0;34m(script, ignore_result)\u001b[0m\n\u001b[1;32m     37\u001b[0m   \u001b[0;32mif\u001b[0m \u001b[0mignore_result\u001b[0m\u001b[0;34m:\u001b[0m\u001b[0;34m\u001b[0m\u001b[0;34m\u001b[0m\u001b[0m\n\u001b[1;32m     38\u001b[0m     \u001b[0;32mreturn\u001b[0m\u001b[0;34m\u001b[0m\u001b[0;34m\u001b[0m\u001b[0m\n\u001b[0;32m---> 39\u001b[0;31m   \u001b[0;32mreturn\u001b[0m \u001b[0m_message\u001b[0m\u001b[0;34m.\u001b[0m\u001b[0mread_reply_from_input\u001b[0m\u001b[0;34m(\u001b[0m\u001b[0mrequest_id\u001b[0m\u001b[0;34m)\u001b[0m\u001b[0;34m\u001b[0m\u001b[0;34m\u001b[0m\u001b[0m\n\u001b[0m\u001b[1;32m     40\u001b[0m \u001b[0;34m\u001b[0m\u001b[0m\n\u001b[1;32m     41\u001b[0m \u001b[0;34m\u001b[0m\u001b[0m\n",
            "\u001b[0;32m/usr/local/lib/python3.6/dist-packages/google/colab/_message.py\u001b[0m in \u001b[0;36mread_reply_from_input\u001b[0;34m(message_id, timeout_sec)\u001b[0m\n\u001b[1;32m     99\u001b[0m     \u001b[0mreply\u001b[0m \u001b[0;34m=\u001b[0m \u001b[0m_read_next_input_message\u001b[0m\u001b[0;34m(\u001b[0m\u001b[0;34m)\u001b[0m\u001b[0;34m\u001b[0m\u001b[0;34m\u001b[0m\u001b[0m\n\u001b[1;32m    100\u001b[0m     \u001b[0;32mif\u001b[0m \u001b[0mreply\u001b[0m \u001b[0;34m==\u001b[0m \u001b[0m_NOT_READY\u001b[0m \u001b[0;32mor\u001b[0m \u001b[0;32mnot\u001b[0m \u001b[0misinstance\u001b[0m\u001b[0;34m(\u001b[0m\u001b[0mreply\u001b[0m\u001b[0;34m,\u001b[0m \u001b[0mdict\u001b[0m\u001b[0;34m)\u001b[0m\u001b[0;34m:\u001b[0m\u001b[0;34m\u001b[0m\u001b[0;34m\u001b[0m\u001b[0m\n\u001b[0;32m--> 101\u001b[0;31m       \u001b[0mtime\u001b[0m\u001b[0;34m.\u001b[0m\u001b[0msleep\u001b[0m\u001b[0;34m(\u001b[0m\u001b[0;36m0.025\u001b[0m\u001b[0;34m)\u001b[0m\u001b[0;34m\u001b[0m\u001b[0;34m\u001b[0m\u001b[0m\n\u001b[0m\u001b[1;32m    102\u001b[0m       \u001b[0;32mcontinue\u001b[0m\u001b[0;34m\u001b[0m\u001b[0;34m\u001b[0m\u001b[0m\n\u001b[1;32m    103\u001b[0m     if (reply.get('type') == 'colab_reply' and\n",
            "\u001b[0;31mKeyboardInterrupt\u001b[0m: "
          ]
        }
      ]
    },
    {
      "cell_type": "code",
      "metadata": {
        "id": "Hmhc24SmVAm7",
        "colab_type": "code",
        "outputId": "b3e3689e-177a-42ae-c5ad-4903bd18deb0",
        "colab": {
          "base_uri": "https://localhost:8080/",
          "height": 800
        }
      },
      "source": [
        "weather = pd.read_csv(\"/content/sudeste.csv\")"
      ],
      "execution_count": 0,
      "outputs": [
        {
          "output_type": "error",
          "ename": "UnicodeDecodeError",
          "evalue": "ignored",
          "traceback": [
            "\u001b[0;31m---------------------------------------------------------------------------\u001b[0m",
            "\u001b[0;31mUnicodeDecodeError\u001b[0m                        Traceback (most recent call last)",
            "\u001b[0;32mpandas/_libs/parsers.pyx\u001b[0m in \u001b[0;36mpandas._libs.parsers.TextReader._convert_tokens\u001b[0;34m()\u001b[0m\n",
            "\u001b[0;32mpandas/_libs/parsers.pyx\u001b[0m in \u001b[0;36mpandas._libs.parsers.TextReader._convert_with_dtype\u001b[0;34m()\u001b[0m\n",
            "\u001b[0;32mpandas/_libs/parsers.pyx\u001b[0m in \u001b[0;36mpandas._libs.parsers.TextReader._string_convert\u001b[0;34m()\u001b[0m\n",
            "\u001b[0;32mpandas/_libs/parsers.pyx\u001b[0m in \u001b[0;36mpandas._libs.parsers._string_box_utf8\u001b[0;34m()\u001b[0m\n",
            "\u001b[0;31mUnicodeDecodeError\u001b[0m: 'utf-8' codec can't decode byte 0xc3 in position 8: unexpected end of data",
            "\nDuring handling of the above exception, another exception occurred:\n",
            "\u001b[0;31mUnicodeDecodeError\u001b[0m                        Traceback (most recent call last)",
            "\u001b[0;32m<ipython-input-7-95c1a8ab5f4f>\u001b[0m in \u001b[0;36m<module>\u001b[0;34m()\u001b[0m\n\u001b[0;32m----> 1\u001b[0;31m \u001b[0mweather\u001b[0m \u001b[0;34m=\u001b[0m \u001b[0mpd\u001b[0m\u001b[0;34m.\u001b[0m\u001b[0mread_csv\u001b[0m\u001b[0;34m(\u001b[0m\u001b[0;34m\"/content/sudeste.csv\"\u001b[0m\u001b[0;34m)\u001b[0m\u001b[0;34m\u001b[0m\u001b[0;34m\u001b[0m\u001b[0m\n\u001b[0m",
            "\u001b[0;32m/usr/local/lib/python3.6/dist-packages/pandas/io/parsers.py\u001b[0m in \u001b[0;36mparser_f\u001b[0;34m(filepath_or_buffer, sep, delimiter, header, names, index_col, usecols, squeeze, prefix, mangle_dupe_cols, dtype, engine, converters, true_values, false_values, skipinitialspace, skiprows, skipfooter, nrows, na_values, keep_default_na, na_filter, verbose, skip_blank_lines, parse_dates, infer_datetime_format, keep_date_col, date_parser, dayfirst, cache_dates, iterator, chunksize, compression, thousands, decimal, lineterminator, quotechar, quoting, doublequote, escapechar, comment, encoding, dialect, error_bad_lines, warn_bad_lines, delim_whitespace, low_memory, memory_map, float_precision)\u001b[0m\n\u001b[1;32m    683\u001b[0m         )\n\u001b[1;32m    684\u001b[0m \u001b[0;34m\u001b[0m\u001b[0m\n\u001b[0;32m--> 685\u001b[0;31m         \u001b[0;32mreturn\u001b[0m \u001b[0m_read\u001b[0m\u001b[0;34m(\u001b[0m\u001b[0mfilepath_or_buffer\u001b[0m\u001b[0;34m,\u001b[0m \u001b[0mkwds\u001b[0m\u001b[0;34m)\u001b[0m\u001b[0;34m\u001b[0m\u001b[0;34m\u001b[0m\u001b[0m\n\u001b[0m\u001b[1;32m    686\u001b[0m \u001b[0;34m\u001b[0m\u001b[0m\n\u001b[1;32m    687\u001b[0m     \u001b[0mparser_f\u001b[0m\u001b[0;34m.\u001b[0m\u001b[0m__name__\u001b[0m \u001b[0;34m=\u001b[0m \u001b[0mname\u001b[0m\u001b[0;34m\u001b[0m\u001b[0;34m\u001b[0m\u001b[0m\n",
            "\u001b[0;32m/usr/local/lib/python3.6/dist-packages/pandas/io/parsers.py\u001b[0m in \u001b[0;36m_read\u001b[0;34m(filepath_or_buffer, kwds)\u001b[0m\n\u001b[1;32m    461\u001b[0m \u001b[0;34m\u001b[0m\u001b[0m\n\u001b[1;32m    462\u001b[0m     \u001b[0;32mtry\u001b[0m\u001b[0;34m:\u001b[0m\u001b[0;34m\u001b[0m\u001b[0;34m\u001b[0m\u001b[0m\n\u001b[0;32m--> 463\u001b[0;31m         \u001b[0mdata\u001b[0m \u001b[0;34m=\u001b[0m \u001b[0mparser\u001b[0m\u001b[0;34m.\u001b[0m\u001b[0mread\u001b[0m\u001b[0;34m(\u001b[0m\u001b[0mnrows\u001b[0m\u001b[0;34m)\u001b[0m\u001b[0;34m\u001b[0m\u001b[0;34m\u001b[0m\u001b[0m\n\u001b[0m\u001b[1;32m    464\u001b[0m     \u001b[0;32mfinally\u001b[0m\u001b[0;34m:\u001b[0m\u001b[0;34m\u001b[0m\u001b[0;34m\u001b[0m\u001b[0m\n\u001b[1;32m    465\u001b[0m         \u001b[0mparser\u001b[0m\u001b[0;34m.\u001b[0m\u001b[0mclose\u001b[0m\u001b[0;34m(\u001b[0m\u001b[0;34m)\u001b[0m\u001b[0;34m\u001b[0m\u001b[0;34m\u001b[0m\u001b[0m\n",
            "\u001b[0;32m/usr/local/lib/python3.6/dist-packages/pandas/io/parsers.py\u001b[0m in \u001b[0;36mread\u001b[0;34m(self, nrows)\u001b[0m\n\u001b[1;32m   1152\u001b[0m     \u001b[0;32mdef\u001b[0m \u001b[0mread\u001b[0m\u001b[0;34m(\u001b[0m\u001b[0mself\u001b[0m\u001b[0;34m,\u001b[0m \u001b[0mnrows\u001b[0m\u001b[0;34m=\u001b[0m\u001b[0;32mNone\u001b[0m\u001b[0;34m)\u001b[0m\u001b[0;34m:\u001b[0m\u001b[0;34m\u001b[0m\u001b[0;34m\u001b[0m\u001b[0m\n\u001b[1;32m   1153\u001b[0m         \u001b[0mnrows\u001b[0m \u001b[0;34m=\u001b[0m \u001b[0m_validate_integer\u001b[0m\u001b[0;34m(\u001b[0m\u001b[0;34m\"nrows\"\u001b[0m\u001b[0;34m,\u001b[0m \u001b[0mnrows\u001b[0m\u001b[0;34m)\u001b[0m\u001b[0;34m\u001b[0m\u001b[0;34m\u001b[0m\u001b[0m\n\u001b[0;32m-> 1154\u001b[0;31m         \u001b[0mret\u001b[0m \u001b[0;34m=\u001b[0m \u001b[0mself\u001b[0m\u001b[0;34m.\u001b[0m\u001b[0m_engine\u001b[0m\u001b[0;34m.\u001b[0m\u001b[0mread\u001b[0m\u001b[0;34m(\u001b[0m\u001b[0mnrows\u001b[0m\u001b[0;34m)\u001b[0m\u001b[0;34m\u001b[0m\u001b[0;34m\u001b[0m\u001b[0m\n\u001b[0m\u001b[1;32m   1155\u001b[0m \u001b[0;34m\u001b[0m\u001b[0m\n\u001b[1;32m   1156\u001b[0m         \u001b[0;31m# May alter columns / col_dict\u001b[0m\u001b[0;34m\u001b[0m\u001b[0;34m\u001b[0m\u001b[0;34m\u001b[0m\u001b[0m\n",
            "\u001b[0;32m/usr/local/lib/python3.6/dist-packages/pandas/io/parsers.py\u001b[0m in \u001b[0;36mread\u001b[0;34m(self, nrows)\u001b[0m\n\u001b[1;32m   2057\u001b[0m     \u001b[0;32mdef\u001b[0m \u001b[0mread\u001b[0m\u001b[0;34m(\u001b[0m\u001b[0mself\u001b[0m\u001b[0;34m,\u001b[0m \u001b[0mnrows\u001b[0m\u001b[0;34m=\u001b[0m\u001b[0;32mNone\u001b[0m\u001b[0;34m)\u001b[0m\u001b[0;34m:\u001b[0m\u001b[0;34m\u001b[0m\u001b[0;34m\u001b[0m\u001b[0m\n\u001b[1;32m   2058\u001b[0m         \u001b[0;32mtry\u001b[0m\u001b[0;34m:\u001b[0m\u001b[0;34m\u001b[0m\u001b[0;34m\u001b[0m\u001b[0m\n\u001b[0;32m-> 2059\u001b[0;31m             \u001b[0mdata\u001b[0m \u001b[0;34m=\u001b[0m \u001b[0mself\u001b[0m\u001b[0;34m.\u001b[0m\u001b[0m_reader\u001b[0m\u001b[0;34m.\u001b[0m\u001b[0mread\u001b[0m\u001b[0;34m(\u001b[0m\u001b[0mnrows\u001b[0m\u001b[0;34m)\u001b[0m\u001b[0;34m\u001b[0m\u001b[0;34m\u001b[0m\u001b[0m\n\u001b[0m\u001b[1;32m   2060\u001b[0m         \u001b[0;32mexcept\u001b[0m \u001b[0mStopIteration\u001b[0m\u001b[0;34m:\u001b[0m\u001b[0;34m\u001b[0m\u001b[0;34m\u001b[0m\u001b[0m\n\u001b[1;32m   2061\u001b[0m             \u001b[0;32mif\u001b[0m \u001b[0mself\u001b[0m\u001b[0;34m.\u001b[0m\u001b[0m_first_chunk\u001b[0m\u001b[0;34m:\u001b[0m\u001b[0;34m\u001b[0m\u001b[0;34m\u001b[0m\u001b[0m\n",
            "\u001b[0;32mpandas/_libs/parsers.pyx\u001b[0m in \u001b[0;36mpandas._libs.parsers.TextReader.read\u001b[0;34m()\u001b[0m\n",
            "\u001b[0;32mpandas/_libs/parsers.pyx\u001b[0m in \u001b[0;36mpandas._libs.parsers.TextReader._read_low_memory\u001b[0;34m()\u001b[0m\n",
            "\u001b[0;32mpandas/_libs/parsers.pyx\u001b[0m in \u001b[0;36mpandas._libs.parsers.TextReader._read_rows\u001b[0;34m()\u001b[0m\n",
            "\u001b[0;32mpandas/_libs/parsers.pyx\u001b[0m in \u001b[0;36mpandas._libs.parsers.TextReader._convert_column_data\u001b[0;34m()\u001b[0m\n",
            "\u001b[0;32mpandas/_libs/parsers.pyx\u001b[0m in \u001b[0;36mpandas._libs.parsers.TextReader._convert_tokens\u001b[0;34m()\u001b[0m\n",
            "\u001b[0;32mpandas/_libs/parsers.pyx\u001b[0m in \u001b[0;36mpandas._libs.parsers.TextReader._convert_with_dtype\u001b[0;34m()\u001b[0m\n",
            "\u001b[0;32mpandas/_libs/parsers.pyx\u001b[0m in \u001b[0;36mpandas._libs.parsers.TextReader._string_convert\u001b[0;34m()\u001b[0m\n",
            "\u001b[0;32mpandas/_libs/parsers.pyx\u001b[0m in \u001b[0;36mpandas._libs.parsers._string_box_utf8\u001b[0;34m()\u001b[0m\n",
            "\u001b[0;31mUnicodeDecodeError\u001b[0m: 'utf-8' codec can't decode byte 0xc3 in position 8: unexpected end of data"
          ]
        }
      ]
    },
    {
      "cell_type": "code",
      "metadata": {
        "id": "E90dJnbNYMY2",
        "colab_type": "code",
        "colab": {}
      },
      "source": [
        ""
      ],
      "execution_count": 0,
      "outputs": []
    }
  ]
}